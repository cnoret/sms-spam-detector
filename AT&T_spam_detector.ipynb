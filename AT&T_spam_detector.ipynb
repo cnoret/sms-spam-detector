{
 "cells": [
  {
   "attachments": {},
   "cell_type": "markdown",
   "metadata": {},
   "source": [
    "<img src=\"https://full-stack-assets.s3.eu-west-3.amazonaws.com/M08-deep-learning/AT%26T_logo_2016.svg\" alt=\"AT&T LOGO\" width=\"50%\" />\n",
    "\n",
    "# SMS Spam Detector\n"
   ]
  },
  {
   "attachments": {},
   "cell_type": "markdown",
   "metadata": {},
   "source": [
    "## Project 🚧\n",
    "\n",
    "One of the main pain point that AT&T users are facing is constant exposure to SPAM messages.\n",
    "\n",
    "AT&T has been able to manually flag spam messages for a time, but they are looking for an automated way of detecting spams to protect their users.\n"
   ]
  },
  {
   "attachments": {},
   "cell_type": "markdown",
   "metadata": {},
   "source": [
    "## Goals 🎯\n",
    "\n",
    "Your goal is to build a spam detector, that can automatically flag spams as they come based solely on the sms' content.\n"
   ]
  },
  {
   "cell_type": "markdown",
   "metadata": {},
   "source": [
    "## Imports\n"
   ]
  },
  {
   "cell_type": "code",
   "execution_count": 227,
   "metadata": {},
   "outputs": [],
   "source": [
    "# General libraries\n",
    "import numpy as np\n",
    "import pandas as pd\n",
    "from PIL import Image\n",
    "from collections import Counter\n",
    "\n",
    "# Visualization\n",
    "import plotly.express as px\n",
    "import matplotlib.pyplot as plt\n",
    "\n",
    "# Text processing\n",
    "import re\n",
    "import spacy\n",
    "import en_core_web_sm\n",
    "from wordcloud import WordCloud\n",
    "from spacy.lang.en.stop_words import STOP_WORDS\n",
    "from tensorflow.keras.preprocessing.text import Tokenizer\n",
    "from tensorflow.keras.preprocessing.sequence import pad_sequences\n",
    "\n",
    "# Scikit-learn\n",
    "from sklearn.model_selection import train_test_split\n",
    "from sklearn.metrics import confusion_matrix, ConfusionMatrixDisplay, classification_report\n",
    "\n",
    "# Tensorflow\n",
    "from tensorflow.data import Dataset\n",
    "from tensorflow.keras.models import Sequential\n",
    "from tensorflow.keras.layers import Input, Embedding, Dense, Dropout, GlobalAveragePooling1D\n",
    "from tensorflow.keras.metrics import BinaryAccuracy, Precision, Recall\n",
    "from transformers import BertTokenizer, TFBertForSequenceClassification"
   ]
  },
  {
   "cell_type": "markdown",
   "metadata": {},
   "source": [
    "## Data Preparation\n"
   ]
  },
  {
   "cell_type": "code",
   "execution_count": 3,
   "metadata": {},
   "outputs": [],
   "source": [
    "# Loading dataset\n",
    "file_path = \"data/spam.csv\"\n",
    "data = pd.read_csv(file_path, encoding=\"latin-1\")"
   ]
  },
  {
   "cell_type": "code",
   "execution_count": 4,
   "metadata": {},
   "outputs": [
    {
     "name": "stdout",
     "output_type": "stream",
     "text": [
      "Dataset Info:\n",
      "\n",
      "<class 'pandas.core.frame.DataFrame'>\n",
      "RangeIndex: 5572 entries, 0 to 5571\n",
      "Data columns (total 5 columns):\n",
      " #   Column      Non-Null Count  Dtype \n",
      "---  ------      --------------  ----- \n",
      " 0   v1          5572 non-null   object\n",
      " 1   v2          5572 non-null   object\n",
      " 2   Unnamed: 2  50 non-null     object\n",
      " 3   Unnamed: 3  12 non-null     object\n",
      " 4   Unnamed: 4  6 non-null      object\n",
      "dtypes: object(5)\n",
      "memory usage: 217.8+ KB\n",
      "None\n",
      "\n",
      "Missing values:\n",
      "\n",
      "v1               0\n",
      "v2               0\n",
      "Unnamed: 2    5522\n",
      "Unnamed: 3    5560\n",
      "Unnamed: 4    5566\n",
      "dtype: int64\n",
      "\n",
      "First 5 rows:\n",
      "\n"
     ]
    },
    {
     "data": {
      "text/html": [
       "<div>\n",
       "<style scoped>\n",
       "    .dataframe tbody tr th:only-of-type {\n",
       "        vertical-align: middle;\n",
       "    }\n",
       "\n",
       "    .dataframe tbody tr th {\n",
       "        vertical-align: top;\n",
       "    }\n",
       "\n",
       "    .dataframe thead th {\n",
       "        text-align: right;\n",
       "    }\n",
       "</style>\n",
       "<table border=\"1\" class=\"dataframe\">\n",
       "  <thead>\n",
       "    <tr style=\"text-align: right;\">\n",
       "      <th></th>\n",
       "      <th>v1</th>\n",
       "      <th>v2</th>\n",
       "      <th>Unnamed: 2</th>\n",
       "      <th>Unnamed: 3</th>\n",
       "      <th>Unnamed: 4</th>\n",
       "    </tr>\n",
       "  </thead>\n",
       "  <tbody>\n",
       "    <tr>\n",
       "      <th>0</th>\n",
       "      <td>ham</td>\n",
       "      <td>Go until jurong point, crazy.. Available only ...</td>\n",
       "      <td>NaN</td>\n",
       "      <td>NaN</td>\n",
       "      <td>NaN</td>\n",
       "    </tr>\n",
       "    <tr>\n",
       "      <th>1</th>\n",
       "      <td>ham</td>\n",
       "      <td>Ok lar... Joking wif u oni...</td>\n",
       "      <td>NaN</td>\n",
       "      <td>NaN</td>\n",
       "      <td>NaN</td>\n",
       "    </tr>\n",
       "    <tr>\n",
       "      <th>2</th>\n",
       "      <td>spam</td>\n",
       "      <td>Free entry in 2 a wkly comp to win FA Cup fina...</td>\n",
       "      <td>NaN</td>\n",
       "      <td>NaN</td>\n",
       "      <td>NaN</td>\n",
       "    </tr>\n",
       "    <tr>\n",
       "      <th>3</th>\n",
       "      <td>ham</td>\n",
       "      <td>U dun say so early hor... U c already then say...</td>\n",
       "      <td>NaN</td>\n",
       "      <td>NaN</td>\n",
       "      <td>NaN</td>\n",
       "    </tr>\n",
       "    <tr>\n",
       "      <th>4</th>\n",
       "      <td>ham</td>\n",
       "      <td>Nah I don't think he goes to usf, he lives aro...</td>\n",
       "      <td>NaN</td>\n",
       "      <td>NaN</td>\n",
       "      <td>NaN</td>\n",
       "    </tr>\n",
       "  </tbody>\n",
       "</table>\n",
       "</div>"
      ],
      "text/plain": [
       "     v1                                                 v2 Unnamed: 2  \\\n",
       "0   ham  Go until jurong point, crazy.. Available only ...        NaN   \n",
       "1   ham                      Ok lar... Joking wif u oni...        NaN   \n",
       "2  spam  Free entry in 2 a wkly comp to win FA Cup fina...        NaN   \n",
       "3   ham  U dun say so early hor... U c already then say...        NaN   \n",
       "4   ham  Nah I don't think he goes to usf, he lives aro...        NaN   \n",
       "\n",
       "  Unnamed: 3 Unnamed: 4  \n",
       "0        NaN        NaN  \n",
       "1        NaN        NaN  \n",
       "2        NaN        NaN  \n",
       "3        NaN        NaN  \n",
       "4        NaN        NaN  "
      ]
     },
     "execution_count": 4,
     "metadata": {},
     "output_type": "execute_result"
    }
   ],
   "source": [
    "# Initial dataset overview\n",
    "print(\"Dataset Info:\\n\")\n",
    "print(data.info())\n",
    "\n",
    "# Check for missing values\n",
    "print(\"\\nMissing values:\\n\")\n",
    "print(data.isnull().sum())\n",
    "\n",
    "print(\"\\nFirst 5 rows:\\n\")\n",
    "data.head()"
   ]
  },
  {
   "cell_type": "markdown",
   "metadata": {},
   "source": [
    "## Data cleaning\n"
   ]
  },
  {
   "cell_type": "code",
   "execution_count": 5,
   "metadata": {},
   "outputs": [
    {
     "data": {
      "text/html": [
       "<div>\n",
       "<style scoped>\n",
       "    .dataframe tbody tr th:only-of-type {\n",
       "        vertical-align: middle;\n",
       "    }\n",
       "\n",
       "    .dataframe tbody tr th {\n",
       "        vertical-align: top;\n",
       "    }\n",
       "\n",
       "    .dataframe thead th {\n",
       "        text-align: right;\n",
       "    }\n",
       "</style>\n",
       "<table border=\"1\" class=\"dataframe\">\n",
       "  <thead>\n",
       "    <tr style=\"text-align: right;\">\n",
       "      <th></th>\n",
       "      <th>label</th>\n",
       "      <th>message</th>\n",
       "    </tr>\n",
       "  </thead>\n",
       "  <tbody>\n",
       "    <tr>\n",
       "      <th>0</th>\n",
       "      <td>0</td>\n",
       "      <td>Go until jurong point, crazy.. Available only ...</td>\n",
       "    </tr>\n",
       "    <tr>\n",
       "      <th>1</th>\n",
       "      <td>0</td>\n",
       "      <td>Ok lar... Joking wif u oni...</td>\n",
       "    </tr>\n",
       "    <tr>\n",
       "      <th>2</th>\n",
       "      <td>1</td>\n",
       "      <td>Free entry in 2 a wkly comp to win FA Cup fina...</td>\n",
       "    </tr>\n",
       "    <tr>\n",
       "      <th>3</th>\n",
       "      <td>0</td>\n",
       "      <td>U dun say so early hor... U c already then say...</td>\n",
       "    </tr>\n",
       "    <tr>\n",
       "      <th>4</th>\n",
       "      <td>0</td>\n",
       "      <td>Nah I don't think he goes to usf, he lives aro...</td>\n",
       "    </tr>\n",
       "  </tbody>\n",
       "</table>\n",
       "</div>"
      ],
      "text/plain": [
       "   label                                            message\n",
       "0      0  Go until jurong point, crazy.. Available only ...\n",
       "1      0                   Ok lar... Joking wif u oni...   \n",
       "2      1  Free entry in 2 a wkly comp to win FA Cup fina...\n",
       "3      0  U dun say so early hor... U c already then say...\n",
       "4      0  Nah I don't think he goes to usf, he lives aro..."
      ]
     },
     "execution_count": 5,
     "metadata": {},
     "output_type": "execute_result"
    }
   ],
   "source": [
    "# Combine all relevant columns into the message column\n",
    "data['message'] = data[['v2', 'Unnamed: 2', 'Unnamed: 3', 'Unnamed: 4']].fillna('').agg(' '.join, axis=1)\n",
    "\n",
    "# Retain only relevant columns and rename them\n",
    "data = data[['v1', 'message']].rename(columns={'v1': 'label'})\n",
    "\n",
    "# Convert labels to numerical format\n",
    "data['label'] = data['label'].map({'ham': 0, 'spam': 1})\n",
    "data.head()"
   ]
  },
  {
   "cell_type": "code",
   "execution_count": 6,
   "metadata": {},
   "outputs": [
    {
     "name": "stdout",
     "output_type": "stream",
     "text": [
      "\n",
      "Missing values:\n",
      "\n",
      "label      0\n",
      "message    0\n",
      "dtype: int64\n"
     ]
    }
   ],
   "source": [
    "# Check for missing values\n",
    "print(\"\\nMissing values:\\n\")\n",
    "print(data.isnull().sum())"
   ]
  },
  {
   "cell_type": "markdown",
   "metadata": {},
   "source": [
    "## Data Exploration\n"
   ]
  },
  {
   "cell_type": "markdown",
   "metadata": {},
   "source": [
    "### Class Distribution"
   ]
  },
  {
   "cell_type": "code",
   "execution_count": 7,
   "metadata": {},
   "outputs": [
    {
     "name": "stdout",
     "output_type": "stream",
     "text": [
      "\n",
      "Class Distribution:\n",
      "\n",
      "label\n",
      "0    4825\n",
      "1     747\n",
      "Name: count, dtype: int64\n"
     ]
    }
   ],
   "source": [
    "# Class distribution\n",
    "class_distribution = data[\"label\"].value_counts()\n",
    "print(\"\\nClass Distribution:\\n\")\n",
    "print(class_distribution)"
   ]
  },
  {
   "cell_type": "code",
   "execution_count": 8,
   "metadata": {},
   "outputs": [
    {
     "data": {
      "application/vnd.plotly.v1+json": {
       "config": {
        "plotlyServerURL": "https://plot.ly"
       },
       "data": [
        {
         "alignmentgroup": "True",
         "hovertemplate": "label=%{marker.color}<br>Count=%{y}<extra></extra>",
         "legendgroup": "",
         "marker": {
          "color": [
           0,
           1
          ],
          "coloraxis": "coloraxis",
          "pattern": {
           "shape": ""
          }
         },
         "name": "",
         "offsetgroup": "",
         "orientation": "v",
         "showlegend": false,
         "textposition": "auto",
         "type": "bar",
         "x": [
          0,
          1
         ],
         "xaxis": "x",
         "y": [
          4825,
          747
         ],
         "yaxis": "y"
        }
       ],
       "layout": {
        "barmode": "relative",
        "coloraxis": {
         "colorbar": {
          "title": {
           "text": "label"
          }
         },
         "colorscale": [
          [
           0,
           "#0d0887"
          ],
          [
           0.1111111111111111,
           "#46039f"
          ],
          [
           0.2222222222222222,
           "#7201a8"
          ],
          [
           0.3333333333333333,
           "#9c179e"
          ],
          [
           0.4444444444444444,
           "#bd3786"
          ],
          [
           0.5555555555555556,
           "#d8576b"
          ],
          [
           0.6666666666666666,
           "#ed7953"
          ],
          [
           0.7777777777777778,
           "#fb9f3a"
          ],
          [
           0.8888888888888888,
           "#fdca26"
          ],
          [
           1,
           "#f0f921"
          ]
         ]
        },
        "legend": {
         "tracegroupgap": 0
        },
        "template": {
         "data": {
          "bar": [
           {
            "error_x": {
             "color": "#2a3f5f"
            },
            "error_y": {
             "color": "#2a3f5f"
            },
            "marker": {
             "line": {
              "color": "#E5ECF6",
              "width": 0.5
             },
             "pattern": {
              "fillmode": "overlay",
              "size": 10,
              "solidity": 0.2
             }
            },
            "type": "bar"
           }
          ],
          "barpolar": [
           {
            "marker": {
             "line": {
              "color": "#E5ECF6",
              "width": 0.5
             },
             "pattern": {
              "fillmode": "overlay",
              "size": 10,
              "solidity": 0.2
             }
            },
            "type": "barpolar"
           }
          ],
          "carpet": [
           {
            "aaxis": {
             "endlinecolor": "#2a3f5f",
             "gridcolor": "white",
             "linecolor": "white",
             "minorgridcolor": "white",
             "startlinecolor": "#2a3f5f"
            },
            "baxis": {
             "endlinecolor": "#2a3f5f",
             "gridcolor": "white",
             "linecolor": "white",
             "minorgridcolor": "white",
             "startlinecolor": "#2a3f5f"
            },
            "type": "carpet"
           }
          ],
          "choropleth": [
           {
            "colorbar": {
             "outlinewidth": 0,
             "ticks": ""
            },
            "type": "choropleth"
           }
          ],
          "contour": [
           {
            "colorbar": {
             "outlinewidth": 0,
             "ticks": ""
            },
            "colorscale": [
             [
              0,
              "#0d0887"
             ],
             [
              0.1111111111111111,
              "#46039f"
             ],
             [
              0.2222222222222222,
              "#7201a8"
             ],
             [
              0.3333333333333333,
              "#9c179e"
             ],
             [
              0.4444444444444444,
              "#bd3786"
             ],
             [
              0.5555555555555556,
              "#d8576b"
             ],
             [
              0.6666666666666666,
              "#ed7953"
             ],
             [
              0.7777777777777778,
              "#fb9f3a"
             ],
             [
              0.8888888888888888,
              "#fdca26"
             ],
             [
              1,
              "#f0f921"
             ]
            ],
            "type": "contour"
           }
          ],
          "contourcarpet": [
           {
            "colorbar": {
             "outlinewidth": 0,
             "ticks": ""
            },
            "type": "contourcarpet"
           }
          ],
          "heatmap": [
           {
            "colorbar": {
             "outlinewidth": 0,
             "ticks": ""
            },
            "colorscale": [
             [
              0,
              "#0d0887"
             ],
             [
              0.1111111111111111,
              "#46039f"
             ],
             [
              0.2222222222222222,
              "#7201a8"
             ],
             [
              0.3333333333333333,
              "#9c179e"
             ],
             [
              0.4444444444444444,
              "#bd3786"
             ],
             [
              0.5555555555555556,
              "#d8576b"
             ],
             [
              0.6666666666666666,
              "#ed7953"
             ],
             [
              0.7777777777777778,
              "#fb9f3a"
             ],
             [
              0.8888888888888888,
              "#fdca26"
             ],
             [
              1,
              "#f0f921"
             ]
            ],
            "type": "heatmap"
           }
          ],
          "heatmapgl": [
           {
            "colorbar": {
             "outlinewidth": 0,
             "ticks": ""
            },
            "colorscale": [
             [
              0,
              "#0d0887"
             ],
             [
              0.1111111111111111,
              "#46039f"
             ],
             [
              0.2222222222222222,
              "#7201a8"
             ],
             [
              0.3333333333333333,
              "#9c179e"
             ],
             [
              0.4444444444444444,
              "#bd3786"
             ],
             [
              0.5555555555555556,
              "#d8576b"
             ],
             [
              0.6666666666666666,
              "#ed7953"
             ],
             [
              0.7777777777777778,
              "#fb9f3a"
             ],
             [
              0.8888888888888888,
              "#fdca26"
             ],
             [
              1,
              "#f0f921"
             ]
            ],
            "type": "heatmapgl"
           }
          ],
          "histogram": [
           {
            "marker": {
             "pattern": {
              "fillmode": "overlay",
              "size": 10,
              "solidity": 0.2
             }
            },
            "type": "histogram"
           }
          ],
          "histogram2d": [
           {
            "colorbar": {
             "outlinewidth": 0,
             "ticks": ""
            },
            "colorscale": [
             [
              0,
              "#0d0887"
             ],
             [
              0.1111111111111111,
              "#46039f"
             ],
             [
              0.2222222222222222,
              "#7201a8"
             ],
             [
              0.3333333333333333,
              "#9c179e"
             ],
             [
              0.4444444444444444,
              "#bd3786"
             ],
             [
              0.5555555555555556,
              "#d8576b"
             ],
             [
              0.6666666666666666,
              "#ed7953"
             ],
             [
              0.7777777777777778,
              "#fb9f3a"
             ],
             [
              0.8888888888888888,
              "#fdca26"
             ],
             [
              1,
              "#f0f921"
             ]
            ],
            "type": "histogram2d"
           }
          ],
          "histogram2dcontour": [
           {
            "colorbar": {
             "outlinewidth": 0,
             "ticks": ""
            },
            "colorscale": [
             [
              0,
              "#0d0887"
             ],
             [
              0.1111111111111111,
              "#46039f"
             ],
             [
              0.2222222222222222,
              "#7201a8"
             ],
             [
              0.3333333333333333,
              "#9c179e"
             ],
             [
              0.4444444444444444,
              "#bd3786"
             ],
             [
              0.5555555555555556,
              "#d8576b"
             ],
             [
              0.6666666666666666,
              "#ed7953"
             ],
             [
              0.7777777777777778,
              "#fb9f3a"
             ],
             [
              0.8888888888888888,
              "#fdca26"
             ],
             [
              1,
              "#f0f921"
             ]
            ],
            "type": "histogram2dcontour"
           }
          ],
          "mesh3d": [
           {
            "colorbar": {
             "outlinewidth": 0,
             "ticks": ""
            },
            "type": "mesh3d"
           }
          ],
          "parcoords": [
           {
            "line": {
             "colorbar": {
              "outlinewidth": 0,
              "ticks": ""
             }
            },
            "type": "parcoords"
           }
          ],
          "pie": [
           {
            "automargin": true,
            "type": "pie"
           }
          ],
          "scatter": [
           {
            "fillpattern": {
             "fillmode": "overlay",
             "size": 10,
             "solidity": 0.2
            },
            "type": "scatter"
           }
          ],
          "scatter3d": [
           {
            "line": {
             "colorbar": {
              "outlinewidth": 0,
              "ticks": ""
             }
            },
            "marker": {
             "colorbar": {
              "outlinewidth": 0,
              "ticks": ""
             }
            },
            "type": "scatter3d"
           }
          ],
          "scattercarpet": [
           {
            "marker": {
             "colorbar": {
              "outlinewidth": 0,
              "ticks": ""
             }
            },
            "type": "scattercarpet"
           }
          ],
          "scattergeo": [
           {
            "marker": {
             "colorbar": {
              "outlinewidth": 0,
              "ticks": ""
             }
            },
            "type": "scattergeo"
           }
          ],
          "scattergl": [
           {
            "marker": {
             "colorbar": {
              "outlinewidth": 0,
              "ticks": ""
             }
            },
            "type": "scattergl"
           }
          ],
          "scattermapbox": [
           {
            "marker": {
             "colorbar": {
              "outlinewidth": 0,
              "ticks": ""
             }
            },
            "type": "scattermapbox"
           }
          ],
          "scatterpolar": [
           {
            "marker": {
             "colorbar": {
              "outlinewidth": 0,
              "ticks": ""
             }
            },
            "type": "scatterpolar"
           }
          ],
          "scatterpolargl": [
           {
            "marker": {
             "colorbar": {
              "outlinewidth": 0,
              "ticks": ""
             }
            },
            "type": "scatterpolargl"
           }
          ],
          "scatterternary": [
           {
            "marker": {
             "colorbar": {
              "outlinewidth": 0,
              "ticks": ""
             }
            },
            "type": "scatterternary"
           }
          ],
          "surface": [
           {
            "colorbar": {
             "outlinewidth": 0,
             "ticks": ""
            },
            "colorscale": [
             [
              0,
              "#0d0887"
             ],
             [
              0.1111111111111111,
              "#46039f"
             ],
             [
              0.2222222222222222,
              "#7201a8"
             ],
             [
              0.3333333333333333,
              "#9c179e"
             ],
             [
              0.4444444444444444,
              "#bd3786"
             ],
             [
              0.5555555555555556,
              "#d8576b"
             ],
             [
              0.6666666666666666,
              "#ed7953"
             ],
             [
              0.7777777777777778,
              "#fb9f3a"
             ],
             [
              0.8888888888888888,
              "#fdca26"
             ],
             [
              1,
              "#f0f921"
             ]
            ],
            "type": "surface"
           }
          ],
          "table": [
           {
            "cells": {
             "fill": {
              "color": "#EBF0F8"
             },
             "line": {
              "color": "white"
             }
            },
            "header": {
             "fill": {
              "color": "#C8D4E3"
             },
             "line": {
              "color": "white"
             }
            },
            "type": "table"
           }
          ]
         },
         "layout": {
          "annotationdefaults": {
           "arrowcolor": "#2a3f5f",
           "arrowhead": 0,
           "arrowwidth": 1
          },
          "autotypenumbers": "strict",
          "coloraxis": {
           "colorbar": {
            "outlinewidth": 0,
            "ticks": ""
           }
          },
          "colorscale": {
           "diverging": [
            [
             0,
             "#8e0152"
            ],
            [
             0.1,
             "#c51b7d"
            ],
            [
             0.2,
             "#de77ae"
            ],
            [
             0.3,
             "#f1b6da"
            ],
            [
             0.4,
             "#fde0ef"
            ],
            [
             0.5,
             "#f7f7f7"
            ],
            [
             0.6,
             "#e6f5d0"
            ],
            [
             0.7,
             "#b8e186"
            ],
            [
             0.8,
             "#7fbc41"
            ],
            [
             0.9,
             "#4d9221"
            ],
            [
             1,
             "#276419"
            ]
           ],
           "sequential": [
            [
             0,
             "#0d0887"
            ],
            [
             0.1111111111111111,
             "#46039f"
            ],
            [
             0.2222222222222222,
             "#7201a8"
            ],
            [
             0.3333333333333333,
             "#9c179e"
            ],
            [
             0.4444444444444444,
             "#bd3786"
            ],
            [
             0.5555555555555556,
             "#d8576b"
            ],
            [
             0.6666666666666666,
             "#ed7953"
            ],
            [
             0.7777777777777778,
             "#fb9f3a"
            ],
            [
             0.8888888888888888,
             "#fdca26"
            ],
            [
             1,
             "#f0f921"
            ]
           ],
           "sequentialminus": [
            [
             0,
             "#0d0887"
            ],
            [
             0.1111111111111111,
             "#46039f"
            ],
            [
             0.2222222222222222,
             "#7201a8"
            ],
            [
             0.3333333333333333,
             "#9c179e"
            ],
            [
             0.4444444444444444,
             "#bd3786"
            ],
            [
             0.5555555555555556,
             "#d8576b"
            ],
            [
             0.6666666666666666,
             "#ed7953"
            ],
            [
             0.7777777777777778,
             "#fb9f3a"
            ],
            [
             0.8888888888888888,
             "#fdca26"
            ],
            [
             1,
             "#f0f921"
            ]
           ]
          },
          "colorway": [
           "#636efa",
           "#EF553B",
           "#00cc96",
           "#ab63fa",
           "#FFA15A",
           "#19d3f3",
           "#FF6692",
           "#B6E880",
           "#FF97FF",
           "#FECB52"
          ],
          "font": {
           "color": "#2a3f5f"
          },
          "geo": {
           "bgcolor": "white",
           "lakecolor": "white",
           "landcolor": "#E5ECF6",
           "showlakes": true,
           "showland": true,
           "subunitcolor": "white"
          },
          "hoverlabel": {
           "align": "left"
          },
          "hovermode": "closest",
          "mapbox": {
           "style": "light"
          },
          "paper_bgcolor": "white",
          "plot_bgcolor": "#E5ECF6",
          "polar": {
           "angularaxis": {
            "gridcolor": "white",
            "linecolor": "white",
            "ticks": ""
           },
           "bgcolor": "#E5ECF6",
           "radialaxis": {
            "gridcolor": "white",
            "linecolor": "white",
            "ticks": ""
           }
          },
          "scene": {
           "xaxis": {
            "backgroundcolor": "#E5ECF6",
            "gridcolor": "white",
            "gridwidth": 2,
            "linecolor": "white",
            "showbackground": true,
            "ticks": "",
            "zerolinecolor": "white"
           },
           "yaxis": {
            "backgroundcolor": "#E5ECF6",
            "gridcolor": "white",
            "gridwidth": 2,
            "linecolor": "white",
            "showbackground": true,
            "ticks": "",
            "zerolinecolor": "white"
           },
           "zaxis": {
            "backgroundcolor": "#E5ECF6",
            "gridcolor": "white",
            "gridwidth": 2,
            "linecolor": "white",
            "showbackground": true,
            "ticks": "",
            "zerolinecolor": "white"
           }
          },
          "shapedefaults": {
           "line": {
            "color": "#2a3f5f"
           }
          },
          "ternary": {
           "aaxis": {
            "gridcolor": "white",
            "linecolor": "white",
            "ticks": ""
           },
           "baxis": {
            "gridcolor": "white",
            "linecolor": "white",
            "ticks": ""
           },
           "bgcolor": "#E5ECF6",
           "caxis": {
            "gridcolor": "white",
            "linecolor": "white",
            "ticks": ""
           }
          },
          "title": {
           "x": 0.05
          },
          "xaxis": {
           "automargin": true,
           "gridcolor": "white",
           "linecolor": "white",
           "ticks": "",
           "title": {
            "standoff": 15
           },
           "zerolinecolor": "white",
           "zerolinewidth": 2
          },
          "yaxis": {
           "automargin": true,
           "gridcolor": "white",
           "linecolor": "white",
           "ticks": "",
           "title": {
            "standoff": 15
           },
           "zerolinecolor": "white",
           "zerolinewidth": 2
          }
         }
        },
        "title": {
         "text": "Class Distribution"
        },
        "xaxis": {
         "anchor": "y",
         "domain": [
          0,
          1
         ],
         "title": {
          "text": "label"
         }
        },
        "yaxis": {
         "anchor": "x",
         "domain": [
          0,
          1
         ],
         "title": {
          "text": "Count"
         }
        }
       }
      }
     },
     "metadata": {},
     "output_type": "display_data"
    }
   ],
   "source": [
    "# Plot the class distribution\n",
    "fig = px.bar(\n",
    "    class_distribution,\n",
    "    x=class_distribution.index,\n",
    "    y=class_distribution.values,\n",
    "    title=\"Class Distribution\",\n",
    "    labels={\"x\": \"Label\", \"y\": \"Count\"},\n",
    "    color=class_distribution.index,\n",
    ")\n",
    "fig.show()"
   ]
  },
  {
   "cell_type": "markdown",
   "metadata": {},
   "source": [
    "### Message Length Distribution"
   ]
  },
  {
   "cell_type": "code",
   "execution_count": 9,
   "metadata": {},
   "outputs": [
    {
     "data": {
      "text/html": [
       "<div>\n",
       "<style scoped>\n",
       "    .dataframe tbody tr th:only-of-type {\n",
       "        vertical-align: middle;\n",
       "    }\n",
       "\n",
       "    .dataframe tbody tr th {\n",
       "        vertical-align: top;\n",
       "    }\n",
       "\n",
       "    .dataframe thead th {\n",
       "        text-align: right;\n",
       "    }\n",
       "</style>\n",
       "<table border=\"1\" class=\"dataframe\">\n",
       "  <thead>\n",
       "    <tr style=\"text-align: right;\">\n",
       "      <th></th>\n",
       "      <th>label</th>\n",
       "      <th>message</th>\n",
       "      <th>message_length</th>\n",
       "    </tr>\n",
       "  </thead>\n",
       "  <tbody>\n",
       "    <tr>\n",
       "      <th>0</th>\n",
       "      <td>0</td>\n",
       "      <td>Go until jurong point, crazy.. Available only ...</td>\n",
       "      <td>114</td>\n",
       "    </tr>\n",
       "    <tr>\n",
       "      <th>1</th>\n",
       "      <td>0</td>\n",
       "      <td>Ok lar... Joking wif u oni...</td>\n",
       "      <td>32</td>\n",
       "    </tr>\n",
       "    <tr>\n",
       "      <th>2</th>\n",
       "      <td>1</td>\n",
       "      <td>Free entry in 2 a wkly comp to win FA Cup fina...</td>\n",
       "      <td>158</td>\n",
       "    </tr>\n",
       "    <tr>\n",
       "      <th>3</th>\n",
       "      <td>0</td>\n",
       "      <td>U dun say so early hor... U c already then say...</td>\n",
       "      <td>52</td>\n",
       "    </tr>\n",
       "    <tr>\n",
       "      <th>4</th>\n",
       "      <td>0</td>\n",
       "      <td>Nah I don't think he goes to usf, he lives aro...</td>\n",
       "      <td>64</td>\n",
       "    </tr>\n",
       "  </tbody>\n",
       "</table>\n",
       "</div>"
      ],
      "text/plain": [
       "   label                                            message  message_length\n",
       "0      0  Go until jurong point, crazy.. Available only ...             114\n",
       "1      0                   Ok lar... Joking wif u oni...                 32\n",
       "2      1  Free entry in 2 a wkly comp to win FA Cup fina...             158\n",
       "3      0  U dun say so early hor... U c already then say...              52\n",
       "4      0  Nah I don't think he goes to usf, he lives aro...              64"
      ]
     },
     "execution_count": 9,
     "metadata": {},
     "output_type": "execute_result"
    }
   ],
   "source": [
    "# Adding message length as a feature\n",
    "data[\"message_length\"] = data[\"message\"].apply(len)\n",
    "data.head()"
   ]
  },
  {
   "cell_type": "code",
   "execution_count": 10,
   "metadata": {},
   "outputs": [
    {
     "name": "stdout",
     "output_type": "stream",
     "text": [
      "\n",
      "Average Message Length:\n",
      "\n",
      "Spam: 142.15 characters\n",
      "Ham: 74.63 characters\n"
     ]
    }
   ],
   "source": [
    "# Analyze message length distribution\n",
    "spam_messages = data[data[\"label\"] == 1]\n",
    "ham_messages = data[data[\"label\"] == 0]\n",
    "\n",
    "# Calculate average message lengths\n",
    "avg_length_spam = spam_messages[\"message_length\"].mean().round(2)\n",
    "avg_length_ham = ham_messages[\"message_length\"].mean().round(2)\n",
    "\n",
    "print(\"\\nAverage Message Length:\\n\")\n",
    "print(f\"Spam: {avg_length_spam} characters\")\n",
    "print(f\"Ham: {avg_length_ham} characters\")"
   ]
  },
  {
   "cell_type": "code",
   "execution_count": 11,
   "metadata": {},
   "outputs": [
    {
     "data": {
      "application/vnd.plotly.v1+json": {
       "config": {
        "plotlyServerURL": "https://plot.ly"
       },
       "data": [
        {
         "alignmentgroup": "True",
         "bingroup": "x",
         "histnorm": "density",
         "hovertemplate": "label=0<br>Message Length=%{x}<br>density=%{y}<extra></extra>",
         "legendgroup": "0",
         "marker": {
          "color": "#636efa",
          "opacity": 0.5,
          "pattern": {
           "shape": ""
          }
         },
         "name": "0",
         "nbinsx": 50,
         "offsetgroup": "0",
         "orientation": "v",
         "showlegend": true,
         "type": "histogram",
         "x": [
          114,
          32,
          52,
          64,
          80,
          163,
          112,
          199,
          38,
          29,
          84,
          61,
          44,
          52,
          56,
          91,
          60,
          147,
          33,
          137,
          78,
          67,
          133,
          192,
          32,
          87,
          126,
          50,
          31,
          30,
          158,
          85,
          145,
          22,
          75,
          35,
          48,
          34,
          70,
          151,
          61,
          127,
          83,
          294,
          79,
          37,
          25,
          43,
          111,
          51,
          28,
          59,
          113,
          127,
          37,
          49,
          32,
          48,
          45,
          23,
          46,
          76,
          53,
          45,
          79,
          25,
          35,
          35,
          39,
          17,
          58,
          124,
          147,
          45,
          44,
          65,
          198,
          144,
          110,
          36,
          54,
          187,
          60,
          84,
          79,
          163,
          186,
          47,
          98,
          46,
          85,
          118,
          33,
          43,
          34,
          99,
          146,
          159,
          75,
          89,
          56,
          55,
          43,
          23,
          247,
          25,
          110,
          31,
          12,
          42,
          28,
          41,
          37,
          49,
          89,
          36,
          30,
          161,
          45,
          28,
          51,
          87,
          36,
          33,
          48,
          62,
          28,
          163,
          387,
          31,
          30,
          160,
          118,
          67,
          88,
          54,
          77,
          70,
          62,
          53,
          97,
          36,
          108,
          64,
          68,
          29,
          149,
          69,
          129,
          162,
          26,
          68,
          27,
          29,
          155,
          37,
          58,
          91,
          188,
          40,
          114,
          95,
          31,
          31,
          67,
          134,
          43,
          31,
          87,
          177,
          27,
          28,
          67,
          159,
          31,
          89,
          42,
          76,
          29,
          26,
          27,
          34,
          61,
          51,
          44,
          35,
          162,
          28,
          164,
          25,
          122,
          72,
          33,
          168,
          37,
          112,
          40,
          36,
          51,
          53,
          68,
          41,
          148,
          54,
          48,
          86,
          158,
          40,
          81,
          33,
          34,
          149,
          47,
          182,
          30,
          182,
          41,
          100,
          46,
          39,
          77,
          6,
          88,
          54,
          29,
          38,
          50,
          50,
          56,
          150,
          40,
          34,
          11,
          41,
          33,
          50,
          59,
          25,
          145,
          32,
          10,
          124,
          61,
          7,
          151,
          163,
          155,
          40,
          58,
          24,
          25,
          53,
          70,
          156,
          54,
          70,
          91,
          160,
          94,
          27,
          60,
          29,
          74,
          58,
          159,
          122,
          145,
          44,
          29,
          122,
          49,
          26,
          54,
          65,
          110,
          160,
          33,
          35,
          34,
          82,
          35,
          89,
          25,
          79,
          235,
          48,
          60,
          29,
          25,
          44,
          31,
          154,
          32,
          37,
          55,
          36,
          88,
          34,
          81,
          53,
          66,
          151,
          132,
          48,
          205,
          171,
          88,
          41,
          18,
          34,
          91,
          163,
          53,
          29,
          34,
          132,
          37,
          57,
          165,
          26,
          56,
          134,
          39,
          146,
          303,
          62,
          45,
          44,
          25,
          34,
          33,
          50,
          28,
          83,
          25,
          118,
          59,
          105,
          121,
          224,
          207,
          117,
          42,
          39,
          51,
          80,
          63,
          171,
          54,
          25,
          155,
          78,
          33,
          98,
          27,
          38,
          32,
          69,
          51,
          27,
          251,
          28,
          30,
          40,
          72,
          153,
          27,
          83,
          28,
          76,
          92,
          61,
          39,
          79,
          50,
          107,
          41,
          72,
          25,
          125,
          97,
          73,
          76,
          45,
          20,
          16,
          48,
          60,
          108,
          50,
          120,
          161,
          82,
          145,
          65,
          74,
          32,
          32,
          151,
          86,
          40,
          47,
          48,
          53,
          301,
          128,
          54,
          31,
          37,
          49,
          84,
          31,
          93,
          21,
          57,
          58,
          48,
          43,
          110,
          53,
          123,
          35,
          37,
          35,
          19,
          70,
          58,
          46,
          26,
          152,
          24,
          26,
          43,
          120,
          65,
          169,
          27,
          139,
          102,
          48,
          26,
          28,
          29,
          171,
          120,
          49,
          29,
          31,
          35,
          60,
          45,
          39,
          53,
          36,
          18,
          180,
          163,
          66,
          87,
          87,
          60,
          172,
          79,
          50,
          133,
          26,
          152,
          35,
          25,
          104,
          284,
          57,
          123,
          141,
          138,
          69,
          43,
          43,
          73,
          163,
          29,
          35,
          54,
          149,
          106,
          48,
          145,
          95,
          29,
          137,
          40,
          25,
          25,
          36,
          112,
          39,
          143,
          54,
          49,
          66,
          98,
          72,
          113,
          58,
          30,
          37,
          27,
          150,
          27,
          32,
          90,
          41,
          107,
          62,
          41,
          41,
          25,
          28,
          90,
          22,
          69,
          159,
          25,
          110,
          68,
          152,
          140,
          28,
          63,
          106,
          40,
          61,
          90,
          61,
          126,
          70,
          69,
          105,
          38,
          11,
          65,
          61,
          23,
          103,
          54,
          39,
          56,
          91,
          136,
          39,
          40,
          130,
          95,
          83,
          38,
          69,
          122,
          68,
          29,
          31,
          48,
          160,
          39,
          97,
          143,
          25,
          60,
          46,
          64,
          59,
          57,
          40,
          28,
          24,
          39,
          156,
          49,
          37,
          83,
          72,
          27,
          111,
          49,
          33,
          25,
          90,
          33,
          146,
          172,
          45,
          21,
          112,
          79,
          76,
          95,
          39,
          57,
          81,
          33,
          43,
          32,
          25,
          80,
          112,
          78,
          79,
          33,
          52,
          319,
          198,
          128,
          51,
          42,
          124,
          165,
          32,
          41,
          28,
          43,
          229,
          73,
          143,
          50,
          66,
          20,
          44,
          83,
          140,
          106,
          32,
          54,
          28,
          152,
          41,
          65,
          184,
          37,
          50,
          43,
          113,
          104,
          45,
          30,
          34,
          85,
          26,
          62,
          136,
          36,
          98,
          138,
          154,
          78,
          106,
          25,
          54,
          140,
          61,
          92,
          84,
          60,
          29,
          35,
          148,
          125,
          146,
          26,
          139,
          97,
          11,
          68,
          74,
          120,
          31,
          153,
          34,
          75,
          73,
          97,
          51,
          101,
          34,
          46,
          74,
          28,
          25,
          51,
          36,
          47,
          50,
          29,
          115,
          22,
          51,
          110,
          41,
          30,
          132,
          134,
          26,
          28,
          45,
          30,
          25,
          101,
          92,
          133,
          218,
          29,
          69,
          375,
          85,
          76,
          79,
          27,
          234,
          90,
          75,
          108,
          57,
          61,
          57,
          121,
          91,
          32,
          139,
          26,
          42,
          38,
          27,
          98,
          76,
          48,
          162,
          95,
          105,
          34,
          80,
          142,
          47,
          279,
          81,
          30,
          82,
          27,
          55,
          71,
          27,
          47,
          27,
          58,
          65,
          107,
          90,
          153,
          52,
          157,
          59,
          129,
          46,
          80,
          52,
          87,
          52,
          82,
          34,
          149,
          26,
          163,
          65,
          42,
          70,
          76,
          151,
          91,
          40,
          26,
          59,
          56,
          76,
          83,
          47,
          95,
          38,
          26,
          109,
          106,
          37,
          80,
          29,
          50,
          27,
          136,
          129,
          81,
          119,
          224,
          62,
          146,
          27,
          41,
          45,
          27,
          162,
          50,
          125,
          129,
          29,
          117,
          10,
          37,
          95,
          93,
          25,
          88,
          66,
          223,
          44,
          63,
          91,
          34,
          40,
          31,
          27,
          121,
          25,
          213,
          53,
          52,
          90,
          64,
          57,
          31,
          52,
          56,
          148,
          165,
          56,
          15,
          145,
          76,
          132,
          36,
          50,
          75,
          151,
          110,
          44,
          26,
          107,
          48,
          29,
          40,
          135,
          66,
          111,
          96,
          46,
          49,
          59,
          40,
          127,
          41,
          56,
          34,
          227,
          27,
          27,
          55,
          51,
          31,
          46,
          52,
          29,
          61,
          20,
          29,
          130,
          106,
          160,
          37,
          131,
          157,
          54,
          63,
          33,
          44,
          106,
          22,
          117,
          81,
          44,
          49,
          139,
          49,
          160,
          27,
          20,
          23,
          87,
          66,
          158,
          125,
          53,
          28,
          47,
          68,
          24,
          50,
          138,
          42,
          86,
          47,
          31,
          27,
          70,
          70,
          36,
          27,
          122,
          913,
          161,
          38,
          27,
          56,
          75,
          22,
          191,
          74,
          26,
          163,
          76,
          109,
          83,
          108,
          46,
          71,
          35,
          162,
          143,
          104,
          34,
          26,
          61,
          40,
          64,
          63,
          57,
          72,
          75,
          43,
          39,
          38,
          37,
          82,
          125,
          67,
          28,
          25,
          38,
          159,
          61,
          34,
          27,
          20,
          155,
          44,
          83,
          88,
          118,
          28,
          48,
          73,
          25,
          46,
          25,
          25,
          75,
          94,
          73,
          143,
          34,
          55,
          43,
          26,
          148,
          57,
          46,
          33,
          42,
          74,
          149,
          76,
          26,
          29,
          62,
          153,
          170,
          29,
          69,
          38,
          29,
          29,
          52,
          41,
          39,
          21,
          51,
          71,
          76,
          52,
          16,
          66,
          136,
          16,
          77,
          51,
          141,
          167,
          43,
          23,
          64,
          64,
          133,
          40,
          34,
          30,
          44,
          52,
          55,
          127,
          66,
          88,
          73,
          58,
          122,
          25,
          46,
          49,
          78,
          46,
          34,
          79,
          54,
          30,
          37,
          132,
          139,
          27,
          36,
          66,
          99,
          56,
          62,
          55,
          48,
          37,
          56,
          114,
          63,
          155,
          58,
          87,
          90,
          87,
          29,
          61,
          49,
          46,
          27,
          100,
          73,
          182,
          57,
          29,
          159,
          129,
          51,
          43,
          84,
          119,
          8,
          84,
          23,
          16,
          40,
          69,
          72,
          58,
          48,
          163,
          28,
          31,
          43,
          159,
          141,
          27,
          73,
          65,
          89,
          177,
          51,
          51,
          28,
          57,
          41,
          49,
          67,
          136,
          39,
          135,
          54,
          51,
          65,
          51,
          42,
          106,
          86,
          87,
          42,
          125,
          157,
          39,
          8,
          33,
          60,
          57,
          37,
          88,
          142,
          38,
          34,
          51,
          97,
          30,
          31,
          44,
          45,
          153,
          165,
          85,
          48,
          59,
          44,
          26,
          115,
          41,
          163,
          35,
          50,
          85,
          28,
          54,
          25,
          33,
          124,
          56,
          87,
          27,
          84,
          155,
          134,
          330,
          52,
          68,
          32,
          210,
          117,
          52,
          111,
          39,
          35,
          53,
          83,
          144,
          26,
          43,
          28,
          25,
          158,
          75,
          206,
          330,
          118,
          30,
          142,
          49,
          118,
          158,
          38,
          85,
          10,
          39,
          76,
          27,
          52,
          51,
          158,
          96,
          102,
          158,
          51,
          45,
          27,
          33,
          47,
          27,
          37,
          147,
          182,
          55,
          85,
          42,
          83,
          38,
          85,
          44,
          30,
          35,
          36,
          44,
          8,
          129,
          170,
          144,
          127,
          41,
          66,
          50,
          25,
          118,
          74,
          37,
          75,
          137,
          29,
          41,
          28,
          30,
          162,
          110,
          16,
          28,
          68,
          36,
          26,
          56,
          107,
          152,
          147,
          54,
          117,
          134,
          177,
          45,
          156,
          40,
          64,
          77,
          96,
          144,
          88,
          81,
          36,
          93,
          150,
          36,
          35,
          8,
          152,
          25,
          135,
          157,
          34,
          54,
          21,
          175,
          79,
          81,
          115,
          61,
          161,
          63,
          157,
          37,
          29,
          34,
          29,
          67,
          182,
          59,
          151,
          93,
          113,
          461,
          39,
          31,
          36,
          54,
          48,
          40,
          42,
          99,
          18,
          32,
          35,
          155,
          32,
          39,
          57,
          32,
          50,
          175,
          35,
          25,
          94,
          56,
          27,
          124,
          39,
          215,
          28,
          62,
          158,
          40,
          82,
          27,
          53,
          78,
          44,
          11,
          39,
          34,
          76,
          130,
          17,
          100,
          128,
          95,
          66,
          61,
          49,
          29,
          146,
          32,
          34,
          159,
          40,
          66,
          36,
          107,
          61,
          65,
          187,
          614,
          64,
          65,
          67,
          50,
          95,
          25,
          341,
          89,
          162,
          33,
          108,
          151,
          33,
          55,
          155,
          46,
          38,
          50,
          28,
          130,
          28,
          146,
          131,
          27,
          46,
          102,
          155,
          40,
          35,
          6,
          31,
          58,
          31,
          124,
          32,
          118,
          42,
          157,
          151,
          47,
          159,
          28,
          44,
          86,
          48,
          76,
          161,
          50,
          162,
          168,
          40,
          44,
          139,
          27,
          38,
          28,
          34,
          39,
          135,
          159,
          33,
          121,
          85,
          150,
          78,
          25,
          93,
          64,
          31,
          45,
          78,
          30,
          17,
          132,
          76,
          91,
          30,
          151,
          14,
          26,
          28,
          148,
          54,
          43,
          159,
          127,
          21,
          9,
          129,
          49,
          33,
          38,
          35,
          26,
          45,
          102,
          99,
          77,
          75,
          79,
          63,
          8,
          34,
          80,
          36,
          28,
          129,
          74,
          78,
          71,
          147,
          62,
          63,
          52,
          69,
          27,
          61,
          110,
          56,
          76,
          152,
          147,
          66,
          162,
          42,
          70,
          134,
          27,
          139,
          37,
          30,
          58,
          30,
          42,
          39,
          26,
          54,
          37,
          37,
          77,
          149,
          35,
          163,
          89,
          35,
          169,
          25,
          29,
          95,
          40,
          49,
          65,
          42,
          53,
          38,
          24,
          110,
          41,
          208,
          161,
          70,
          124,
          29,
          71,
          126,
          64,
          36,
          159,
          44,
          53,
          44,
          156,
          25,
          56,
          65,
          162,
          37,
          154,
          29,
          30,
          55,
          103,
          167,
          42,
          35,
          161,
          123,
          45,
          49,
          47,
          126,
          27,
          32,
          37,
          32,
          50,
          50,
          118,
          40,
          67,
          86,
          127,
          27,
          92,
          70,
          47,
          36,
          31,
          40,
          79,
          153,
          48,
          87,
          27,
          122,
          335,
          83,
          27,
          37,
          68,
          30,
          27,
          56,
          31,
          25,
          26,
          194,
          78,
          26,
          32,
          40,
          43,
          96,
          110,
          55,
          74,
          57,
          54,
          101,
          92,
          53,
          166,
          138,
          35,
          44,
          61,
          53,
          793,
          37,
          38,
          103,
          49,
          186,
          74,
          33,
          37,
          78,
          58,
          36,
          100,
          36,
          67,
          26,
          35,
          131,
          48,
          65,
          88,
          35,
          92,
          66,
          31,
          44,
          113,
          56,
          34,
          30,
          82,
          25,
          43,
          62,
          57,
          87,
          18,
          109,
          33,
          111,
          95,
          90,
          19,
          54,
          53,
          66,
          37,
          163,
          32,
          44,
          71,
          94,
          5,
          69,
          138,
          33,
          38,
          38,
          28,
          26,
          35,
          79,
          68,
          139,
          58,
          127,
          49,
          123,
          75,
          60,
          57,
          52,
          54,
          32,
          40,
          70,
          44,
          95,
          33,
          71,
          49,
          90,
          98,
          26,
          37,
          62,
          161,
          76,
          79,
          68,
          61,
          17,
          30,
          146,
          56,
          55,
          34,
          42,
          86,
          37,
          25,
          92,
          64,
          153,
          126,
          27,
          35,
          25,
          52,
          111,
          122,
          37,
          41,
          29,
          35,
          156,
          120,
          48,
          58,
          41,
          83,
          57,
          65,
          55,
          84,
          39,
          434,
          65,
          378,
          163,
          55,
          141,
          45,
          66,
          25,
          41,
          53,
          86,
          87,
          42,
          79,
          56,
          97,
          41,
          41,
          78,
          65,
          62,
          26,
          40,
          48,
          54,
          27,
          46,
          126,
          46,
          39,
          49,
          38,
          62,
          35,
          53,
          30,
          43,
          40,
          87,
          128,
          48,
          35,
          55,
          42,
          35,
          55,
          43,
          99,
          34,
          279,
          54,
          29,
          39,
          102,
          47,
          26,
          66,
          63,
          44,
          136,
          30,
          45,
          43,
          20,
          84,
          41,
          51,
          38,
          143,
          366,
          43,
          50,
          157,
          34,
          14,
          47,
          91,
          50,
          67,
          27,
          98,
          137,
          26,
          35,
          178,
          41,
          38,
          150,
          54,
          110,
          41,
          63,
          40,
          160,
          188,
          31,
          162,
          82,
          43,
          116,
          33,
          45,
          44,
          116,
          385,
          90,
          52,
          30,
          31,
          29,
          52,
          42,
          41,
          34,
          165,
          28,
          157,
          25,
          37,
          48,
          73,
          80,
          35,
          53,
          33,
          117,
          591,
          117,
          117,
          53,
          144,
          161,
          59,
          32,
          42,
          35,
          40,
          164,
          32,
          51,
          62,
          32,
          27,
          34,
          40,
          196,
          48,
          157,
          6,
          35,
          134,
          55,
          145,
          107,
          46,
          76,
          108,
          57,
          111,
          80,
          45,
          135,
          45,
          25,
          33,
          41,
          57,
          59,
          69,
          68,
          96,
          135,
          115,
          25,
          71,
          122,
          61,
          63,
          57,
          48,
          69,
          70,
          80,
          79,
          80,
          178,
          80,
          105,
          42,
          35,
          33,
          111,
          144,
          133,
          61,
          31,
          80,
          167,
          91,
          130,
          113,
          54,
          33,
          28,
          99,
          67,
          26,
          73,
          34,
          116,
          113,
          39,
          31,
          26,
          157,
          57,
          42,
          157,
          39,
          67,
          39,
          74,
          54,
          20,
          25,
          29,
          147,
          66,
          25,
          92,
          45,
          31,
          138,
          81,
          36,
          30,
          55,
          32,
          36,
          26,
          88,
          104,
          113,
          30,
          61,
          47,
          29,
          94,
          128,
          28,
          72,
          75,
          51,
          31,
          69,
          130,
          65,
          29,
          81,
          26,
          88,
          37,
          44,
          137,
          28,
          33,
          48,
          8,
          26,
          96,
          10,
          27,
          132,
          48,
          68,
          51,
          21,
          27,
          36,
          28,
          54,
          99,
          72,
          28,
          111,
          54,
          68,
          144,
          10,
          44,
          70,
          33,
          40,
          50,
          39,
          32,
          39,
          284,
          30,
          55,
          69,
          124,
          59,
          95,
          69,
          46,
          130,
          46,
          453,
          105,
          91,
          106,
          27,
          98,
          77,
          161,
          485,
          56,
          124,
          34,
          25,
          25,
          41,
          25,
          94,
          69,
          194,
          30,
          70,
          107,
          99,
          41,
          43,
          28,
          27,
          29,
          42,
          57,
          76,
          83,
          24,
          151,
          447,
          44,
          102,
          37,
          30,
          119,
          27,
          78,
          50,
          84,
          118,
          55,
          86,
          44,
          25,
          49,
          60,
          48,
          70,
          29,
          103,
          56,
          635,
          238,
          29,
          117,
          48,
          81,
          54,
          85,
          31,
          88,
          49,
          186,
          25,
          112,
          31,
          28,
          26,
          77,
          53,
          31,
          47,
          91,
          28,
          32,
          42,
          49,
          67,
          18,
          129,
          108,
          52,
          33,
          26,
          87,
          70,
          17,
          71,
          40,
          29,
          87,
          32,
          25,
          204,
          140,
          36,
          104,
          48,
          127,
          87,
          45,
          81,
          73,
          124,
          84,
          45,
          248,
          69,
          142,
          170,
          54,
          58,
          34,
          39,
          31,
          309,
          205,
          163,
          39,
          23,
          9,
          8,
          153,
          77,
          22,
          156,
          48,
          57,
          25,
          25,
          70,
          45,
          182,
          25,
          85,
          25,
          166,
          49,
          161,
          35,
          74,
          37,
          107,
          12,
          98,
          32,
          158,
          27,
          44,
          109,
          35,
          115,
          50,
          31,
          33,
          292,
          83,
          73,
          125,
          62,
          61,
          24,
          30,
          38,
          34,
          69,
          68,
          98,
          35,
          26,
          39,
          58,
          143,
          147,
          33,
          31,
          86,
          43,
          35,
          64,
          119,
          39,
          39,
          40,
          57,
          49,
          68,
          40,
          42,
          47,
          85,
          26,
          158,
          156,
          47,
          120,
          58,
          129,
          112,
          68,
          19,
          53,
          49,
          7,
          38,
          102,
          60,
          139,
          59,
          65,
          28,
          41,
          49,
          35,
          52,
          246,
          45,
          44,
          54,
          84,
          12,
          139,
          12,
          28,
          30,
          48,
          118,
          68,
          142,
          31,
          33,
          56,
          62,
          47,
          29,
          88,
          26,
          30,
          50,
          52,
          129,
          35,
          25,
          110,
          49,
          99,
          160,
          53,
          66,
          32,
          90,
          30,
          36,
          36,
          30,
          29,
          8,
          36,
          37,
          32,
          33,
          143,
          37,
          120,
          48,
          30,
          156,
          44,
          139,
          59,
          67,
          53,
          447,
          30,
          109,
          69,
          57,
          91,
          7,
          57,
          59,
          30,
          98,
          98,
          55,
          83,
          66,
          76,
          172,
          172,
          60,
          59,
          116,
          53,
          26,
          27,
          182,
          104,
          57,
          99,
          62,
          169,
          17,
          49,
          12,
          49,
          87,
          74,
          23,
          47,
          49,
          38,
          31,
          56,
          85,
          29,
          51,
          32,
          44,
          102,
          58,
          25,
          18,
          122,
          157,
          28,
          32,
          32,
          31,
          92,
          59,
          56,
          40,
          29,
          132,
          72,
          24,
          92,
          40,
          42,
          105,
          45,
          66,
          53,
          166,
          203,
          44,
          41,
          29,
          32,
          19,
          26,
          49,
          34,
          31,
          121,
          32,
          66,
          109,
          124,
          47,
          25,
          25,
          119,
          81,
          62,
          46,
          184,
          48,
          145,
          35,
          72,
          82,
          152,
          66,
          158,
          32,
          148,
          25,
          35,
          13,
          64,
          60,
          39,
          55,
          166,
          136,
          58,
          60,
          71,
          126,
          114,
          40,
          77,
          50,
          12,
          152,
          47,
          26,
          29,
          38,
          32,
          134,
          31,
          26,
          55,
          56,
          134,
          14,
          30,
          91,
          169,
          45,
          35,
          591,
          77,
          42,
          29,
          60,
          57,
          97,
          279,
          85,
          163,
          154,
          63,
          54,
          141,
          107,
          78,
          32,
          145,
          43,
          169,
          133,
          18,
          34,
          55,
          237,
          53,
          106,
          28,
          52,
          50,
          30,
          80,
          31,
          37,
          25,
          98,
          25,
          57,
          70,
          76,
          59,
          35,
          28,
          69,
          46,
          124,
          58,
          129,
          30,
          144,
          114,
          128,
          9,
          145,
          49,
          35,
          92,
          67,
          80,
          50,
          45,
          32,
          40,
          89,
          50,
          36,
          26,
          70,
          35,
          34,
          28,
          14,
          132,
          36,
          33,
          186,
          159,
          50,
          35,
          140,
          104,
          62,
          46,
          98,
          145,
          41,
          330,
          32,
          39,
          90,
          38,
          65,
          35,
          27,
          115,
          60,
          29,
          113,
          150,
          35,
          154,
          47,
          33,
          97,
          31,
          167,
          41,
          49,
          26,
          319,
          68,
          27,
          45,
          48,
          57,
          29,
          63,
          144,
          156,
          38,
          35,
          146,
          63,
          99,
          33,
          129,
          44,
          33,
          160,
          74,
          115,
          46,
          17,
          52,
          50,
          45,
          29,
          26,
          33,
          111,
          122,
          40,
          78,
          49,
          54,
          464,
          130,
          47,
          37,
          75,
          33,
          30,
          51,
          93,
          55,
          50,
          25,
          44,
          40,
          176,
          98,
          72,
          30,
          50,
          96,
          35,
          51,
          66,
          78,
          298,
          42,
          123,
          46,
          172,
          104,
          35,
          153,
          43,
          88,
          5,
          138,
          52,
          35,
          32,
          27,
          77,
          245,
          43,
          69,
          28,
          29,
          30,
          26,
          41,
          37,
          58,
          49,
          25,
          45,
          38,
          56,
          115,
          42,
          41,
          132,
          70,
          150,
          64,
          41,
          85,
          18,
          156,
          45,
          158,
          53,
          55,
          57,
          52,
          70,
          142,
          113,
          40,
          43,
          28,
          116,
          31,
          51,
          61,
          69,
          29,
          300,
          151,
          152,
          157,
          82,
          38,
          34,
          73,
          36,
          38,
          26,
          79,
          27,
          44,
          51,
          62,
          56,
          22,
          54,
          125,
          56,
          25,
          158,
          28,
          42,
          122,
          107,
          48,
          21,
          22,
          33,
          94,
          159,
          48,
          45,
          121,
          116,
          144,
          41,
          46,
          32,
          64,
          8,
          36,
          44,
          63,
          47,
          35,
          90,
          69,
          151,
          59,
          151,
          58,
          38,
          34,
          41,
          62,
          30,
          58,
          33,
          36,
          95,
          62,
          163,
          133,
          115,
          55,
          68,
          62,
          26,
          44,
          140,
          38,
          72,
          71,
          71,
          52,
          99,
          49,
          50,
          53,
          31,
          113,
          100,
          49,
          93,
          16,
          44,
          68,
          137,
          148,
          134,
          36,
          17,
          108,
          45,
          43,
          50,
          83,
          75,
          153,
          36,
          36,
          35,
          284,
          47,
          105,
          37,
          76,
          152,
          23,
          25,
          95,
          89,
          31,
          43,
          136,
          50,
          69,
          66,
          150,
          50,
          154,
          40,
          44,
          35,
          27,
          32,
          53,
          38,
          41,
          44,
          121,
          60,
          118,
          54,
          85,
          32,
          26,
          75,
          75,
          36,
          114,
          37,
          89,
          124,
          64,
          17,
          123,
          81,
          53,
          30,
          447,
          82,
          87,
          65,
          36,
          71,
          110,
          40,
          135,
          72,
          88,
          41,
          117,
          154,
          83,
          83,
          161,
          38,
          168,
          45,
          156,
          323,
          96,
          151,
          53,
          75,
          58,
          161,
          57,
          116,
          73,
          80,
          75,
          36,
          35,
          94,
          25,
          151,
          148,
          129,
          31,
          55,
          39,
          129,
          50,
          30,
          44,
          132,
          86,
          44,
          31,
          37,
          42,
          57,
          93,
          38,
          37,
          94,
          55,
          48,
          57,
          80,
          25,
          25,
          371,
          31,
          85,
          58,
          71,
          32,
          118,
          70,
          99,
          28,
          107,
          47,
          21,
          50,
          25,
          34,
          42,
          43,
          72,
          82,
          120,
          41,
          68,
          26,
          6,
          154,
          61,
          27,
          34,
          36,
          57,
          63,
          12,
          74,
          31,
          44,
          32,
          37,
          34,
          14,
          132,
          14,
          31,
          50,
          62,
          34,
          146,
          47,
          68,
          25,
          87,
          163,
          123,
          134,
          43,
          55,
          37,
          26,
          32,
          51,
          41,
          34,
          89,
          37,
          61,
          196,
          37,
          127,
          155,
          68,
          108,
          54,
          32,
          28,
          81,
          33,
          138,
          47,
          94,
          145,
          52,
          57,
          22,
          37,
          110,
          27,
          277,
          121,
          161,
          31,
          130,
          55,
          134,
          158,
          76,
          11,
          60,
          109,
          59,
          52,
          30,
          179,
          95,
          34,
          41,
          159,
          69,
          183,
          66,
          62,
          28,
          27,
          152,
          168,
          66,
          35,
          32,
          38,
          25,
          108,
          6,
          129,
          34,
          78,
          124,
          78,
          98,
          117,
          29,
          51,
          28,
          41,
          10,
          130,
          192,
          128,
          58,
          41,
          32,
          49,
          65,
          35,
          197,
          290,
          40,
          45,
          73,
          80,
          118,
          18,
          52,
          56,
          163,
          36,
          90,
          39,
          137,
          25,
          29,
          27,
          100,
          156,
          142,
          48,
          72,
          43,
          33,
          43,
          87,
          28,
          143,
          128,
          88,
          72,
          26,
          28,
          27,
          33,
          31,
          46,
          42,
          86,
          76,
          50,
          325,
          62,
          45,
          34,
          33,
          39,
          32,
          62,
          157,
          50,
          90,
          129,
          131,
          15,
          56,
          44,
          179,
          102,
          75,
          126,
          72,
          42,
          20,
          25,
          51,
          41,
          33,
          41,
          28,
          31,
          49,
          75,
          44,
          34,
          62,
          31,
          33,
          134,
          58,
          35,
          141,
          128,
          16,
          84,
          158,
          77,
          37,
          87,
          193,
          45,
          40,
          41,
          90,
          46,
          76,
          68,
          39,
          41,
          30,
          24,
          76,
          194,
          107,
          37,
          34,
          157,
          101,
          110,
          30,
          62,
          60,
          139,
          59,
          80,
          47,
          49,
          56,
          35,
          34,
          58,
          43,
          54,
          42,
          46,
          38,
          136,
          163,
          51,
          40,
          172,
          138,
          36,
          55,
          32,
          32,
          106,
          58,
          27,
          57,
          46,
          26,
          54,
          43,
          158,
          86,
          29,
          41,
          85,
          41,
          29,
          28,
          27,
          61,
          49,
          93,
          131,
          73,
          33,
          47,
          72,
          45,
          24,
          161,
          130,
          42,
          50,
          68,
          39,
          39,
          40,
          34,
          21,
          89,
          162,
          95,
          42,
          31,
          69,
          38,
          40,
          41,
          37,
          37,
          33,
          48,
          140,
          27,
          54,
          296,
          31,
          40,
          36,
          36,
          52,
          266,
          53,
          29,
          42,
          61,
          65,
          73,
          53,
          41,
          65,
          155,
          161,
          48,
          25,
          29,
          50,
          51,
          51,
          167,
          33,
          113,
          37,
          68,
          26,
          38,
          25,
          99,
          78,
          84,
          40,
          74,
          24,
          129,
          28,
          305,
          26,
          201,
          35,
          33,
          42,
          101,
          17,
          30,
          73,
          160,
          57,
          42,
          80,
          48,
          147,
          183,
          172,
          64,
          42,
          44,
          77,
          207,
          91,
          77,
          40,
          42,
          38,
          46,
          45,
          40,
          33,
          85,
          35,
          31,
          58,
          70,
          247,
          27,
          162,
          162,
          73,
          60,
          142,
          43,
          89,
          119,
          6,
          56,
          45,
          57,
          36,
          33,
          73,
          97,
          65,
          75,
          145,
          88,
          69,
          35,
          58,
          61,
          19,
          74,
          41,
          47,
          80,
          151,
          35,
          88,
          25,
          41,
          35,
          201,
          107,
          47,
          45,
          64,
          46,
          49,
          79,
          64,
          79,
          49,
          64,
          25,
          53,
          47,
          260,
          162,
          61,
          80,
          99,
          32,
          66,
          56,
          37,
          36,
          68,
          33,
          22,
          39,
          43,
          66,
          7,
          53,
          31,
          60,
          35,
          41,
          89,
          40,
          119,
          80,
          20,
          159,
          41,
          16,
          91,
          67,
          208,
          117,
          81,
          124,
          28,
          49,
          31,
          129,
          49,
          26,
          87,
          75,
          33,
          25,
          51,
          27,
          49,
          89,
          161,
          34,
          28,
          38,
          109,
          51,
          63,
          100,
          39,
          74,
          86,
          156,
          41,
          85,
          97,
          55,
          87,
          36,
          45,
          27,
          57,
          26,
          48,
          40,
          31,
          47,
          76,
          205,
          143,
          16,
          32,
          56,
          135,
          38,
          99,
          76,
          58,
          63,
          86,
          114,
          43,
          144,
          107,
          136,
          29,
          56,
          73,
          70,
          25,
          66,
          36,
          77,
          63,
          147,
          223,
          58,
          130,
          30,
          165,
          115,
          33,
          6,
          64,
          42,
          106,
          51,
          37,
          40,
          92,
          34,
          25,
          39,
          26,
          48,
          45,
          43,
          31,
          87,
          55,
          81,
          57,
          26,
          96,
          27,
          54,
          25,
          26,
          68,
          24,
          32,
          69,
          35,
          37,
          156,
          26,
          35,
          72,
          183,
          258,
          34,
          62,
          141,
          70,
          40,
          125,
          32,
          100,
          79,
          87,
          59,
          39,
          87,
          131,
          99,
          38,
          49,
          279,
          28,
          49,
          156,
          77,
          30,
          66,
          150,
          157,
          73,
          166,
          27,
          88,
          52,
          29,
          51,
          38,
          27,
          52,
          51,
          83,
          42,
          32,
          35,
          78,
          28,
          63,
          157,
          233,
          30,
          97,
          90,
          119,
          129,
          31,
          163,
          63,
          156,
          58,
          25,
          45,
          39,
          37,
          159,
          150,
          58,
          57,
          37,
          25,
          114,
          163,
          92,
          156,
          70,
          51,
          60,
          164,
          142,
          161,
          93,
          32,
          25,
          41,
          95,
          87,
          77,
          43,
          66,
          137,
          38,
          38,
          57,
          30,
          114,
          160,
          127,
          25,
          80,
          40,
          74,
          77,
          31,
          37,
          38,
          70,
          44,
          36,
          86,
          41,
          64,
          35,
          65,
          82,
          25,
          161,
          40,
          26,
          46,
          111,
          26,
          84,
          157,
          88,
          57,
          25,
          37,
          72,
          77,
          105,
          25,
          35,
          80,
          29,
          32,
          55,
          63,
          47,
          80,
          266,
          68,
          34,
          76,
          133,
          134,
          34,
          27,
          74,
          26,
          82,
          27,
          100,
          74,
          41,
          47,
          91,
          158,
          39,
          10,
          74,
          30,
          52,
          49,
          26,
          186,
          121,
          95,
          41,
          90,
          32,
          157,
          48,
          27,
          72,
          144,
          117,
          135,
          88,
          78,
          35,
          40,
          125,
          22,
          109,
          70,
          54,
          43,
          43,
          31,
          155,
          20,
          141,
          63,
          31,
          145,
          142,
          83,
          37,
          293,
          28,
          8,
          66,
          156,
          107,
          85,
          77,
          18,
          80,
          40,
          132,
          57,
          66,
          69,
          332,
          43,
          89,
          85,
          27,
          114,
          159,
          39,
          38,
          115,
          75,
          64,
          30,
          33,
          49,
          35,
          46,
          157,
          58,
          30,
          38,
          42,
          73,
          118,
          71,
          32,
          30,
          37,
          69,
          24,
          142,
          153,
          52,
          22,
          43,
          116,
          47,
          54,
          159,
          36,
          160,
          35,
          49,
          145,
          39,
          120,
          97,
          55,
          183,
          42,
          90,
          50,
          73,
          124,
          17,
          145,
          26,
          67,
          28,
          48,
          39,
          104,
          41,
          145,
          54,
          166,
          149,
          30,
          44,
          28,
          154,
          88,
          33,
          63,
          77,
          64,
          25,
          411,
          59,
          34,
          48,
          141,
          25,
          41,
          56,
          96,
          286,
          39,
          63,
          39,
          157,
          106,
          68,
          152,
          203,
          29,
          127,
          34,
          68,
          42,
          86,
          45,
          38,
          26,
          44,
          75,
          69,
          46,
          49,
          119,
          59,
          58,
          169,
          32,
          99,
          39,
          52,
          64,
          42,
          144,
          33,
          33,
          34,
          76,
          28,
          32,
          384,
          72,
          29,
          39,
          330,
          120,
          53,
          92,
          240,
          239,
          98,
          88,
          47,
          102,
          26,
          148,
          29,
          163,
          100,
          42,
          27,
          36,
          79,
          52,
          18,
          25,
          54,
          31,
          72,
          162,
          47,
          27,
          23,
          129,
          44,
          43,
          165,
          174,
          31,
          65,
          74,
          112,
          138,
          5,
          20,
          24,
          28,
          26,
          77,
          29,
          152,
          27,
          33,
          65,
          135,
          46,
          45,
          61,
          128,
          97,
          107,
          97,
          42,
          29,
          63,
          25,
          161,
          61,
          123,
          50,
          113,
          208,
          76,
          34,
          32,
          155,
          45,
          51,
          140,
          108,
          158,
          48,
          38,
          81,
          162,
          129,
          52,
          76,
          169,
          53,
          145,
          123,
          57,
          156,
          26,
          55,
          93,
          26,
          27,
          159,
          28,
          76,
          37,
          161,
          211,
          59,
          115,
          38,
          126,
          33,
          27,
          49,
          37,
          145,
          78,
          98,
          80,
          82,
          232,
          47,
          120,
          73,
          56,
          109,
          33,
          89,
          41,
          70,
          42,
          100,
          159,
          76,
          38,
          75,
          137,
          109,
          38,
          25,
          34,
          22,
          57,
          32,
          104,
          25,
          92,
          78,
          37,
          30,
          37,
          40,
          175,
          55,
          27,
          57,
          59,
          44,
          92,
          37,
          46,
          46,
          46,
          29,
          58,
          69,
          58,
          52,
          10,
          30,
          31,
          36,
          160,
          41,
          162,
          142,
          25,
          51,
          35,
          83,
          29,
          109,
          54,
          59,
          16,
          36,
          33,
          34,
          38,
          27,
          29,
          52,
          163,
          62,
          67,
          112,
          28,
          27,
          39,
          58,
          39,
          69,
          28,
          40,
          47,
          163,
          66,
          36,
          20,
          43,
          46,
          13,
          54,
          157,
          116,
          150,
          53,
          67,
          29,
          12,
          25,
          13,
          127,
          35,
          27,
          98,
          38,
          62,
          76,
          91,
          80,
          67,
          79,
          58,
          29,
          115,
          80,
          56,
          105,
          82,
          45,
          62,
          35,
          73,
          73,
          127,
          24,
          80,
          28,
          39,
          78,
          39,
          51,
          178,
          240,
          26,
          108,
          65,
          40,
          55,
          25,
          45,
          82,
          136,
          94,
          102,
          65,
          37,
          43,
          160,
          136,
          59,
          96,
          34,
          29,
          86,
          79,
          25,
          45,
          123,
          65,
          27,
          161,
          49,
          64,
          159,
          56,
          76,
          90,
          77,
          61,
          83,
          35,
          150,
          54,
          48,
          32,
          160,
          59,
          71,
          25,
          25,
          87,
          46,
          65,
          49,
          50,
          154,
          243,
          48,
          33,
          117,
          35,
          46,
          113,
          204,
          154,
          89,
          49,
          44,
          87,
          32,
          101,
          89,
          18,
          40,
          45,
          10,
          114,
          45,
          32,
          71,
          65,
          72,
          148,
          41,
          49,
          32,
          124,
          36,
          45,
          92,
          77,
          74,
          48,
          40,
          36,
          57,
          72,
          46,
          84,
          56,
          79,
          25,
          30,
          112,
          15,
          47,
          61,
          8,
          124,
          159,
          25,
          61,
          43,
          302,
          42,
          95,
          161,
          85,
          38,
          69,
          30,
          35,
          88,
          129,
          78,
          95,
          30,
          38,
          148,
          116,
          34,
          25,
          169,
          279,
          174,
          79,
          161,
          25,
          27,
          47,
          54,
          47,
          50,
          47,
          39,
          418,
          35,
          25,
          43,
          27,
          163,
          83,
          30,
          240,
          137,
          36,
          83,
          48,
          51,
          151,
          159,
          41,
          52,
          41,
          51,
          25,
          101,
          152,
          40,
          25,
          36,
          86,
          27,
          41,
          132,
          88,
          49,
          90,
          109,
          98,
          89,
          110,
          43,
          36,
          149,
          139,
          103,
          67,
          76,
          149,
          42,
          35,
          68,
          44,
          155,
          12,
          37,
          69,
          136,
          128,
          135,
          47,
          45,
          145,
          65,
          57,
          57,
          59,
          93,
          114,
          25,
          25,
          60,
          27,
          41,
          35,
          73,
          28,
          99,
          100,
          30,
          156,
          45,
          64,
          54,
          31,
          25,
          29,
          81,
          54,
          45,
          250,
          84,
          18,
          31,
          31,
          81,
          63,
          62,
          62,
          149,
          76,
          50,
          155,
          34,
          69,
          22,
          60,
          103,
          25,
          47,
          70,
          87,
          51,
          46,
          72,
          30,
          75,
          31,
          136,
          101,
          73,
          44,
          114,
          100,
          92,
          34,
          92,
          157,
          46,
          49,
          114,
          30,
          178,
          45,
          141,
          53,
          33,
          52,
          94,
          39,
          33,
          66,
          122,
          29,
          85,
          26,
          56,
          69,
          65,
          77,
          96,
          152,
          46,
          155,
          259,
          54,
          24,
          54,
          88,
          97,
          25,
          34,
          27,
          49,
          68,
          35,
          123,
          39,
          74,
          73,
          169,
          35,
          44,
          101,
          453,
          153,
          50,
          60,
          157,
          36,
          30,
          94,
          42,
          56,
          91,
          31,
          46,
          35,
          76,
          33,
          157,
          110,
          104,
          34,
          52,
          284,
          40,
          73,
          117,
          119,
          50,
          30,
          90,
          91,
          231,
          105,
          136,
          91,
          39,
          80,
          107,
          90,
          31,
          133,
          82,
          187,
          56,
          34,
          88,
          80,
          26,
          79,
          31,
          33,
          78,
          39,
          26,
          36,
          102,
          27,
          70,
          27,
          88,
          31,
          49,
          7,
          58,
          96,
          73,
          89,
          104,
          160,
          52,
          28,
          38,
          51,
          46,
          30,
          21,
          7,
          25,
          72,
          40,
          42,
          137,
          88,
          119,
          45,
          43,
          26,
          64,
          46,
          112,
          33,
          332,
          94,
          34,
          32,
          25,
          43,
          32,
          41,
          44,
          54,
          38,
          92,
          54,
          43,
          115,
          144,
          48,
          74,
          38,
          32,
          146,
          51,
          24,
          101,
          139,
          35,
          46,
          51,
          28,
          22,
          136,
          69,
          61,
          122,
          56,
          41,
          48,
          102,
          80,
          58,
          26,
          24,
          36,
          49,
          26,
          85,
          130,
          77,
          26,
          68,
          330,
          29,
          155,
          48,
          86,
          54,
          48,
          155,
          45,
          104,
          32,
          66,
          171,
          128,
          38,
          41,
          52,
          34,
          27,
          43,
          116,
          122,
          53,
          26,
          50,
          41,
          54,
          35,
          128,
          39,
          58,
          26,
          38,
          90,
          74,
          97,
          102,
          54,
          26,
          165,
          85,
          35,
          149,
          124,
          43,
          30,
          31,
          100,
          162,
          31,
          39,
          67,
          33,
          29,
          192,
          163,
          29,
          32,
          27,
          32,
          50,
          75,
          40,
          128,
          55,
          195,
          129,
          42,
          28,
          38,
          36,
          41,
          80,
          41,
          20,
          133,
          136,
          43,
          14,
          48,
          70,
          43,
          87,
          103,
          148,
          33,
          5,
          128,
          136,
          59,
          45,
          73,
          53,
          138,
          49,
          41,
          49,
          47,
          215,
          54,
          119,
          83,
          51,
          67,
          91,
          164,
          150,
          27,
          104,
          43,
          39,
          29,
          26,
          62,
          107,
          44,
          53,
          43,
          32,
          52,
          48,
          166,
          89,
          132,
          43,
          72,
          31,
          37,
          165,
          26,
          42,
          85,
          39,
          83,
          84,
          13,
          93,
          115,
          43,
          75,
          85,
          40,
          43,
          42,
          25,
          87,
          43,
          48,
          35,
          100,
          105,
          37,
          25,
          54,
          62,
          36,
          29,
          31,
          39,
          47,
          48,
          93,
          102,
          73,
          71,
          107,
          40,
          54,
          26,
          254,
          43,
          41,
          47,
          104,
          30,
          25,
          123,
          54,
          20,
          52,
          92,
          10,
          29,
          6,
          82,
          38,
          125,
          57,
          77,
          53,
          28,
          64,
          38,
          34,
          82,
          172,
          138,
          36,
          26,
          46,
          26,
          68,
          68,
          158,
          121,
          61,
          37,
          48,
          158,
          39,
          85,
          43,
          130,
          152,
          41,
          61,
          64,
          27,
          42,
          28,
          72,
          36,
          248,
          142,
          169,
          125,
          59,
          35,
          38,
          38,
          26,
          106,
          71,
          52,
          28,
          67,
          63,
          43,
          116,
          31,
          332,
          57,
          161,
          29,
          24,
          43,
          41,
          157,
          48,
          45,
          37,
          90,
          46,
          54,
          94,
          30,
          101,
          156,
          66,
          276,
          25,
          69,
          36,
          73,
          99,
          22,
          70,
          15,
          40,
          60,
          128,
          29
         ],
         "xaxis": "x",
         "yaxis": "y"
        },
        {
         "alignmentgroup": "True",
         "bingroup": "x",
         "histnorm": "density",
         "hovertemplate": "label=1<br>Message Length=%{x}<br>density=%{y}<extra></extra>",
         "legendgroup": "1",
         "marker": {
          "color": "#EF553B",
          "opacity": 0.5,
          "pattern": {
           "shape": ""
          }
         },
         "name": "1",
         "nbinsx": 50,
         "offsetgroup": "1",
         "orientation": "v",
         "showlegend": true,
         "type": "histogram",
         "x": [
          158,
          151,
          161,
          157,
          139,
          159,
          152,
          159,
          162,
          175,
          123,
          164,
          156,
          164,
          83,
          142,
          161,
          162,
          156,
          147,
          160,
          159,
          129,
          165,
          158,
          162,
          127,
          149,
          155,
          158,
          160,
          152,
          75,
          146,
          140,
          160,
          148,
          153,
          157,
          124,
          162,
          136,
          158,
          162,
          149,
          141,
          137,
          160,
          131,
          162,
          114,
          153,
          151,
          168,
          132,
          160,
          152,
          158,
          161,
          52,
          110,
          162,
          165,
          140,
          160,
          167,
          178,
          164,
          162,
          149,
          163,
          173,
          151,
          149,
          92,
          148,
          163,
          114,
          149,
          99,
          163,
          72,
          103,
          152,
          130,
          145,
          151,
          89,
          138,
          143,
          133,
          153,
          146,
          139,
          100,
          62,
          97,
          157,
          161,
          114,
          158,
          163,
          40,
          166,
          150,
          104,
          152,
          135,
          105,
          68,
          99,
          164,
          154,
          102,
          132,
          161,
          163,
          157,
          165,
          146,
          153,
          136,
          159,
          164,
          150,
          155,
          152,
          158,
          165,
          156,
          163,
          147,
          164,
          152,
          137,
          157,
          161,
          140,
          135,
          146,
          130,
          161,
          165,
          158,
          143,
          162,
          152,
          135,
          140,
          44,
          160,
          144,
          152,
          153,
          161,
          159,
          104,
          107,
          138,
          156,
          146,
          137,
          160,
          93,
          156,
          150,
          145,
          162,
          73,
          159,
          156,
          159,
          108,
          123,
          161,
          118,
          143,
          158,
          162,
          158,
          52,
          150,
          151,
          53,
          146,
          149,
          162,
          126,
          84,
          123,
          150,
          69,
          166,
          158,
          143,
          129,
          158,
          104,
          154,
          157,
          162,
          146,
          166,
          146,
          155,
          74,
          144,
          145,
          162,
          157,
          84,
          156,
          162,
          164,
          133,
          157,
          125,
          124,
          160,
          162,
          153,
          159,
          148,
          152,
          139,
          149,
          147,
          156,
          135,
          74,
          150,
          164,
          159,
          163,
          126,
          151,
          163,
          161,
          76,
          177,
          117,
          129,
          151,
          148,
          141,
          227,
          162,
          158,
          146,
          165,
          36,
          157,
          167,
          157,
          135,
          159,
          154,
          164,
          161,
          157,
          120,
          87,
          158,
          135,
          158,
          156,
          166,
          159,
          146,
          161,
          148,
          145,
          163,
          165,
          159,
          77,
          136,
          107,
          156,
          132,
          146,
          123,
          161,
          158,
          155,
          162,
          165,
          152,
          164,
          33,
          159,
          164,
          147,
          162,
          158,
          162,
          164,
          163,
          173,
          140,
          157,
          164,
          150,
          161,
          155,
          162,
          164,
          159,
          160,
          184,
          163,
          160,
          158,
          163,
          125,
          36,
          162,
          51,
          186,
          163,
          150,
          165,
          154,
          161,
          117,
          170,
          163,
          123,
          85,
          152,
          165,
          161,
          161,
          112,
          164,
          155,
          161,
          155,
          161,
          155,
          125,
          164,
          119,
          171,
          153,
          161,
          103,
          104,
          159,
          73,
          163,
          156,
          137,
          134,
          156,
          140,
          159,
          176,
          112,
          157,
          150,
          133,
          168,
          166,
          133,
          139,
          161,
          156,
          161,
          28,
          159,
          163,
          121,
          138,
          157,
          169,
          161,
          158,
          144,
          127,
          127,
          134,
          36,
          161,
          163,
          140,
          155,
          161,
          163,
          114,
          160,
          154,
          55,
          155,
          143,
          157,
          166,
          142,
          140,
          151,
          51,
          103,
          123,
          150,
          138,
          162,
          110,
          150,
          125,
          137,
          114,
          167,
          113,
          155,
          156,
          144,
          150,
          124,
          143,
          115,
          146,
          142,
          159,
          147,
          148,
          163,
          155,
          104,
          117,
          162,
          156,
          151,
          162,
          160,
          139,
          145,
          160,
          176,
          53,
          142,
          108,
          160,
          137,
          43,
          149,
          143,
          81,
          153,
          163,
          84,
          130,
          156,
          160,
          139,
          160,
          156,
          67,
          163,
          161,
          164,
          109,
          142,
          156,
          156,
          104,
          160,
          151,
          143,
          164,
          159,
          153,
          160,
          155,
          165,
          160,
          71,
          136,
          137,
          148,
          152,
          146,
          158,
          160,
          118,
          169,
          160,
          155,
          159,
          159,
          153,
          182,
          162,
          117,
          200,
          159,
          16,
          150,
          104,
          112,
          161,
          140,
          162,
          89,
          158,
          159,
          161,
          162,
          123,
          165,
          165,
          155,
          142,
          112,
          110,
          99,
          154,
          154,
          156,
          124,
          131,
          148,
          89,
          161,
          105,
          117,
          141,
          138,
          149,
          163,
          21,
          66,
          140,
          98,
          146,
          162,
          164,
          152,
          76,
          162,
          162,
          152,
          50,
          159,
          159,
          162,
          152,
          144,
          109,
          117,
          157,
          151,
          138,
          170,
          135,
          125,
          144,
          160,
          155,
          149,
          163,
          164,
          147,
          157,
          115,
          160,
          147,
          152,
          161,
          158,
          151,
          160,
          75,
          160,
          163,
          138,
          108,
          77,
          160,
          155,
          139,
          166,
          161,
          77,
          158,
          84,
          141,
          165,
          137,
          164,
          148,
          166,
          129,
          138,
          136,
          149,
          147,
          159,
          75,
          135,
          86,
          140,
          164,
          154,
          50,
          68,
          128,
          161,
          76,
          54,
          164,
          166,
          163,
          146,
          159,
          151,
          118,
          162,
          155,
          130,
          161,
          162,
          159,
          147,
          111,
          142,
          169,
          146,
          158,
          161,
          139,
          155,
          163,
          158,
          135,
          156,
          146,
          157,
          109,
          163,
          158,
          147,
          142,
          92,
          150,
          139,
          161,
          156,
          72,
          155,
          156,
          138,
          139,
          162,
          98,
          140,
          150,
          153,
          135,
          149,
          137,
          184,
          158,
          156,
          162,
          127,
          123,
          140,
          143,
          156,
          163,
          140,
          141,
          180,
          172,
          159,
          157,
          149,
          136,
          129,
          152,
          138,
          112,
          162,
          148,
          135,
          163,
          140,
          135,
          161,
          152,
          156,
          50,
          162,
          159,
          47,
          167,
          165,
          159,
          163,
          122,
          145,
          159,
          153,
          154,
          167,
          163,
          139,
          149,
          162,
          158,
          130,
          148,
          147,
          159,
          158,
          160,
          160,
          159,
          115,
          109,
          160,
          159,
          142,
          93,
          163,
          45,
          109,
          166,
          73,
          115,
          160,
          150,
          88,
          159,
          146,
          152,
          148,
          164,
          161,
          151,
          156,
          137,
          93,
          163,
          163,
          150,
          164
         ],
         "xaxis": "x",
         "yaxis": "y"
        }
       ],
       "layout": {
        "barmode": "overlay",
        "legend": {
         "title": {
          "text": "label"
         },
         "tracegroupgap": 0
        },
        "template": {
         "data": {
          "bar": [
           {
            "error_x": {
             "color": "#2a3f5f"
            },
            "error_y": {
             "color": "#2a3f5f"
            },
            "marker": {
             "line": {
              "color": "#E5ECF6",
              "width": 0.5
             },
             "pattern": {
              "fillmode": "overlay",
              "size": 10,
              "solidity": 0.2
             }
            },
            "type": "bar"
           }
          ],
          "barpolar": [
           {
            "marker": {
             "line": {
              "color": "#E5ECF6",
              "width": 0.5
             },
             "pattern": {
              "fillmode": "overlay",
              "size": 10,
              "solidity": 0.2
             }
            },
            "type": "barpolar"
           }
          ],
          "carpet": [
           {
            "aaxis": {
             "endlinecolor": "#2a3f5f",
             "gridcolor": "white",
             "linecolor": "white",
             "minorgridcolor": "white",
             "startlinecolor": "#2a3f5f"
            },
            "baxis": {
             "endlinecolor": "#2a3f5f",
             "gridcolor": "white",
             "linecolor": "white",
             "minorgridcolor": "white",
             "startlinecolor": "#2a3f5f"
            },
            "type": "carpet"
           }
          ],
          "choropleth": [
           {
            "colorbar": {
             "outlinewidth": 0,
             "ticks": ""
            },
            "type": "choropleth"
           }
          ],
          "contour": [
           {
            "colorbar": {
             "outlinewidth": 0,
             "ticks": ""
            },
            "colorscale": [
             [
              0,
              "#0d0887"
             ],
             [
              0.1111111111111111,
              "#46039f"
             ],
             [
              0.2222222222222222,
              "#7201a8"
             ],
             [
              0.3333333333333333,
              "#9c179e"
             ],
             [
              0.4444444444444444,
              "#bd3786"
             ],
             [
              0.5555555555555556,
              "#d8576b"
             ],
             [
              0.6666666666666666,
              "#ed7953"
             ],
             [
              0.7777777777777778,
              "#fb9f3a"
             ],
             [
              0.8888888888888888,
              "#fdca26"
             ],
             [
              1,
              "#f0f921"
             ]
            ],
            "type": "contour"
           }
          ],
          "contourcarpet": [
           {
            "colorbar": {
             "outlinewidth": 0,
             "ticks": ""
            },
            "type": "contourcarpet"
           }
          ],
          "heatmap": [
           {
            "colorbar": {
             "outlinewidth": 0,
             "ticks": ""
            },
            "colorscale": [
             [
              0,
              "#0d0887"
             ],
             [
              0.1111111111111111,
              "#46039f"
             ],
             [
              0.2222222222222222,
              "#7201a8"
             ],
             [
              0.3333333333333333,
              "#9c179e"
             ],
             [
              0.4444444444444444,
              "#bd3786"
             ],
             [
              0.5555555555555556,
              "#d8576b"
             ],
             [
              0.6666666666666666,
              "#ed7953"
             ],
             [
              0.7777777777777778,
              "#fb9f3a"
             ],
             [
              0.8888888888888888,
              "#fdca26"
             ],
             [
              1,
              "#f0f921"
             ]
            ],
            "type": "heatmap"
           }
          ],
          "heatmapgl": [
           {
            "colorbar": {
             "outlinewidth": 0,
             "ticks": ""
            },
            "colorscale": [
             [
              0,
              "#0d0887"
             ],
             [
              0.1111111111111111,
              "#46039f"
             ],
             [
              0.2222222222222222,
              "#7201a8"
             ],
             [
              0.3333333333333333,
              "#9c179e"
             ],
             [
              0.4444444444444444,
              "#bd3786"
             ],
             [
              0.5555555555555556,
              "#d8576b"
             ],
             [
              0.6666666666666666,
              "#ed7953"
             ],
             [
              0.7777777777777778,
              "#fb9f3a"
             ],
             [
              0.8888888888888888,
              "#fdca26"
             ],
             [
              1,
              "#f0f921"
             ]
            ],
            "type": "heatmapgl"
           }
          ],
          "histogram": [
           {
            "marker": {
             "pattern": {
              "fillmode": "overlay",
              "size": 10,
              "solidity": 0.2
             }
            },
            "type": "histogram"
           }
          ],
          "histogram2d": [
           {
            "colorbar": {
             "outlinewidth": 0,
             "ticks": ""
            },
            "colorscale": [
             [
              0,
              "#0d0887"
             ],
             [
              0.1111111111111111,
              "#46039f"
             ],
             [
              0.2222222222222222,
              "#7201a8"
             ],
             [
              0.3333333333333333,
              "#9c179e"
             ],
             [
              0.4444444444444444,
              "#bd3786"
             ],
             [
              0.5555555555555556,
              "#d8576b"
             ],
             [
              0.6666666666666666,
              "#ed7953"
             ],
             [
              0.7777777777777778,
              "#fb9f3a"
             ],
             [
              0.8888888888888888,
              "#fdca26"
             ],
             [
              1,
              "#f0f921"
             ]
            ],
            "type": "histogram2d"
           }
          ],
          "histogram2dcontour": [
           {
            "colorbar": {
             "outlinewidth": 0,
             "ticks": ""
            },
            "colorscale": [
             [
              0,
              "#0d0887"
             ],
             [
              0.1111111111111111,
              "#46039f"
             ],
             [
              0.2222222222222222,
              "#7201a8"
             ],
             [
              0.3333333333333333,
              "#9c179e"
             ],
             [
              0.4444444444444444,
              "#bd3786"
             ],
             [
              0.5555555555555556,
              "#d8576b"
             ],
             [
              0.6666666666666666,
              "#ed7953"
             ],
             [
              0.7777777777777778,
              "#fb9f3a"
             ],
             [
              0.8888888888888888,
              "#fdca26"
             ],
             [
              1,
              "#f0f921"
             ]
            ],
            "type": "histogram2dcontour"
           }
          ],
          "mesh3d": [
           {
            "colorbar": {
             "outlinewidth": 0,
             "ticks": ""
            },
            "type": "mesh3d"
           }
          ],
          "parcoords": [
           {
            "line": {
             "colorbar": {
              "outlinewidth": 0,
              "ticks": ""
             }
            },
            "type": "parcoords"
           }
          ],
          "pie": [
           {
            "automargin": true,
            "type": "pie"
           }
          ],
          "scatter": [
           {
            "fillpattern": {
             "fillmode": "overlay",
             "size": 10,
             "solidity": 0.2
            },
            "type": "scatter"
           }
          ],
          "scatter3d": [
           {
            "line": {
             "colorbar": {
              "outlinewidth": 0,
              "ticks": ""
             }
            },
            "marker": {
             "colorbar": {
              "outlinewidth": 0,
              "ticks": ""
             }
            },
            "type": "scatter3d"
           }
          ],
          "scattercarpet": [
           {
            "marker": {
             "colorbar": {
              "outlinewidth": 0,
              "ticks": ""
             }
            },
            "type": "scattercarpet"
           }
          ],
          "scattergeo": [
           {
            "marker": {
             "colorbar": {
              "outlinewidth": 0,
              "ticks": ""
             }
            },
            "type": "scattergeo"
           }
          ],
          "scattergl": [
           {
            "marker": {
             "colorbar": {
              "outlinewidth": 0,
              "ticks": ""
             }
            },
            "type": "scattergl"
           }
          ],
          "scattermapbox": [
           {
            "marker": {
             "colorbar": {
              "outlinewidth": 0,
              "ticks": ""
             }
            },
            "type": "scattermapbox"
           }
          ],
          "scatterpolar": [
           {
            "marker": {
             "colorbar": {
              "outlinewidth": 0,
              "ticks": ""
             }
            },
            "type": "scatterpolar"
           }
          ],
          "scatterpolargl": [
           {
            "marker": {
             "colorbar": {
              "outlinewidth": 0,
              "ticks": ""
             }
            },
            "type": "scatterpolargl"
           }
          ],
          "scatterternary": [
           {
            "marker": {
             "colorbar": {
              "outlinewidth": 0,
              "ticks": ""
             }
            },
            "type": "scatterternary"
           }
          ],
          "surface": [
           {
            "colorbar": {
             "outlinewidth": 0,
             "ticks": ""
            },
            "colorscale": [
             [
              0,
              "#0d0887"
             ],
             [
              0.1111111111111111,
              "#46039f"
             ],
             [
              0.2222222222222222,
              "#7201a8"
             ],
             [
              0.3333333333333333,
              "#9c179e"
             ],
             [
              0.4444444444444444,
              "#bd3786"
             ],
             [
              0.5555555555555556,
              "#d8576b"
             ],
             [
              0.6666666666666666,
              "#ed7953"
             ],
             [
              0.7777777777777778,
              "#fb9f3a"
             ],
             [
              0.8888888888888888,
              "#fdca26"
             ],
             [
              1,
              "#f0f921"
             ]
            ],
            "type": "surface"
           }
          ],
          "table": [
           {
            "cells": {
             "fill": {
              "color": "#EBF0F8"
             },
             "line": {
              "color": "white"
             }
            },
            "header": {
             "fill": {
              "color": "#C8D4E3"
             },
             "line": {
              "color": "white"
             }
            },
            "type": "table"
           }
          ]
         },
         "layout": {
          "annotationdefaults": {
           "arrowcolor": "#2a3f5f",
           "arrowhead": 0,
           "arrowwidth": 1
          },
          "autotypenumbers": "strict",
          "coloraxis": {
           "colorbar": {
            "outlinewidth": 0,
            "ticks": ""
           }
          },
          "colorscale": {
           "diverging": [
            [
             0,
             "#8e0152"
            ],
            [
             0.1,
             "#c51b7d"
            ],
            [
             0.2,
             "#de77ae"
            ],
            [
             0.3,
             "#f1b6da"
            ],
            [
             0.4,
             "#fde0ef"
            ],
            [
             0.5,
             "#f7f7f7"
            ],
            [
             0.6,
             "#e6f5d0"
            ],
            [
             0.7,
             "#b8e186"
            ],
            [
             0.8,
             "#7fbc41"
            ],
            [
             0.9,
             "#4d9221"
            ],
            [
             1,
             "#276419"
            ]
           ],
           "sequential": [
            [
             0,
             "#0d0887"
            ],
            [
             0.1111111111111111,
             "#46039f"
            ],
            [
             0.2222222222222222,
             "#7201a8"
            ],
            [
             0.3333333333333333,
             "#9c179e"
            ],
            [
             0.4444444444444444,
             "#bd3786"
            ],
            [
             0.5555555555555556,
             "#d8576b"
            ],
            [
             0.6666666666666666,
             "#ed7953"
            ],
            [
             0.7777777777777778,
             "#fb9f3a"
            ],
            [
             0.8888888888888888,
             "#fdca26"
            ],
            [
             1,
             "#f0f921"
            ]
           ],
           "sequentialminus": [
            [
             0,
             "#0d0887"
            ],
            [
             0.1111111111111111,
             "#46039f"
            ],
            [
             0.2222222222222222,
             "#7201a8"
            ],
            [
             0.3333333333333333,
             "#9c179e"
            ],
            [
             0.4444444444444444,
             "#bd3786"
            ],
            [
             0.5555555555555556,
             "#d8576b"
            ],
            [
             0.6666666666666666,
             "#ed7953"
            ],
            [
             0.7777777777777778,
             "#fb9f3a"
            ],
            [
             0.8888888888888888,
             "#fdca26"
            ],
            [
             1,
             "#f0f921"
            ]
           ]
          },
          "colorway": [
           "#636efa",
           "#EF553B",
           "#00cc96",
           "#ab63fa",
           "#FFA15A",
           "#19d3f3",
           "#FF6692",
           "#B6E880",
           "#FF97FF",
           "#FECB52"
          ],
          "font": {
           "color": "#2a3f5f"
          },
          "geo": {
           "bgcolor": "white",
           "lakecolor": "white",
           "landcolor": "#E5ECF6",
           "showlakes": true,
           "showland": true,
           "subunitcolor": "white"
          },
          "hoverlabel": {
           "align": "left"
          },
          "hovermode": "closest",
          "mapbox": {
           "style": "light"
          },
          "paper_bgcolor": "white",
          "plot_bgcolor": "#E5ECF6",
          "polar": {
           "angularaxis": {
            "gridcolor": "white",
            "linecolor": "white",
            "ticks": ""
           },
           "bgcolor": "#E5ECF6",
           "radialaxis": {
            "gridcolor": "white",
            "linecolor": "white",
            "ticks": ""
           }
          },
          "scene": {
           "xaxis": {
            "backgroundcolor": "#E5ECF6",
            "gridcolor": "white",
            "gridwidth": 2,
            "linecolor": "white",
            "showbackground": true,
            "ticks": "",
            "zerolinecolor": "white"
           },
           "yaxis": {
            "backgroundcolor": "#E5ECF6",
            "gridcolor": "white",
            "gridwidth": 2,
            "linecolor": "white",
            "showbackground": true,
            "ticks": "",
            "zerolinecolor": "white"
           },
           "zaxis": {
            "backgroundcolor": "#E5ECF6",
            "gridcolor": "white",
            "gridwidth": 2,
            "linecolor": "white",
            "showbackground": true,
            "ticks": "",
            "zerolinecolor": "white"
           }
          },
          "shapedefaults": {
           "line": {
            "color": "#2a3f5f"
           }
          },
          "ternary": {
           "aaxis": {
            "gridcolor": "white",
            "linecolor": "white",
            "ticks": ""
           },
           "baxis": {
            "gridcolor": "white",
            "linecolor": "white",
            "ticks": ""
           },
           "bgcolor": "#E5ECF6",
           "caxis": {
            "gridcolor": "white",
            "linecolor": "white",
            "ticks": ""
           }
          },
          "title": {
           "x": 0.05
          },
          "xaxis": {
           "automargin": true,
           "gridcolor": "white",
           "linecolor": "white",
           "ticks": "",
           "title": {
            "standoff": 15
           },
           "zerolinecolor": "white",
           "zerolinewidth": 2
          },
          "yaxis": {
           "automargin": true,
           "gridcolor": "white",
           "linecolor": "white",
           "ticks": "",
           "title": {
            "standoff": 15
           },
           "zerolinecolor": "white",
           "zerolinewidth": 2
          }
         }
        },
        "title": {
         "text": "Message Length Distribution"
        },
        "xaxis": {
         "anchor": "y",
         "domain": [
          0,
          1
         ],
         "title": {
          "text": "Message Length"
         }
        },
        "yaxis": {
         "anchor": "x",
         "domain": [
          0,
          1
         ],
         "title": {
          "text": "density"
         }
        }
       }
      }
     },
     "metadata": {},
     "output_type": "display_data"
    }
   ],
   "source": [
    "# Plot message length distribution\n",
    "fig = px.histogram(\n",
    "    data,\n",
    "    x=\"message_length\",\n",
    "    color=\"label\",\n",
    "    nbins=50,\n",
    "    title=\"Message Length Distribution\",\n",
    "    labels={\"message_length\": \"Message Length\"},\n",
    "    barmode=\"overlay\",\n",
    "    histnorm=\"density\",\n",
    ")\n",
    "fig.show()"
   ]
  },
  {
   "cell_type": "markdown",
   "metadata": {},
   "source": [
    "## Text cleaning"
   ]
  },
  {
   "cell_type": "code",
   "execution_count": 12,
   "metadata": {},
   "outputs": [],
   "source": [
    "# Loading english core\n",
    "nlp = en_core_web_sm.load()\n",
    "\n",
    "def clean_text(text):\n",
    "    text = text.lower()\n",
    "    text = re.sub(r'[^a-zA-Z\\s]', '', text)\n",
    "    text = re.sub(r'ltgt', '', text)\n",
    "    text = text.replace(\"  \", \" \").lower().strip()\n",
    "    doc = nlp(text)\n",
    "    text = \" \".join([token.lemma_ for token in doc if token.lemma_ not in STOP_WORDS])\n",
    "    return text\n",
    "\n",
    "# Apply text cleaning and remove stopwords with spaCy\n",
    "data['cleaned_message'] = data['message'].apply(clean_text)"
   ]
  },
  {
   "cell_type": "code",
   "execution_count": 13,
   "metadata": {},
   "outputs": [
    {
     "data": {
      "text/html": [
       "<div>\n",
       "<style scoped>\n",
       "    .dataframe tbody tr th:only-of-type {\n",
       "        vertical-align: middle;\n",
       "    }\n",
       "\n",
       "    .dataframe tbody tr th {\n",
       "        vertical-align: top;\n",
       "    }\n",
       "\n",
       "    .dataframe thead th {\n",
       "        text-align: right;\n",
       "    }\n",
       "</style>\n",
       "<table border=\"1\" class=\"dataframe\">\n",
       "  <thead>\n",
       "    <tr style=\"text-align: right;\">\n",
       "      <th></th>\n",
       "      <th>label</th>\n",
       "      <th>message</th>\n",
       "      <th>message_length</th>\n",
       "      <th>cleaned_message</th>\n",
       "    </tr>\n",
       "  </thead>\n",
       "  <tbody>\n",
       "    <tr>\n",
       "      <th>0</th>\n",
       "      <td>0</td>\n",
       "      <td>Go until jurong point, crazy.. Available only ...</td>\n",
       "      <td>114</td>\n",
       "      <td>jurong point crazy available bugis n great wor...</td>\n",
       "    </tr>\n",
       "    <tr>\n",
       "      <th>1</th>\n",
       "      <td>0</td>\n",
       "      <td>Ok lar... Joking wif u oni...</td>\n",
       "      <td>32</td>\n",
       "      <td>ok lar joking wif u oni</td>\n",
       "    </tr>\n",
       "    <tr>\n",
       "      <th>2</th>\n",
       "      <td>1</td>\n",
       "      <td>Free entry in 2 a wkly comp to win FA Cup fina...</td>\n",
       "      <td>158</td>\n",
       "      <td>free entry wkly comp win fa cup final tkts st ...</td>\n",
       "    </tr>\n",
       "    <tr>\n",
       "      <th>3</th>\n",
       "      <td>0</td>\n",
       "      <td>U dun say so early hor... U c already then say...</td>\n",
       "      <td>52</td>\n",
       "      <td>u dun early hor u c</td>\n",
       "    </tr>\n",
       "    <tr>\n",
       "      <th>4</th>\n",
       "      <td>0</td>\n",
       "      <td>Nah I don't think he goes to usf, he lives aro...</td>\n",
       "      <td>64</td>\n",
       "      <td>nah I think usf live</td>\n",
       "    </tr>\n",
       "  </tbody>\n",
       "</table>\n",
       "</div>"
      ],
      "text/plain": [
       "   label                                            message  message_length  \\\n",
       "0      0  Go until jurong point, crazy.. Available only ...             114   \n",
       "1      0                   Ok lar... Joking wif u oni...                 32   \n",
       "2      1  Free entry in 2 a wkly comp to win FA Cup fina...             158   \n",
       "3      0  U dun say so early hor... U c already then say...              52   \n",
       "4      0  Nah I don't think he goes to usf, he lives aro...              64   \n",
       "\n",
       "                                     cleaned_message  \n",
       "0  jurong point crazy available bugis n great wor...  \n",
       "1                            ok lar joking wif u oni  \n",
       "2  free entry wkly comp win fa cup final tkts st ...  \n",
       "3                                u dun early hor u c  \n",
       "4                               nah I think usf live  "
      ]
     },
     "execution_count": 13,
     "metadata": {},
     "output_type": "execute_result"
    }
   ],
   "source": [
    "data.head()"
   ]
  },
  {
   "cell_type": "code",
   "execution_count": 22,
   "metadata": {},
   "outputs": [
    {
     "data": {
      "text/plain": [
       "cleaned_message\n",
       "True    5572\n",
       "Name: count, dtype: int64"
      ]
     },
     "execution_count": 22,
     "metadata": {},
     "output_type": "execute_result"
    }
   ],
   "source": [
    "# Checking for invalid text\n",
    "mask = data.cleaned_message.apply(lambda x: type(x) == str)\n",
    "mask.value_counts()"
   ]
  },
  {
   "cell_type": "markdown",
   "metadata": {},
   "source": [
    "### Analyze word frequency"
   ]
  },
  {
   "cell_type": "code",
   "execution_count": 14,
   "metadata": {},
   "outputs": [],
   "source": [
    "# Split words for spam and ham\n",
    "spam_messages = data[data['label'] == 1]\n",
    "ham_messages = data[data['label'] == 0]\n",
    "spam_words = \" \".join(spam_messages[\"cleaned_message\"]).split()\n",
    "ham_words = \" \".join(ham_messages[\"cleaned_message\"]).split()\n",
    "\n",
    "# Get word frequencies\n",
    "spam_word_freq = Counter(spam_words)\n",
    "ham_word_freq = Counter(ham_words)"
   ]
  },
  {
   "cell_type": "code",
   "execution_count": 15,
   "metadata": {},
   "outputs": [
    {
     "name": "stdout",
     "output_type": "stream",
     "text": [
      "\n",
      "Top 10 Words in Spam Messages:\n",
      "\n",
      "[('free', 219), ('u', 155), ('txt', 151), ('ur', 144), ('text', 138), ('mobile', 136), ('win', 135), ('stop', 118), ('claim', 115), ('reply', 110)]\n",
      "\n",
      "Top 10 Words in Ham Messages:\n",
      "\n",
      "[('I', 3499), ('u', 1003), ('m', 475), ('come', 320), ('s', 312), ('ok', 273), ('know', 258), ('good', 257), ('ur', 246), ('ill', 242)]\n"
     ]
    }
   ],
   "source": [
    "# Top 10 words in spam and ham messages\n",
    "print(\"\\nTop 10 Words in Spam Messages:\\n\")\n",
    "print(spam_word_freq.most_common(10))\n",
    "\n",
    "print(\"\\nTop 10 Words in Ham Messages:\\n\")\n",
    "print(ham_word_freq.most_common(10))"
   ]
  },
  {
   "cell_type": "code",
   "execution_count": 16,
   "metadata": {},
   "outputs": [
    {
     "data": {
      "application/vnd.plotly.v1+json": {
       "config": {
        "plotlyServerURL": "https://plot.ly"
       },
       "data": [
        {
         "alignmentgroup": "True",
         "hovertemplate": "Word=%{x}<br>Frequency=%{marker.color}<extra></extra>",
         "legendgroup": "",
         "marker": {
          "color": [
           219,
           155,
           151,
           144,
           138,
           136,
           135,
           118,
           115,
           110
          ],
          "coloraxis": "coloraxis",
          "pattern": {
           "shape": ""
          }
         },
         "name": "",
         "offsetgroup": "",
         "orientation": "v",
         "showlegend": false,
         "textposition": "auto",
         "type": "bar",
         "x": [
          "free",
          "u",
          "txt",
          "ur",
          "text",
          "mobile",
          "win",
          "stop",
          "claim",
          "reply"
         ],
         "xaxis": "x",
         "y": [
          219,
          155,
          151,
          144,
          138,
          136,
          135,
          118,
          115,
          110
         ],
         "yaxis": "y"
        }
       ],
       "layout": {
        "barmode": "relative",
        "coloraxis": {
         "colorbar": {
          "title": {
           "text": "Frequency"
          }
         },
         "colorscale": [
          [
           0,
           "#0d0887"
          ],
          [
           0.1111111111111111,
           "#46039f"
          ],
          [
           0.2222222222222222,
           "#7201a8"
          ],
          [
           0.3333333333333333,
           "#9c179e"
          ],
          [
           0.4444444444444444,
           "#bd3786"
          ],
          [
           0.5555555555555556,
           "#d8576b"
          ],
          [
           0.6666666666666666,
           "#ed7953"
          ],
          [
           0.7777777777777778,
           "#fb9f3a"
          ],
          [
           0.8888888888888888,
           "#fdca26"
          ],
          [
           1,
           "#f0f921"
          ]
         ]
        },
        "legend": {
         "tracegroupgap": 0
        },
        "template": {
         "data": {
          "bar": [
           {
            "error_x": {
             "color": "#2a3f5f"
            },
            "error_y": {
             "color": "#2a3f5f"
            },
            "marker": {
             "line": {
              "color": "#E5ECF6",
              "width": 0.5
             },
             "pattern": {
              "fillmode": "overlay",
              "size": 10,
              "solidity": 0.2
             }
            },
            "type": "bar"
           }
          ],
          "barpolar": [
           {
            "marker": {
             "line": {
              "color": "#E5ECF6",
              "width": 0.5
             },
             "pattern": {
              "fillmode": "overlay",
              "size": 10,
              "solidity": 0.2
             }
            },
            "type": "barpolar"
           }
          ],
          "carpet": [
           {
            "aaxis": {
             "endlinecolor": "#2a3f5f",
             "gridcolor": "white",
             "linecolor": "white",
             "minorgridcolor": "white",
             "startlinecolor": "#2a3f5f"
            },
            "baxis": {
             "endlinecolor": "#2a3f5f",
             "gridcolor": "white",
             "linecolor": "white",
             "minorgridcolor": "white",
             "startlinecolor": "#2a3f5f"
            },
            "type": "carpet"
           }
          ],
          "choropleth": [
           {
            "colorbar": {
             "outlinewidth": 0,
             "ticks": ""
            },
            "type": "choropleth"
           }
          ],
          "contour": [
           {
            "colorbar": {
             "outlinewidth": 0,
             "ticks": ""
            },
            "colorscale": [
             [
              0,
              "#0d0887"
             ],
             [
              0.1111111111111111,
              "#46039f"
             ],
             [
              0.2222222222222222,
              "#7201a8"
             ],
             [
              0.3333333333333333,
              "#9c179e"
             ],
             [
              0.4444444444444444,
              "#bd3786"
             ],
             [
              0.5555555555555556,
              "#d8576b"
             ],
             [
              0.6666666666666666,
              "#ed7953"
             ],
             [
              0.7777777777777778,
              "#fb9f3a"
             ],
             [
              0.8888888888888888,
              "#fdca26"
             ],
             [
              1,
              "#f0f921"
             ]
            ],
            "type": "contour"
           }
          ],
          "contourcarpet": [
           {
            "colorbar": {
             "outlinewidth": 0,
             "ticks": ""
            },
            "type": "contourcarpet"
           }
          ],
          "heatmap": [
           {
            "colorbar": {
             "outlinewidth": 0,
             "ticks": ""
            },
            "colorscale": [
             [
              0,
              "#0d0887"
             ],
             [
              0.1111111111111111,
              "#46039f"
             ],
             [
              0.2222222222222222,
              "#7201a8"
             ],
             [
              0.3333333333333333,
              "#9c179e"
             ],
             [
              0.4444444444444444,
              "#bd3786"
             ],
             [
              0.5555555555555556,
              "#d8576b"
             ],
             [
              0.6666666666666666,
              "#ed7953"
             ],
             [
              0.7777777777777778,
              "#fb9f3a"
             ],
             [
              0.8888888888888888,
              "#fdca26"
             ],
             [
              1,
              "#f0f921"
             ]
            ],
            "type": "heatmap"
           }
          ],
          "heatmapgl": [
           {
            "colorbar": {
             "outlinewidth": 0,
             "ticks": ""
            },
            "colorscale": [
             [
              0,
              "#0d0887"
             ],
             [
              0.1111111111111111,
              "#46039f"
             ],
             [
              0.2222222222222222,
              "#7201a8"
             ],
             [
              0.3333333333333333,
              "#9c179e"
             ],
             [
              0.4444444444444444,
              "#bd3786"
             ],
             [
              0.5555555555555556,
              "#d8576b"
             ],
             [
              0.6666666666666666,
              "#ed7953"
             ],
             [
              0.7777777777777778,
              "#fb9f3a"
             ],
             [
              0.8888888888888888,
              "#fdca26"
             ],
             [
              1,
              "#f0f921"
             ]
            ],
            "type": "heatmapgl"
           }
          ],
          "histogram": [
           {
            "marker": {
             "pattern": {
              "fillmode": "overlay",
              "size": 10,
              "solidity": 0.2
             }
            },
            "type": "histogram"
           }
          ],
          "histogram2d": [
           {
            "colorbar": {
             "outlinewidth": 0,
             "ticks": ""
            },
            "colorscale": [
             [
              0,
              "#0d0887"
             ],
             [
              0.1111111111111111,
              "#46039f"
             ],
             [
              0.2222222222222222,
              "#7201a8"
             ],
             [
              0.3333333333333333,
              "#9c179e"
             ],
             [
              0.4444444444444444,
              "#bd3786"
             ],
             [
              0.5555555555555556,
              "#d8576b"
             ],
             [
              0.6666666666666666,
              "#ed7953"
             ],
             [
              0.7777777777777778,
              "#fb9f3a"
             ],
             [
              0.8888888888888888,
              "#fdca26"
             ],
             [
              1,
              "#f0f921"
             ]
            ],
            "type": "histogram2d"
           }
          ],
          "histogram2dcontour": [
           {
            "colorbar": {
             "outlinewidth": 0,
             "ticks": ""
            },
            "colorscale": [
             [
              0,
              "#0d0887"
             ],
             [
              0.1111111111111111,
              "#46039f"
             ],
             [
              0.2222222222222222,
              "#7201a8"
             ],
             [
              0.3333333333333333,
              "#9c179e"
             ],
             [
              0.4444444444444444,
              "#bd3786"
             ],
             [
              0.5555555555555556,
              "#d8576b"
             ],
             [
              0.6666666666666666,
              "#ed7953"
             ],
             [
              0.7777777777777778,
              "#fb9f3a"
             ],
             [
              0.8888888888888888,
              "#fdca26"
             ],
             [
              1,
              "#f0f921"
             ]
            ],
            "type": "histogram2dcontour"
           }
          ],
          "mesh3d": [
           {
            "colorbar": {
             "outlinewidth": 0,
             "ticks": ""
            },
            "type": "mesh3d"
           }
          ],
          "parcoords": [
           {
            "line": {
             "colorbar": {
              "outlinewidth": 0,
              "ticks": ""
             }
            },
            "type": "parcoords"
           }
          ],
          "pie": [
           {
            "automargin": true,
            "type": "pie"
           }
          ],
          "scatter": [
           {
            "fillpattern": {
             "fillmode": "overlay",
             "size": 10,
             "solidity": 0.2
            },
            "type": "scatter"
           }
          ],
          "scatter3d": [
           {
            "line": {
             "colorbar": {
              "outlinewidth": 0,
              "ticks": ""
             }
            },
            "marker": {
             "colorbar": {
              "outlinewidth": 0,
              "ticks": ""
             }
            },
            "type": "scatter3d"
           }
          ],
          "scattercarpet": [
           {
            "marker": {
             "colorbar": {
              "outlinewidth": 0,
              "ticks": ""
             }
            },
            "type": "scattercarpet"
           }
          ],
          "scattergeo": [
           {
            "marker": {
             "colorbar": {
              "outlinewidth": 0,
              "ticks": ""
             }
            },
            "type": "scattergeo"
           }
          ],
          "scattergl": [
           {
            "marker": {
             "colorbar": {
              "outlinewidth": 0,
              "ticks": ""
             }
            },
            "type": "scattergl"
           }
          ],
          "scattermapbox": [
           {
            "marker": {
             "colorbar": {
              "outlinewidth": 0,
              "ticks": ""
             }
            },
            "type": "scattermapbox"
           }
          ],
          "scatterpolar": [
           {
            "marker": {
             "colorbar": {
              "outlinewidth": 0,
              "ticks": ""
             }
            },
            "type": "scatterpolar"
           }
          ],
          "scatterpolargl": [
           {
            "marker": {
             "colorbar": {
              "outlinewidth": 0,
              "ticks": ""
             }
            },
            "type": "scatterpolargl"
           }
          ],
          "scatterternary": [
           {
            "marker": {
             "colorbar": {
              "outlinewidth": 0,
              "ticks": ""
             }
            },
            "type": "scatterternary"
           }
          ],
          "surface": [
           {
            "colorbar": {
             "outlinewidth": 0,
             "ticks": ""
            },
            "colorscale": [
             [
              0,
              "#0d0887"
             ],
             [
              0.1111111111111111,
              "#46039f"
             ],
             [
              0.2222222222222222,
              "#7201a8"
             ],
             [
              0.3333333333333333,
              "#9c179e"
             ],
             [
              0.4444444444444444,
              "#bd3786"
             ],
             [
              0.5555555555555556,
              "#d8576b"
             ],
             [
              0.6666666666666666,
              "#ed7953"
             ],
             [
              0.7777777777777778,
              "#fb9f3a"
             ],
             [
              0.8888888888888888,
              "#fdca26"
             ],
             [
              1,
              "#f0f921"
             ]
            ],
            "type": "surface"
           }
          ],
          "table": [
           {
            "cells": {
             "fill": {
              "color": "#EBF0F8"
             },
             "line": {
              "color": "white"
             }
            },
            "header": {
             "fill": {
              "color": "#C8D4E3"
             },
             "line": {
              "color": "white"
             }
            },
            "type": "table"
           }
          ]
         },
         "layout": {
          "annotationdefaults": {
           "arrowcolor": "#2a3f5f",
           "arrowhead": 0,
           "arrowwidth": 1
          },
          "autotypenumbers": "strict",
          "coloraxis": {
           "colorbar": {
            "outlinewidth": 0,
            "ticks": ""
           }
          },
          "colorscale": {
           "diverging": [
            [
             0,
             "#8e0152"
            ],
            [
             0.1,
             "#c51b7d"
            ],
            [
             0.2,
             "#de77ae"
            ],
            [
             0.3,
             "#f1b6da"
            ],
            [
             0.4,
             "#fde0ef"
            ],
            [
             0.5,
             "#f7f7f7"
            ],
            [
             0.6,
             "#e6f5d0"
            ],
            [
             0.7,
             "#b8e186"
            ],
            [
             0.8,
             "#7fbc41"
            ],
            [
             0.9,
             "#4d9221"
            ],
            [
             1,
             "#276419"
            ]
           ],
           "sequential": [
            [
             0,
             "#0d0887"
            ],
            [
             0.1111111111111111,
             "#46039f"
            ],
            [
             0.2222222222222222,
             "#7201a8"
            ],
            [
             0.3333333333333333,
             "#9c179e"
            ],
            [
             0.4444444444444444,
             "#bd3786"
            ],
            [
             0.5555555555555556,
             "#d8576b"
            ],
            [
             0.6666666666666666,
             "#ed7953"
            ],
            [
             0.7777777777777778,
             "#fb9f3a"
            ],
            [
             0.8888888888888888,
             "#fdca26"
            ],
            [
             1,
             "#f0f921"
            ]
           ],
           "sequentialminus": [
            [
             0,
             "#0d0887"
            ],
            [
             0.1111111111111111,
             "#46039f"
            ],
            [
             0.2222222222222222,
             "#7201a8"
            ],
            [
             0.3333333333333333,
             "#9c179e"
            ],
            [
             0.4444444444444444,
             "#bd3786"
            ],
            [
             0.5555555555555556,
             "#d8576b"
            ],
            [
             0.6666666666666666,
             "#ed7953"
            ],
            [
             0.7777777777777778,
             "#fb9f3a"
            ],
            [
             0.8888888888888888,
             "#fdca26"
            ],
            [
             1,
             "#f0f921"
            ]
           ]
          },
          "colorway": [
           "#636efa",
           "#EF553B",
           "#00cc96",
           "#ab63fa",
           "#FFA15A",
           "#19d3f3",
           "#FF6692",
           "#B6E880",
           "#FF97FF",
           "#FECB52"
          ],
          "font": {
           "color": "#2a3f5f"
          },
          "geo": {
           "bgcolor": "white",
           "lakecolor": "white",
           "landcolor": "#E5ECF6",
           "showlakes": true,
           "showland": true,
           "subunitcolor": "white"
          },
          "hoverlabel": {
           "align": "left"
          },
          "hovermode": "closest",
          "mapbox": {
           "style": "light"
          },
          "paper_bgcolor": "white",
          "plot_bgcolor": "#E5ECF6",
          "polar": {
           "angularaxis": {
            "gridcolor": "white",
            "linecolor": "white",
            "ticks": ""
           },
           "bgcolor": "#E5ECF6",
           "radialaxis": {
            "gridcolor": "white",
            "linecolor": "white",
            "ticks": ""
           }
          },
          "scene": {
           "xaxis": {
            "backgroundcolor": "#E5ECF6",
            "gridcolor": "white",
            "gridwidth": 2,
            "linecolor": "white",
            "showbackground": true,
            "ticks": "",
            "zerolinecolor": "white"
           },
           "yaxis": {
            "backgroundcolor": "#E5ECF6",
            "gridcolor": "white",
            "gridwidth": 2,
            "linecolor": "white",
            "showbackground": true,
            "ticks": "",
            "zerolinecolor": "white"
           },
           "zaxis": {
            "backgroundcolor": "#E5ECF6",
            "gridcolor": "white",
            "gridwidth": 2,
            "linecolor": "white",
            "showbackground": true,
            "ticks": "",
            "zerolinecolor": "white"
           }
          },
          "shapedefaults": {
           "line": {
            "color": "#2a3f5f"
           }
          },
          "ternary": {
           "aaxis": {
            "gridcolor": "white",
            "linecolor": "white",
            "ticks": ""
           },
           "baxis": {
            "gridcolor": "white",
            "linecolor": "white",
            "ticks": ""
           },
           "bgcolor": "#E5ECF6",
           "caxis": {
            "gridcolor": "white",
            "linecolor": "white",
            "ticks": ""
           }
          },
          "title": {
           "x": 0.05
          },
          "xaxis": {
           "automargin": true,
           "gridcolor": "white",
           "linecolor": "white",
           "ticks": "",
           "title": {
            "standoff": 15
           },
           "zerolinecolor": "white",
           "zerolinewidth": 2
          },
          "yaxis": {
           "automargin": true,
           "gridcolor": "white",
           "linecolor": "white",
           "ticks": "",
           "title": {
            "standoff": 15
           },
           "zerolinecolor": "white",
           "zerolinewidth": 2
          }
         }
        },
        "title": {
         "text": "Top 10 Words in Spam Messages"
        },
        "xaxis": {
         "anchor": "y",
         "domain": [
          0,
          1
         ],
         "title": {
          "text": "Word"
         }
        },
        "yaxis": {
         "anchor": "x",
         "domain": [
          0,
          1
         ],
         "title": {
          "text": "Frequency"
         }
        }
       }
      }
     },
     "metadata": {},
     "output_type": "display_data"
    },
    {
     "data": {
      "application/vnd.plotly.v1+json": {
       "config": {
        "plotlyServerURL": "https://plot.ly"
       },
       "data": [
        {
         "alignmentgroup": "True",
         "hovertemplate": "Word=%{x}<br>Frequency=%{marker.color}<extra></extra>",
         "legendgroup": "",
         "marker": {
          "color": [
           3499,
           1003,
           475,
           320,
           312,
           273,
           258,
           257,
           246,
           242
          ],
          "coloraxis": "coloraxis",
          "pattern": {
           "shape": ""
          }
         },
         "name": "",
         "offsetgroup": "",
         "orientation": "v",
         "showlegend": false,
         "textposition": "auto",
         "type": "bar",
         "x": [
          "I",
          "u",
          "m",
          "come",
          "s",
          "ok",
          "know",
          "good",
          "ur",
          "ill"
         ],
         "xaxis": "x",
         "y": [
          3499,
          1003,
          475,
          320,
          312,
          273,
          258,
          257,
          246,
          242
         ],
         "yaxis": "y"
        }
       ],
       "layout": {
        "barmode": "relative",
        "coloraxis": {
         "colorbar": {
          "title": {
           "text": "Frequency"
          }
         },
         "colorscale": [
          [
           0,
           "#0d0887"
          ],
          [
           0.1111111111111111,
           "#46039f"
          ],
          [
           0.2222222222222222,
           "#7201a8"
          ],
          [
           0.3333333333333333,
           "#9c179e"
          ],
          [
           0.4444444444444444,
           "#bd3786"
          ],
          [
           0.5555555555555556,
           "#d8576b"
          ],
          [
           0.6666666666666666,
           "#ed7953"
          ],
          [
           0.7777777777777778,
           "#fb9f3a"
          ],
          [
           0.8888888888888888,
           "#fdca26"
          ],
          [
           1,
           "#f0f921"
          ]
         ]
        },
        "legend": {
         "tracegroupgap": 0
        },
        "template": {
         "data": {
          "bar": [
           {
            "error_x": {
             "color": "#2a3f5f"
            },
            "error_y": {
             "color": "#2a3f5f"
            },
            "marker": {
             "line": {
              "color": "#E5ECF6",
              "width": 0.5
             },
             "pattern": {
              "fillmode": "overlay",
              "size": 10,
              "solidity": 0.2
             }
            },
            "type": "bar"
           }
          ],
          "barpolar": [
           {
            "marker": {
             "line": {
              "color": "#E5ECF6",
              "width": 0.5
             },
             "pattern": {
              "fillmode": "overlay",
              "size": 10,
              "solidity": 0.2
             }
            },
            "type": "barpolar"
           }
          ],
          "carpet": [
           {
            "aaxis": {
             "endlinecolor": "#2a3f5f",
             "gridcolor": "white",
             "linecolor": "white",
             "minorgridcolor": "white",
             "startlinecolor": "#2a3f5f"
            },
            "baxis": {
             "endlinecolor": "#2a3f5f",
             "gridcolor": "white",
             "linecolor": "white",
             "minorgridcolor": "white",
             "startlinecolor": "#2a3f5f"
            },
            "type": "carpet"
           }
          ],
          "choropleth": [
           {
            "colorbar": {
             "outlinewidth": 0,
             "ticks": ""
            },
            "type": "choropleth"
           }
          ],
          "contour": [
           {
            "colorbar": {
             "outlinewidth": 0,
             "ticks": ""
            },
            "colorscale": [
             [
              0,
              "#0d0887"
             ],
             [
              0.1111111111111111,
              "#46039f"
             ],
             [
              0.2222222222222222,
              "#7201a8"
             ],
             [
              0.3333333333333333,
              "#9c179e"
             ],
             [
              0.4444444444444444,
              "#bd3786"
             ],
             [
              0.5555555555555556,
              "#d8576b"
             ],
             [
              0.6666666666666666,
              "#ed7953"
             ],
             [
              0.7777777777777778,
              "#fb9f3a"
             ],
             [
              0.8888888888888888,
              "#fdca26"
             ],
             [
              1,
              "#f0f921"
             ]
            ],
            "type": "contour"
           }
          ],
          "contourcarpet": [
           {
            "colorbar": {
             "outlinewidth": 0,
             "ticks": ""
            },
            "type": "contourcarpet"
           }
          ],
          "heatmap": [
           {
            "colorbar": {
             "outlinewidth": 0,
             "ticks": ""
            },
            "colorscale": [
             [
              0,
              "#0d0887"
             ],
             [
              0.1111111111111111,
              "#46039f"
             ],
             [
              0.2222222222222222,
              "#7201a8"
             ],
             [
              0.3333333333333333,
              "#9c179e"
             ],
             [
              0.4444444444444444,
              "#bd3786"
             ],
             [
              0.5555555555555556,
              "#d8576b"
             ],
             [
              0.6666666666666666,
              "#ed7953"
             ],
             [
              0.7777777777777778,
              "#fb9f3a"
             ],
             [
              0.8888888888888888,
              "#fdca26"
             ],
             [
              1,
              "#f0f921"
             ]
            ],
            "type": "heatmap"
           }
          ],
          "heatmapgl": [
           {
            "colorbar": {
             "outlinewidth": 0,
             "ticks": ""
            },
            "colorscale": [
             [
              0,
              "#0d0887"
             ],
             [
              0.1111111111111111,
              "#46039f"
             ],
             [
              0.2222222222222222,
              "#7201a8"
             ],
             [
              0.3333333333333333,
              "#9c179e"
             ],
             [
              0.4444444444444444,
              "#bd3786"
             ],
             [
              0.5555555555555556,
              "#d8576b"
             ],
             [
              0.6666666666666666,
              "#ed7953"
             ],
             [
              0.7777777777777778,
              "#fb9f3a"
             ],
             [
              0.8888888888888888,
              "#fdca26"
             ],
             [
              1,
              "#f0f921"
             ]
            ],
            "type": "heatmapgl"
           }
          ],
          "histogram": [
           {
            "marker": {
             "pattern": {
              "fillmode": "overlay",
              "size": 10,
              "solidity": 0.2
             }
            },
            "type": "histogram"
           }
          ],
          "histogram2d": [
           {
            "colorbar": {
             "outlinewidth": 0,
             "ticks": ""
            },
            "colorscale": [
             [
              0,
              "#0d0887"
             ],
             [
              0.1111111111111111,
              "#46039f"
             ],
             [
              0.2222222222222222,
              "#7201a8"
             ],
             [
              0.3333333333333333,
              "#9c179e"
             ],
             [
              0.4444444444444444,
              "#bd3786"
             ],
             [
              0.5555555555555556,
              "#d8576b"
             ],
             [
              0.6666666666666666,
              "#ed7953"
             ],
             [
              0.7777777777777778,
              "#fb9f3a"
             ],
             [
              0.8888888888888888,
              "#fdca26"
             ],
             [
              1,
              "#f0f921"
             ]
            ],
            "type": "histogram2d"
           }
          ],
          "histogram2dcontour": [
           {
            "colorbar": {
             "outlinewidth": 0,
             "ticks": ""
            },
            "colorscale": [
             [
              0,
              "#0d0887"
             ],
             [
              0.1111111111111111,
              "#46039f"
             ],
             [
              0.2222222222222222,
              "#7201a8"
             ],
             [
              0.3333333333333333,
              "#9c179e"
             ],
             [
              0.4444444444444444,
              "#bd3786"
             ],
             [
              0.5555555555555556,
              "#d8576b"
             ],
             [
              0.6666666666666666,
              "#ed7953"
             ],
             [
              0.7777777777777778,
              "#fb9f3a"
             ],
             [
              0.8888888888888888,
              "#fdca26"
             ],
             [
              1,
              "#f0f921"
             ]
            ],
            "type": "histogram2dcontour"
           }
          ],
          "mesh3d": [
           {
            "colorbar": {
             "outlinewidth": 0,
             "ticks": ""
            },
            "type": "mesh3d"
           }
          ],
          "parcoords": [
           {
            "line": {
             "colorbar": {
              "outlinewidth": 0,
              "ticks": ""
             }
            },
            "type": "parcoords"
           }
          ],
          "pie": [
           {
            "automargin": true,
            "type": "pie"
           }
          ],
          "scatter": [
           {
            "fillpattern": {
             "fillmode": "overlay",
             "size": 10,
             "solidity": 0.2
            },
            "type": "scatter"
           }
          ],
          "scatter3d": [
           {
            "line": {
             "colorbar": {
              "outlinewidth": 0,
              "ticks": ""
             }
            },
            "marker": {
             "colorbar": {
              "outlinewidth": 0,
              "ticks": ""
             }
            },
            "type": "scatter3d"
           }
          ],
          "scattercarpet": [
           {
            "marker": {
             "colorbar": {
              "outlinewidth": 0,
              "ticks": ""
             }
            },
            "type": "scattercarpet"
           }
          ],
          "scattergeo": [
           {
            "marker": {
             "colorbar": {
              "outlinewidth": 0,
              "ticks": ""
             }
            },
            "type": "scattergeo"
           }
          ],
          "scattergl": [
           {
            "marker": {
             "colorbar": {
              "outlinewidth": 0,
              "ticks": ""
             }
            },
            "type": "scattergl"
           }
          ],
          "scattermapbox": [
           {
            "marker": {
             "colorbar": {
              "outlinewidth": 0,
              "ticks": ""
             }
            },
            "type": "scattermapbox"
           }
          ],
          "scatterpolar": [
           {
            "marker": {
             "colorbar": {
              "outlinewidth": 0,
              "ticks": ""
             }
            },
            "type": "scatterpolar"
           }
          ],
          "scatterpolargl": [
           {
            "marker": {
             "colorbar": {
              "outlinewidth": 0,
              "ticks": ""
             }
            },
            "type": "scatterpolargl"
           }
          ],
          "scatterternary": [
           {
            "marker": {
             "colorbar": {
              "outlinewidth": 0,
              "ticks": ""
             }
            },
            "type": "scatterternary"
           }
          ],
          "surface": [
           {
            "colorbar": {
             "outlinewidth": 0,
             "ticks": ""
            },
            "colorscale": [
             [
              0,
              "#0d0887"
             ],
             [
              0.1111111111111111,
              "#46039f"
             ],
             [
              0.2222222222222222,
              "#7201a8"
             ],
             [
              0.3333333333333333,
              "#9c179e"
             ],
             [
              0.4444444444444444,
              "#bd3786"
             ],
             [
              0.5555555555555556,
              "#d8576b"
             ],
             [
              0.6666666666666666,
              "#ed7953"
             ],
             [
              0.7777777777777778,
              "#fb9f3a"
             ],
             [
              0.8888888888888888,
              "#fdca26"
             ],
             [
              1,
              "#f0f921"
             ]
            ],
            "type": "surface"
           }
          ],
          "table": [
           {
            "cells": {
             "fill": {
              "color": "#EBF0F8"
             },
             "line": {
              "color": "white"
             }
            },
            "header": {
             "fill": {
              "color": "#C8D4E3"
             },
             "line": {
              "color": "white"
             }
            },
            "type": "table"
           }
          ]
         },
         "layout": {
          "annotationdefaults": {
           "arrowcolor": "#2a3f5f",
           "arrowhead": 0,
           "arrowwidth": 1
          },
          "autotypenumbers": "strict",
          "coloraxis": {
           "colorbar": {
            "outlinewidth": 0,
            "ticks": ""
           }
          },
          "colorscale": {
           "diverging": [
            [
             0,
             "#8e0152"
            ],
            [
             0.1,
             "#c51b7d"
            ],
            [
             0.2,
             "#de77ae"
            ],
            [
             0.3,
             "#f1b6da"
            ],
            [
             0.4,
             "#fde0ef"
            ],
            [
             0.5,
             "#f7f7f7"
            ],
            [
             0.6,
             "#e6f5d0"
            ],
            [
             0.7,
             "#b8e186"
            ],
            [
             0.8,
             "#7fbc41"
            ],
            [
             0.9,
             "#4d9221"
            ],
            [
             1,
             "#276419"
            ]
           ],
           "sequential": [
            [
             0,
             "#0d0887"
            ],
            [
             0.1111111111111111,
             "#46039f"
            ],
            [
             0.2222222222222222,
             "#7201a8"
            ],
            [
             0.3333333333333333,
             "#9c179e"
            ],
            [
             0.4444444444444444,
             "#bd3786"
            ],
            [
             0.5555555555555556,
             "#d8576b"
            ],
            [
             0.6666666666666666,
             "#ed7953"
            ],
            [
             0.7777777777777778,
             "#fb9f3a"
            ],
            [
             0.8888888888888888,
             "#fdca26"
            ],
            [
             1,
             "#f0f921"
            ]
           ],
           "sequentialminus": [
            [
             0,
             "#0d0887"
            ],
            [
             0.1111111111111111,
             "#46039f"
            ],
            [
             0.2222222222222222,
             "#7201a8"
            ],
            [
             0.3333333333333333,
             "#9c179e"
            ],
            [
             0.4444444444444444,
             "#bd3786"
            ],
            [
             0.5555555555555556,
             "#d8576b"
            ],
            [
             0.6666666666666666,
             "#ed7953"
            ],
            [
             0.7777777777777778,
             "#fb9f3a"
            ],
            [
             0.8888888888888888,
             "#fdca26"
            ],
            [
             1,
             "#f0f921"
            ]
           ]
          },
          "colorway": [
           "#636efa",
           "#EF553B",
           "#00cc96",
           "#ab63fa",
           "#FFA15A",
           "#19d3f3",
           "#FF6692",
           "#B6E880",
           "#FF97FF",
           "#FECB52"
          ],
          "font": {
           "color": "#2a3f5f"
          },
          "geo": {
           "bgcolor": "white",
           "lakecolor": "white",
           "landcolor": "#E5ECF6",
           "showlakes": true,
           "showland": true,
           "subunitcolor": "white"
          },
          "hoverlabel": {
           "align": "left"
          },
          "hovermode": "closest",
          "mapbox": {
           "style": "light"
          },
          "paper_bgcolor": "white",
          "plot_bgcolor": "#E5ECF6",
          "polar": {
           "angularaxis": {
            "gridcolor": "white",
            "linecolor": "white",
            "ticks": ""
           },
           "bgcolor": "#E5ECF6",
           "radialaxis": {
            "gridcolor": "white",
            "linecolor": "white",
            "ticks": ""
           }
          },
          "scene": {
           "xaxis": {
            "backgroundcolor": "#E5ECF6",
            "gridcolor": "white",
            "gridwidth": 2,
            "linecolor": "white",
            "showbackground": true,
            "ticks": "",
            "zerolinecolor": "white"
           },
           "yaxis": {
            "backgroundcolor": "#E5ECF6",
            "gridcolor": "white",
            "gridwidth": 2,
            "linecolor": "white",
            "showbackground": true,
            "ticks": "",
            "zerolinecolor": "white"
           },
           "zaxis": {
            "backgroundcolor": "#E5ECF6",
            "gridcolor": "white",
            "gridwidth": 2,
            "linecolor": "white",
            "showbackground": true,
            "ticks": "",
            "zerolinecolor": "white"
           }
          },
          "shapedefaults": {
           "line": {
            "color": "#2a3f5f"
           }
          },
          "ternary": {
           "aaxis": {
            "gridcolor": "white",
            "linecolor": "white",
            "ticks": ""
           },
           "baxis": {
            "gridcolor": "white",
            "linecolor": "white",
            "ticks": ""
           },
           "bgcolor": "#E5ECF6",
           "caxis": {
            "gridcolor": "white",
            "linecolor": "white",
            "ticks": ""
           }
          },
          "title": {
           "x": 0.05
          },
          "xaxis": {
           "automargin": true,
           "gridcolor": "white",
           "linecolor": "white",
           "ticks": "",
           "title": {
            "standoff": 15
           },
           "zerolinecolor": "white",
           "zerolinewidth": 2
          },
          "yaxis": {
           "automargin": true,
           "gridcolor": "white",
           "linecolor": "white",
           "ticks": "",
           "title": {
            "standoff": 15
           },
           "zerolinecolor": "white",
           "zerolinewidth": 2
          }
         }
        },
        "title": {
         "text": "Top 10 Words in Ham Messages"
        },
        "xaxis": {
         "anchor": "y",
         "domain": [
          0,
          1
         ],
         "title": {
          "text": "Word"
         }
        },
        "yaxis": {
         "anchor": "x",
         "domain": [
          0,
          1
         ],
         "title": {
          "text": "Frequency"
         }
        }
       }
      }
     },
     "metadata": {},
     "output_type": "display_data"
    }
   ],
   "source": [
    "# Plotting top 10 words for spam and ham\n",
    "spam_top_words = pd.DataFrame(\n",
    "    spam_word_freq.most_common(10), columns=[\"Word\", \"Frequency\"]\n",
    ")\n",
    "ham_top_words = pd.DataFrame(\n",
    "    ham_word_freq.most_common(10), columns=[\"Word\", \"Frequency\"]\n",
    ")\n",
    "\n",
    "fig = px.bar(\n",
    "    spam_top_words,\n",
    "    x=\"Word\",\n",
    "    y=\"Frequency\",\n",
    "    title=\"Top 10 Words in Spam Messages\",\n",
    "    labels={\"Word\": \"Word\", \"Frequency\": \"Frequency\"},\n",
    "    color=\"Frequency\",\n",
    ")\n",
    "fig.show()\n",
    "\n",
    "fig = px.bar(\n",
    "    ham_top_words,\n",
    "    x=\"Word\",\n",
    "    y=\"Frequency\",\n",
    "    title=\"Top 10 Words in Ham Messages\",\n",
    "    labels={\"Word\": \"Word\", \"Frequency\": \"Frequency\"},\n",
    "    color=\"Frequency\",\n",
    ")\n",
    "fig.show()"
   ]
  },
  {
   "cell_type": "code",
   "execution_count": 17,
   "metadata": {},
   "outputs": [
    {
     "data": {
      "image/png": "[encoded data removed]",
      "text/plain": [
       "<Figure size 1600x800 with 1 Axes>"
      ]
     },
     "metadata": {},
     "output_type": "display_data"
    },
    {
     "data": {
      "image/png": "[encoded data removed]",
      "text/plain": [
       "<Figure size 1600x800 with 1 Axes>"
      ]
     },
     "metadata": {},
     "output_type": "display_data"
    }
   ],
   "source": [
    "# Loading a custom mask for the WordCloud\n",
    "mask = np.array(Image.open(\"img/cloudmask.png\"))\n",
    "\n",
    "# Define the WordCloud for spam messages\n",
    "spam_wordcloud = WordCloud(\n",
    "    width=800,\n",
    "    height=400,\n",
    "    colormap=\"Reds\",\n",
    "    background_color=\"white\",\n",
    "    mask=mask,\n",
    ").generate(\" \".join(spam_words))\n",
    "\n",
    "# Define the WordCloud for ham messages\n",
    "ham_wordcloud = WordCloud(\n",
    "    width=800,\n",
    "    height=400,\n",
    "    colormap=\"Blues\",\n",
    "    background_color=\"white\",\n",
    "    mask=mask,\n",
    ").generate(\" \".join(ham_words))\n",
    "\n",
    "# Plotting the spam WordCloud\n",
    "plt.figure(figsize=(16, 8))\n",
    "plt.imshow(spam_wordcloud, interpolation=\"bilinear\")\n",
    "plt.title(\"Key Words in Spam Messages\", fontsize=18)\n",
    "plt.axis(\"off\")\n",
    "plt.show()\n",
    "\n",
    "# Plotting the ham WordCloud\n",
    "plt.figure(figsize=(16, 8))\n",
    "plt.imshow(ham_wordcloud, interpolation=\"bilinear\")\n",
    "plt.title(\"Key Words in Non-Spam Messages\", fontsize=18)\n",
    "plt.axis(\"off\")\n",
    "plt.show()"
   ]
  },
  {
   "cell_type": "markdown",
   "metadata": {},
   "source": [
    "## Text Tokenization"
   ]
  },
  {
   "cell_type": "code",
   "execution_count": 36,
   "metadata": {},
   "outputs": [],
   "source": [
    "num_words = 1000\n",
    "\n",
    "# Initialize the Tokenizer\n",
    "tokenizer = Tokenizer(num_words=num_words, oov_token=\"<OOV>\")\n",
    "tokenizer.fit_on_texts(data[\"cleaned_message\"])\n",
    "\n",
    "# Convert text to sequences\n",
    "sequences = tokenizer.texts_to_sequences(data[\"cleaned_message\"])\n",
    "\n",
    "# Pad sequences\n",
    "padded_sequences = pad_sequences(sequences, padding=\"post\")\n",
    "\n",
    "# Add tokenized sequences to the DataFrame\n",
    "data[\"tokenized_message\"] = sequences"
   ]
  },
  {
   "cell_type": "code",
   "execution_count": 45,
   "metadata": {},
   "outputs": [
    {
     "name": "stdout",
     "output_type": "stream",
     "text": [
      "\n",
      "Most Common Words and Their Frequencies:\n",
      "\n",
      "i: 3598\n",
      "u: 1158\n",
      "m: 511\n",
      "ur: 390\n",
      "s: 340\n",
      "come: 326\n",
      "know: 284\n",
      "ok: 278\n",
      "free: 278\n",
      "good: 278\n",
      "send: 268\n",
      "day: 256\n",
      "like: 254\n",
      "want: 245\n",
      "ill: 243\n",
      "time: 234\n",
      "love: 231\n",
      "text: 215\n",
      "tell: 208\n",
      "think: 200\n"
     ]
    },
    {
     "data": {
      "application/vnd.plotly.v1+json": {
       "config": {
        "plotlyServerURL": "https://plot.ly"
       },
       "data": [
        {
         "alignmentgroup": "True",
         "hovertemplate": "Word=%{x}<br>Frequency=%{y}<extra></extra>",
         "legendgroup": "",
         "marker": {
          "color": "#636efa",
          "pattern": {
           "shape": ""
          }
         },
         "name": "",
         "offsetgroup": "",
         "orientation": "v",
         "showlegend": false,
         "textposition": "auto",
         "type": "bar",
         "x": [
          "i",
          "u",
          "m",
          "ur",
          "s",
          "come",
          "know",
          "ok",
          "free",
          "good",
          "send",
          "day",
          "like",
          "want",
          "ill",
          "time",
          "love",
          "text",
          "tell",
          "think",
          "need",
          "d",
          "txt",
          "stop",
          "home",
          "reply",
          "lor",
          "r",
          "sorry",
          "win",
          "mobile",
          "today",
          "n",
          "phone",
          "new",
          "week",
          "hi",
          "work",
          "later",
          "da",
          "ask",
          "miss",
          "night",
          "hope",
          "try",
          "claim",
          "meet",
          "thing",
          "great",
          "oh"
         ],
         "xaxis": "x",
         "y": [
          3598,
          1158,
          511,
          390,
          340,
          326,
          284,
          278,
          278,
          278,
          268,
          256,
          254,
          245,
          243,
          234,
          231,
          215,
          208,
          200,
          187,
          165,
          164,
          163,
          162,
          160,
          160,
          156,
          156,
          152,
          151,
          148,
          147,
          142,
          139,
          135,
          135,
          134,
          134,
          132,
          132,
          129,
          120,
          118,
          116,
          115,
          114,
          114,
          113,
          113
         ],
         "yaxis": "y"
        }
       ],
       "layout": {
        "barmode": "relative",
        "legend": {
         "tracegroupgap": 0
        },
        "template": {
         "data": {
          "bar": [
           {
            "error_x": {
             "color": "#2a3f5f"
            },
            "error_y": {
             "color": "#2a3f5f"
            },
            "marker": {
             "line": {
              "color": "#E5ECF6",
              "width": 0.5
             },
             "pattern": {
              "fillmode": "overlay",
              "size": 10,
              "solidity": 0.2
             }
            },
            "type": "bar"
           }
          ],
          "barpolar": [
           {
            "marker": {
             "line": {
              "color": "#E5ECF6",
              "width": 0.5
             },
             "pattern": {
              "fillmode": "overlay",
              "size": 10,
              "solidity": 0.2
             }
            },
            "type": "barpolar"
           }
          ],
          "carpet": [
           {
            "aaxis": {
             "endlinecolor": "#2a3f5f",
             "gridcolor": "white",
             "linecolor": "white",
             "minorgridcolor": "white",
             "startlinecolor": "#2a3f5f"
            },
            "baxis": {
             "endlinecolor": "#2a3f5f",
             "gridcolor": "white",
             "linecolor": "white",
             "minorgridcolor": "white",
             "startlinecolor": "#2a3f5f"
            },
            "type": "carpet"
           }
          ],
          "choropleth": [
           {
            "colorbar": {
             "outlinewidth": 0,
             "ticks": ""
            },
            "type": "choropleth"
           }
          ],
          "contour": [
           {
            "colorbar": {
             "outlinewidth": 0,
             "ticks": ""
            },
            "colorscale": [
             [
              0,
              "#0d0887"
             ],
             [
              0.1111111111111111,
              "#46039f"
             ],
             [
              0.2222222222222222,
              "#7201a8"
             ],
             [
              0.3333333333333333,
              "#9c179e"
             ],
             [
              0.4444444444444444,
              "#bd3786"
             ],
             [
              0.5555555555555556,
              "#d8576b"
             ],
             [
              0.6666666666666666,
              "#ed7953"
             ],
             [
              0.7777777777777778,
              "#fb9f3a"
             ],
             [
              0.8888888888888888,
              "#fdca26"
             ],
             [
              1,
              "#f0f921"
             ]
            ],
            "type": "contour"
           }
          ],
          "contourcarpet": [
           {
            "colorbar": {
             "outlinewidth": 0,
             "ticks": ""
            },
            "type": "contourcarpet"
           }
          ],
          "heatmap": [
           {
            "colorbar": {
             "outlinewidth": 0,
             "ticks": ""
            },
            "colorscale": [
             [
              0,
              "#0d0887"
             ],
             [
              0.1111111111111111,
              "#46039f"
             ],
             [
              0.2222222222222222,
              "#7201a8"
             ],
             [
              0.3333333333333333,
              "#9c179e"
             ],
             [
              0.4444444444444444,
              "#bd3786"
             ],
             [
              0.5555555555555556,
              "#d8576b"
             ],
             [
              0.6666666666666666,
              "#ed7953"
             ],
             [
              0.7777777777777778,
              "#fb9f3a"
             ],
             [
              0.8888888888888888,
              "#fdca26"
             ],
             [
              1,
              "#f0f921"
             ]
            ],
            "type": "heatmap"
           }
          ],
          "heatmapgl": [
           {
            "colorbar": {
             "outlinewidth": 0,
             "ticks": ""
            },
            "colorscale": [
             [
              0,
              "#0d0887"
             ],
             [
              0.1111111111111111,
              "#46039f"
             ],
             [
              0.2222222222222222,
              "#7201a8"
             ],
             [
              0.3333333333333333,
              "#9c179e"
             ],
             [
              0.4444444444444444,
              "#bd3786"
             ],
             [
              0.5555555555555556,
              "#d8576b"
             ],
             [
              0.6666666666666666,
              "#ed7953"
             ],
             [
              0.7777777777777778,
              "#fb9f3a"
             ],
             [
              0.8888888888888888,
              "#fdca26"
             ],
             [
              1,
              "#f0f921"
             ]
            ],
            "type": "heatmapgl"
           }
          ],
          "histogram": [
           {
            "marker": {
             "pattern": {
              "fillmode": "overlay",
              "size": 10,
              "solidity": 0.2
             }
            },
            "type": "histogram"
           }
          ],
          "histogram2d": [
           {
            "colorbar": {
             "outlinewidth": 0,
             "ticks": ""
            },
            "colorscale": [
             [
              0,
              "#0d0887"
             ],
             [
              0.1111111111111111,
              "#46039f"
             ],
             [
              0.2222222222222222,
              "#7201a8"
             ],
             [
              0.3333333333333333,
              "#9c179e"
             ],
             [
              0.4444444444444444,
              "#bd3786"
             ],
             [
              0.5555555555555556,
              "#d8576b"
             ],
             [
              0.6666666666666666,
              "#ed7953"
             ],
             [
              0.7777777777777778,
              "#fb9f3a"
             ],
             [
              0.8888888888888888,
              "#fdca26"
             ],
             [
              1,
              "#f0f921"
             ]
            ],
            "type": "histogram2d"
           }
          ],
          "histogram2dcontour": [
           {
            "colorbar": {
             "outlinewidth": 0,
             "ticks": ""
            },
            "colorscale": [
             [
              0,
              "#0d0887"
             ],
             [
              0.1111111111111111,
              "#46039f"
             ],
             [
              0.2222222222222222,
              "#7201a8"
             ],
             [
              0.3333333333333333,
              "#9c179e"
             ],
             [
              0.4444444444444444,
              "#bd3786"
             ],
             [
              0.5555555555555556,
              "#d8576b"
             ],
             [
              0.6666666666666666,
              "#ed7953"
             ],
             [
              0.7777777777777778,
              "#fb9f3a"
             ],
             [
              0.8888888888888888,
              "#fdca26"
             ],
             [
              1,
              "#f0f921"
             ]
            ],
            "type": "histogram2dcontour"
           }
          ],
          "mesh3d": [
           {
            "colorbar": {
             "outlinewidth": 0,
             "ticks": ""
            },
            "type": "mesh3d"
           }
          ],
          "parcoords": [
           {
            "line": {
             "colorbar": {
              "outlinewidth": 0,
              "ticks": ""
             }
            },
            "type": "parcoords"
           }
          ],
          "pie": [
           {
            "automargin": true,
            "type": "pie"
           }
          ],
          "scatter": [
           {
            "fillpattern": {
             "fillmode": "overlay",
             "size": 10,
             "solidity": 0.2
            },
            "type": "scatter"
           }
          ],
          "scatter3d": [
           {
            "line": {
             "colorbar": {
              "outlinewidth": 0,
              "ticks": ""
             }
            },
            "marker": {
             "colorbar": {
              "outlinewidth": 0,
              "ticks": ""
             }
            },
            "type": "scatter3d"
           }
          ],
          "scattercarpet": [
           {
            "marker": {
             "colorbar": {
              "outlinewidth": 0,
              "ticks": ""
             }
            },
            "type": "scattercarpet"
           }
          ],
          "scattergeo": [
           {
            "marker": {
             "colorbar": {
              "outlinewidth": 0,
              "ticks": ""
             }
            },
            "type": "scattergeo"
           }
          ],
          "scattergl": [
           {
            "marker": {
             "colorbar": {
              "outlinewidth": 0,
              "ticks": ""
             }
            },
            "type": "scattergl"
           }
          ],
          "scattermapbox": [
           {
            "marker": {
             "colorbar": {
              "outlinewidth": 0,
              "ticks": ""
             }
            },
            "type": "scattermapbox"
           }
          ],
          "scatterpolar": [
           {
            "marker": {
             "colorbar": {
              "outlinewidth": 0,
              "ticks": ""
             }
            },
            "type": "scatterpolar"
           }
          ],
          "scatterpolargl": [
           {
            "marker": {
             "colorbar": {
              "outlinewidth": 0,
              "ticks": ""
             }
            },
            "type": "scatterpolargl"
           }
          ],
          "scatterternary": [
           {
            "marker": {
             "colorbar": {
              "outlinewidth": 0,
              "ticks": ""
             }
            },
            "type": "scatterternary"
           }
          ],
          "surface": [
           {
            "colorbar": {
             "outlinewidth": 0,
             "ticks": ""
            },
            "colorscale": [
             [
              0,
              "#0d0887"
             ],
             [
              0.1111111111111111,
              "#46039f"
             ],
             [
              0.2222222222222222,
              "#7201a8"
             ],
             [
              0.3333333333333333,
              "#9c179e"
             ],
             [
              0.4444444444444444,
              "#bd3786"
             ],
             [
              0.5555555555555556,
              "#d8576b"
             ],
             [
              0.6666666666666666,
              "#ed7953"
             ],
             [
              0.7777777777777778,
              "#fb9f3a"
             ],
             [
              0.8888888888888888,
              "#fdca26"
             ],
             [
              1,
              "#f0f921"
             ]
            ],
            "type": "surface"
           }
          ],
          "table": [
           {
            "cells": {
             "fill": {
              "color": "#EBF0F8"
             },
             "line": {
              "color": "white"
             }
            },
            "header": {
             "fill": {
              "color": "#C8D4E3"
             },
             "line": {
              "color": "white"
             }
            },
            "type": "table"
           }
          ]
         },
         "layout": {
          "annotationdefaults": {
           "arrowcolor": "#2a3f5f",
           "arrowhead": 0,
           "arrowwidth": 1
          },
          "autotypenumbers": "strict",
          "coloraxis": {
           "colorbar": {
            "outlinewidth": 0,
            "ticks": ""
           }
          },
          "colorscale": {
           "diverging": [
            [
             0,
             "#8e0152"
            ],
            [
             0.1,
             "#c51b7d"
            ],
            [
             0.2,
             "#de77ae"
            ],
            [
             0.3,
             "#f1b6da"
            ],
            [
             0.4,
             "#fde0ef"
            ],
            [
             0.5,
             "#f7f7f7"
            ],
            [
             0.6,
             "#e6f5d0"
            ],
            [
             0.7,
             "#b8e186"
            ],
            [
             0.8,
             "#7fbc41"
            ],
            [
             0.9,
             "#4d9221"
            ],
            [
             1,
             "#276419"
            ]
           ],
           "sequential": [
            [
             0,
             "#0d0887"
            ],
            [
             0.1111111111111111,
             "#46039f"
            ],
            [
             0.2222222222222222,
             "#7201a8"
            ],
            [
             0.3333333333333333,
             "#9c179e"
            ],
            [
             0.4444444444444444,
             "#bd3786"
            ],
            [
             0.5555555555555556,
             "#d8576b"
            ],
            [
             0.6666666666666666,
             "#ed7953"
            ],
            [
             0.7777777777777778,
             "#fb9f3a"
            ],
            [
             0.8888888888888888,
             "#fdca26"
            ],
            [
             1,
             "#f0f921"
            ]
           ],
           "sequentialminus": [
            [
             0,
             "#0d0887"
            ],
            [
             0.1111111111111111,
             "#46039f"
            ],
            [
             0.2222222222222222,
             "#7201a8"
            ],
            [
             0.3333333333333333,
             "#9c179e"
            ],
            [
             0.4444444444444444,
             "#bd3786"
            ],
            [
             0.5555555555555556,
             "#d8576b"
            ],
            [
             0.6666666666666666,
             "#ed7953"
            ],
            [
             0.7777777777777778,
             "#fb9f3a"
            ],
            [
             0.8888888888888888,
             "#fdca26"
            ],
            [
             1,
             "#f0f921"
            ]
           ]
          },
          "colorway": [
           "#636efa",
           "#EF553B",
           "#00cc96",
           "#ab63fa",
           "#FFA15A",
           "#19d3f3",
           "#FF6692",
           "#B6E880",
           "#FF97FF",
           "#FECB52"
          ],
          "font": {
           "color": "#2a3f5f"
          },
          "geo": {
           "bgcolor": "white",
           "lakecolor": "white",
           "landcolor": "#E5ECF6",
           "showlakes": true,
           "showland": true,
           "subunitcolor": "white"
          },
          "hoverlabel": {
           "align": "left"
          },
          "hovermode": "closest",
          "mapbox": {
           "style": "light"
          },
          "paper_bgcolor": "white",
          "plot_bgcolor": "#E5ECF6",
          "polar": {
           "angularaxis": {
            "gridcolor": "white",
            "linecolor": "white",
            "ticks": ""
           },
           "bgcolor": "#E5ECF6",
           "radialaxis": {
            "gridcolor": "white",
            "linecolor": "white",
            "ticks": ""
           }
          },
          "scene": {
           "xaxis": {
            "backgroundcolor": "#E5ECF6",
            "gridcolor": "white",
            "gridwidth": 2,
            "linecolor": "white",
            "showbackground": true,
            "ticks": "",
            "zerolinecolor": "white"
           },
           "yaxis": {
            "backgroundcolor": "#E5ECF6",
            "gridcolor": "white",
            "gridwidth": 2,
            "linecolor": "white",
            "showbackground": true,
            "ticks": "",
            "zerolinecolor": "white"
           },
           "zaxis": {
            "backgroundcolor": "#E5ECF6",
            "gridcolor": "white",
            "gridwidth": 2,
            "linecolor": "white",
            "showbackground": true,
            "ticks": "",
            "zerolinecolor": "white"
           }
          },
          "shapedefaults": {
           "line": {
            "color": "#2a3f5f"
           }
          },
          "ternary": {
           "aaxis": {
            "gridcolor": "white",
            "linecolor": "white",
            "ticks": ""
           },
           "baxis": {
            "gridcolor": "white",
            "linecolor": "white",
            "ticks": ""
           },
           "bgcolor": "#E5ECF6",
           "caxis": {
            "gridcolor": "white",
            "linecolor": "white",
            "ticks": ""
           }
          },
          "title": {
           "x": 0.05
          },
          "xaxis": {
           "automargin": true,
           "gridcolor": "white",
           "linecolor": "white",
           "ticks": "",
           "title": {
            "standoff": 15
           },
           "zerolinecolor": "white",
           "zerolinewidth": 2
          },
          "yaxis": {
           "automargin": true,
           "gridcolor": "white",
           "linecolor": "white",
           "ticks": "",
           "title": {
            "standoff": 15
           },
           "zerolinecolor": "white",
           "zerolinewidth": 2
          }
         }
        },
        "title": {
         "text": "Top 50 Word Frequencies"
        },
        "xaxis": {
         "anchor": "y",
         "domain": [
          0,
          1
         ],
         "title": {
          "text": "Word"
         }
        },
        "yaxis": {
         "anchor": "x",
         "domain": [
          0,
          1
         ],
         "title": {
          "text": "Frequency"
         }
        }
       }
      }
     },
     "metadata": {},
     "output_type": "display_data"
    }
   ],
   "source": [
    "# Check word frequencies to determine NUM_WORDS\n",
    "word_counts = tokenizer.word_counts\n",
    "sorted_word_counts = sorted(word_counts.items(), key=lambda x: x[1], reverse=True)\n",
    "\n",
    "# Display the most common words and their frequencies\n",
    "print(\"\\nMost Common Words and Their Frequencies:\\n\")\n",
    "for word, count in sorted_word_counts[:20]:\n",
    "    print(f\"{word}: {count}\")\n",
    "\n",
    "# Plot word frequencies for the top 50 words\n",
    "top_words = pd.DataFrame(sorted_word_counts[:50], columns=['Word', 'Frequency'])\n",
    "fig = px.bar(top_words, x='Word', y='Frequency', title='Top 50 Word Frequencies', labels={'Word': 'Word', 'Frequency': 'Frequency'})\n",
    "fig.show()\n"
   ]
  },
  {
   "cell_type": "code",
   "execution_count": 37,
   "metadata": {},
   "outputs": [
    {
     "name": "stdout",
     "output_type": "stream",
     "text": [
      "Original Message: jurong point crazy available bugis n great world la e buffet cine amore wat\n",
      "Tokenized Message: [1, 226, 432, 450, 911, 34, 50, 202, 743, 77, 1, 912, 1, 56]\n",
      "Padded Sequence: [  1 226 432 450 911  34  50 202 743  77   1 912   1  56   0   0   0   0\n",
      "   0   0   0   0   0   0   0   0   0   0   0   0   0   0   0   0   0   0\n",
      "   0   0   0   0   0   0   0   0   0   0   0   0   0   0   0   0   0   0\n",
      "   0   0   0   0   0   0   0   0   0   0   0   0   0   0   0   0   0]\n"
     ]
    }
   ],
   "source": [
    "# Inspecting a sample of a tokenized message\n",
    "print(\"Original Message:\", data['cleaned_message'][0])\n",
    "print(\"Tokenized Message:\", data['tokenized_message'][0])\n",
    "print(\"Padded Sequence:\", padded_sequences[0])"
   ]
  },
  {
   "cell_type": "code",
   "execution_count": 38,
   "metadata": {},
   "outputs": [
    {
     "data": {
      "text/html": [
       "<div>\n",
       "<style scoped>\n",
       "    .dataframe tbody tr th:only-of-type {\n",
       "        vertical-align: middle;\n",
       "    }\n",
       "\n",
       "    .dataframe tbody tr th {\n",
       "        vertical-align: top;\n",
       "    }\n",
       "\n",
       "    .dataframe thead th {\n",
       "        text-align: right;\n",
       "    }\n",
       "</style>\n",
       "<table border=\"1\" class=\"dataframe\">\n",
       "  <thead>\n",
       "    <tr style=\"text-align: right;\">\n",
       "      <th></th>\n",
       "      <th>label</th>\n",
       "      <th>message</th>\n",
       "      <th>message_length</th>\n",
       "      <th>cleaned_message</th>\n",
       "      <th>tokenized_message</th>\n",
       "    </tr>\n",
       "  </thead>\n",
       "  <tbody>\n",
       "    <tr>\n",
       "      <th>0</th>\n",
       "      <td>0</td>\n",
       "      <td>Go until jurong point, crazy.. Available only ...</td>\n",
       "      <td>114</td>\n",
       "      <td>jurong point crazy available bugis n great wor...</td>\n",
       "      <td>[1, 226, 432, 450, 911, 34, 50, 202, 743, 77, ...</td>\n",
       "    </tr>\n",
       "    <tr>\n",
       "      <th>1</th>\n",
       "      <td>0</td>\n",
       "      <td>Ok lar... Joking wif u oni...</td>\n",
       "      <td>32</td>\n",
       "      <td>ok lar joking wif u oni</td>\n",
       "      <td>[9, 191, 1, 285, 3, 1]</td>\n",
       "    </tr>\n",
       "    <tr>\n",
       "      <th>2</th>\n",
       "      <td>1</td>\n",
       "      <td>Free entry in 2 a wkly comp to win FA Cup fina...</td>\n",
       "      <td>158</td>\n",
       "      <td>free entry wkly comp win fa cup final tkts st ...</td>\n",
       "      <td>[10, 295, 513, 636, 31, 1, 744, 413, 1, 125, 1...</td>\n",
       "    </tr>\n",
       "    <tr>\n",
       "      <th>3</th>\n",
       "      <td>0</td>\n",
       "      <td>U dun say so early hor... U c already then say...</td>\n",
       "      <td>52</td>\n",
       "      <td>u dun early hor u c</td>\n",
       "      <td>[3, 124, 150, 1, 3, 82]</td>\n",
       "    </tr>\n",
       "    <tr>\n",
       "      <th>4</th>\n",
       "      <td>0</td>\n",
       "      <td>Nah I don't think he goes to usf, he lives aro...</td>\n",
       "      <td>64</td>\n",
       "      <td>nah I think usf live</td>\n",
       "      <td>[685, 2, 21, 637, 131]</td>\n",
       "    </tr>\n",
       "  </tbody>\n",
       "</table>\n",
       "</div>"
      ],
      "text/plain": [
       "   label                                            message  message_length  \\\n",
       "0      0  Go until jurong point, crazy.. Available only ...             114   \n",
       "1      0                   Ok lar... Joking wif u oni...                 32   \n",
       "2      1  Free entry in 2 a wkly comp to win FA Cup fina...             158   \n",
       "3      0  U dun say so early hor... U c already then say...              52   \n",
       "4      0  Nah I don't think he goes to usf, he lives aro...              64   \n",
       "\n",
       "                                     cleaned_message  \\\n",
       "0  jurong point crazy available bugis n great wor...   \n",
       "1                            ok lar joking wif u oni   \n",
       "2  free entry wkly comp win fa cup final tkts st ...   \n",
       "3                                u dun early hor u c   \n",
       "4                               nah I think usf live   \n",
       "\n",
       "                                   tokenized_message  \n",
       "0  [1, 226, 432, 450, 911, 34, 50, 202, 743, 77, ...  \n",
       "1                             [9, 191, 1, 285, 3, 1]  \n",
       "2  [10, 295, 513, 636, 31, 1, 744, 413, 1, 125, 1...  \n",
       "3                            [3, 124, 150, 1, 3, 82]  \n",
       "4                             [685, 2, 21, 637, 131]  "
      ]
     },
     "execution_count": 38,
     "metadata": {},
     "output_type": "execute_result"
    }
   ],
   "source": [
    "data.head()"
   ]
  },
  {
   "cell_type": "markdown",
   "metadata": {},
   "source": [
    "## Preprocessing"
   ]
  },
  {
   "cell_type": "code",
   "execution_count": 55,
   "metadata": {},
   "outputs": [
    {
     "name": "stdout",
     "output_type": "stream",
     "text": [
      "Dataset size: 5572\n",
      "Train set size: 3565\n",
      "Validation set size: 892\n",
      "Test set size: 1115\n"
     ]
    }
   ],
   "source": [
    "# Train-test split\n",
    "X = padded_sequences\n",
    "y = data[\"label\"]\n",
    "\n",
    "x_temp, x_test, y_temp, y_test = train_test_split(X, y, test_size=0.2, random_state=42)\n",
    "x_train, x_val, y_train, y_val = train_test_split(\n",
    "    x_temp, y_temp, test_size=0.2, random_state=42\n",
    ")\n",
    "\n",
    "print(f\"Dataset size: {len(y_temp) + len(x_test)}\")\n",
    "print(f\"Train set size: {len(x_train)}\")\n",
    "print(f\"Validation set size: {len(x_val)}\")\n",
    "print(f\"Test set size: {len(x_test)}\")"
   ]
  },
  {
   "cell_type": "code",
   "execution_count": 69,
   "metadata": {},
   "outputs": [],
   "source": [
    "BATCH_SIZE = 32\n",
    "\n",
    "# Create TensorFlow Batches\n",
    "train = Dataset.from_tensor_slices((x_train, y_train))\n",
    "val = Dataset.from_tensor_slices((x_val, y_val))\n",
    "\n",
    "train_batch = train.shuffle(len(x_train)).batch(BATCH_SIZE)\n",
    "val_batch = val.shuffle(len(x_val)).batch(BATCH_SIZE)"
   ]
  },
  {
   "cell_type": "code",
   "execution_count": 159,
   "metadata": {},
   "outputs": [
    {
     "name": "stdout",
     "output_type": "stream",
     "text": [
      "tf.Tensor(\n",
      "[[  1   1   1 ...   0   0   0]\n",
      " [266   2 106 ...   0   0   0]\n",
      " [390   2 296 ...   0   0   0]\n",
      " ...\n",
      " [ 78   2  22 ...   0   0   0]\n",
      " [623   1 151 ...   0   0   0]\n",
      " [  1   1   1 ...   0   0   0]], shape=(32, 71), dtype=int32) tf.Tensor([0 0 0 0 0 0 0 0 0 0 0 0 0 1 0 1 0 0 0 0 0 0 0 0 0 0 0 0 0 0 0 0], shape=(32,), dtype=int64)\n"
     ]
    }
   ],
   "source": [
    "# Visualize a sample batch\n",
    "for text, label in train_batch.take(1):\n",
    "    print(text, label)"
   ]
  },
  {
   "cell_type": "markdown",
   "metadata": {},
   "source": [
    "## Deep Learning model training"
   ]
  },
  {
   "cell_type": "markdown",
   "metadata": {},
   "source": [
    "### Word Embedding"
   ]
  },
  {
   "cell_type": "code",
   "execution_count": 174,
   "metadata": {},
   "outputs": [],
   "source": [
    "vocab_size = tokenizer.num_words\n",
    "embedding_dim = 128\n",
    "\n",
    "model_embed = Sequential(\n",
    "    [\n",
    "        Input(shape=(text.shape[1],)),\n",
    "        Embedding(vocab_size + 2, embedding_dim, name=\"embedding\"),\n",
    "        GlobalAveragePooling1D(),\n",
    "        Dense(128, activation=\"relu\"),\n",
    "        Dense(64, activation=\"relu\"),\n",
    "        Dense(1, activation=\"sigmoid\"),\n",
    "    ]\n",
    ")"
   ]
  },
  {
   "cell_type": "code",
   "execution_count": 175,
   "metadata": {},
   "outputs": [
    {
     "data": {
      "text/html": [
       "<pre style=\"white-space:pre;overflow-x:auto;line-height:normal;font-family:Menlo,'DejaVu Sans Mono',consolas,'Courier New',monospace\"><span style=\"font-weight: bold\">Model: \"sequential_14\"</span>\n",
       "</pre>\n"
      ],
      "text/plain": [
       "\u001b[1mModel: \"sequential_14\"\u001b[0m\n"
      ]
     },
     "metadata": {},
     "output_type": "display_data"
    },
    {
     "data": {
      "text/html": [
       "<pre style=\"white-space:pre;overflow-x:auto;line-height:normal;font-family:Menlo,'DejaVu Sans Mono',consolas,'Courier New',monospace\">┏━━━━━━━━━━━━━━━━━━━━━━━━━━━━━━━━━┳━━━━━━━━━━━━━━━━━━━━━━━━┳━━━━━━━━━━━━━━━┓\n",
       "┃<span style=\"font-weight: bold\"> Layer (type)                    </span>┃<span style=\"font-weight: bold\"> Output Shape           </span>┃<span style=\"font-weight: bold\">       Param # </span>┃\n",
       "┡━━━━━━━━━━━━━━━━━━━━━━━━━━━━━━━━━╇━━━━━━━━━━━━━━━━━━━━━━━━╇━━━━━━━━━━━━━━━┩\n",
       "│ embedding (<span style=\"color: #0087ff; text-decoration-color: #0087ff\">Embedding</span>)           │ (<span style=\"color: #00d7ff; text-decoration-color: #00d7ff\">None</span>, <span style=\"color: #00af00; text-decoration-color: #00af00\">71</span>, <span style=\"color: #00af00; text-decoration-color: #00af00\">128</span>)        │       <span style=\"color: #00af00; text-decoration-color: #00af00\">128,256</span> │\n",
       "├─────────────────────────────────┼────────────────────────┼───────────────┤\n",
       "│ global_average_pooling1d_2      │ (<span style=\"color: #00d7ff; text-decoration-color: #00d7ff\">None</span>, <span style=\"color: #00af00; text-decoration-color: #00af00\">128</span>)            │             <span style=\"color: #00af00; text-decoration-color: #00af00\">0</span> │\n",
       "│ (<span style=\"color: #0087ff; text-decoration-color: #0087ff\">GlobalAveragePooling1D</span>)        │                        │               │\n",
       "├─────────────────────────────────┼────────────────────────┼───────────────┤\n",
       "│ dense_45 (<span style=\"color: #0087ff; text-decoration-color: #0087ff\">Dense</span>)                │ (<span style=\"color: #00d7ff; text-decoration-color: #00d7ff\">None</span>, <span style=\"color: #00af00; text-decoration-color: #00af00\">128</span>)            │        <span style=\"color: #00af00; text-decoration-color: #00af00\">16,512</span> │\n",
       "├─────────────────────────────────┼────────────────────────┼───────────────┤\n",
       "│ dense_46 (<span style=\"color: #0087ff; text-decoration-color: #0087ff\">Dense</span>)                │ (<span style=\"color: #00d7ff; text-decoration-color: #00d7ff\">None</span>, <span style=\"color: #00af00; text-decoration-color: #00af00\">64</span>)             │         <span style=\"color: #00af00; text-decoration-color: #00af00\">8,256</span> │\n",
       "├─────────────────────────────────┼────────────────────────┼───────────────┤\n",
       "│ dense_47 (<span style=\"color: #0087ff; text-decoration-color: #0087ff\">Dense</span>)                │ (<span style=\"color: #00d7ff; text-decoration-color: #00d7ff\">None</span>, <span style=\"color: #00af00; text-decoration-color: #00af00\">1</span>)              │            <span style=\"color: #00af00; text-decoration-color: #00af00\">65</span> │\n",
       "└─────────────────────────────────┴────────────────────────┴───────────────┘\n",
       "</pre>\n"
      ],
      "text/plain": [
       "┏━━━━━━━━━━━━━━━━━━━━━━━━━━━━━━━━━┳━━━━━━━━━━━━━━━━━━━━━━━━┳━━━━━━━━━━━━━━━┓\n",
       "┃\u001b[1m \u001b[0m\u001b[1mLayer (type)                   \u001b[0m\u001b[1m \u001b[0m┃\u001b[1m \u001b[0m\u001b[1mOutput Shape          \u001b[0m\u001b[1m \u001b[0m┃\u001b[1m \u001b[0m\u001b[1m      Param #\u001b[0m\u001b[1m \u001b[0m┃\n",
       "┡━━━━━━━━━━━━━━━━━━━━━━━━━━━━━━━━━╇━━━━━━━━━━━━━━━━━━━━━━━━╇━━━━━━━━━━━━━━━┩\n",
       "│ embedding (\u001b[38;5;33mEmbedding\u001b[0m)           │ (\u001b[38;5;45mNone\u001b[0m, \u001b[38;5;34m71\u001b[0m, \u001b[38;5;34m128\u001b[0m)        │       \u001b[38;5;34m128,256\u001b[0m │\n",
       "├─────────────────────────────────┼────────────────────────┼───────────────┤\n",
       "│ global_average_pooling1d_2      │ (\u001b[38;5;45mNone\u001b[0m, \u001b[38;5;34m128\u001b[0m)            │             \u001b[38;5;34m0\u001b[0m │\n",
       "│ (\u001b[38;5;33mGlobalAveragePooling1D\u001b[0m)        │                        │               │\n",
       "├─────────────────────────────────┼────────────────────────┼───────────────┤\n",
       "│ dense_45 (\u001b[38;5;33mDense\u001b[0m)                │ (\u001b[38;5;45mNone\u001b[0m, \u001b[38;5;34m128\u001b[0m)            │        \u001b[38;5;34m16,512\u001b[0m │\n",
       "├─────────────────────────────────┼────────────────────────┼───────────────┤\n",
       "│ dense_46 (\u001b[38;5;33mDense\u001b[0m)                │ (\u001b[38;5;45mNone\u001b[0m, \u001b[38;5;34m64\u001b[0m)             │         \u001b[38;5;34m8,256\u001b[0m │\n",
       "├─────────────────────────────────┼────────────────────────┼───────────────┤\n",
       "│ dense_47 (\u001b[38;5;33mDense\u001b[0m)                │ (\u001b[38;5;45mNone\u001b[0m, \u001b[38;5;34m1\u001b[0m)              │            \u001b[38;5;34m65\u001b[0m │\n",
       "└─────────────────────────────────┴────────────────────────┴───────────────┘\n"
      ]
     },
     "metadata": {},
     "output_type": "display_data"
    },
    {
     "data": {
      "text/html": [
       "<pre style=\"white-space:pre;overflow-x:auto;line-height:normal;font-family:Menlo,'DejaVu Sans Mono',consolas,'Courier New',monospace\"><span style=\"font-weight: bold\"> Total params: </span><span style=\"color: #00af00; text-decoration-color: #00af00\">153,089</span> (598.00 KB)\n",
       "</pre>\n"
      ],
      "text/plain": [
       "\u001b[1m Total params: \u001b[0m\u001b[38;5;34m153,089\u001b[0m (598.00 KB)\n"
      ]
     },
     "metadata": {},
     "output_type": "display_data"
    },
    {
     "data": {
      "text/html": [
       "<pre style=\"white-space:pre;overflow-x:auto;line-height:normal;font-family:Menlo,'DejaVu Sans Mono',consolas,'Courier New',monospace\"><span style=\"font-weight: bold\"> Trainable params: </span><span style=\"color: #00af00; text-decoration-color: #00af00\">153,089</span> (598.00 KB)\n",
       "</pre>\n"
      ],
      "text/plain": [
       "\u001b[1m Trainable params: \u001b[0m\u001b[38;5;34m153,089\u001b[0m (598.00 KB)\n"
      ]
     },
     "metadata": {},
     "output_type": "display_data"
    },
    {
     "data": {
      "text/html": [
       "<pre style=\"white-space:pre;overflow-x:auto;line-height:normal;font-family:Menlo,'DejaVu Sans Mono',consolas,'Courier New',monospace\"><span style=\"font-weight: bold\"> Non-trainable params: </span><span style=\"color: #00af00; text-decoration-color: #00af00\">0</span> (0.00 B)\n",
       "</pre>\n"
      ],
      "text/plain": [
       "\u001b[1m Non-trainable params: \u001b[0m\u001b[38;5;34m0\u001b[0m (0.00 B)\n"
      ]
     },
     "metadata": {},
     "output_type": "display_data"
    }
   ],
   "source": [
    "model_embed.summary()"
   ]
  },
  {
   "cell_type": "code",
   "execution_count": 176,
   "metadata": {},
   "outputs": [],
   "source": [
    "metrics = [\n",
    "    BinaryAccuracy(name=\"accuracy\"),\n",
    "    Precision(name=\"precision\"),\n",
    "    Recall(name=\"recall\"),\n",
    "]\n",
    "\n",
    "model_embed.compile(optimizer=\"adam\", loss=\"binary_crossentropy\", metrics=metrics)"
   ]
  },
  {
   "cell_type": "code",
   "execution_count": 177,
   "metadata": {},
   "outputs": [
    {
     "data": {
      "text/plain": [
       "label\n",
       "0    4825\n",
       "1     747\n",
       "Name: count, dtype: int64"
      ]
     },
     "execution_count": 177,
     "metadata": {},
     "output_type": "execute_result"
    }
   ],
   "source": [
    "class_counts = data[\"label\"].value_counts()\n",
    "class_counts"
   ]
  },
  {
   "cell_type": "code",
   "execution_count": 178,
   "metadata": {},
   "outputs": [
    {
     "data": {
      "text/plain": [
       "{0: 0.5774093264248704, 1: 3.72958500669344}"
      ]
     },
     "execution_count": 178,
     "metadata": {},
     "output_type": "execute_result"
    }
   ],
   "source": [
    "total_samples = len(data)\n",
    "num_classes = 2\n",
    "\n",
    "class_weights = {}\n",
    "for clss, count in class_counts.items():\n",
    "    weight = (1 / count) * total_samples / num_classes\n",
    "    class_weights[clss] = weight\n",
    "\n",
    "class_weights"
   ]
  },
  {
   "cell_type": "code",
   "execution_count": 185,
   "metadata": {},
   "outputs": [
    {
     "name": "stdout",
     "output_type": "stream",
     "text": [
      "Epoch 1/20\n",
      "\u001b[1m112/112\u001b[0m \u001b[32m━━━━━━━━━━━━━━━━━━━━\u001b[0m\u001b[37m\u001b[0m \u001b[1m0s\u001b[0m 2ms/step - accuracy: 0.9842 - loss: 0.0430 - precision: 0.9113 - recall: 0.9876 - val_accuracy: 0.9798 - val_loss: 0.0852 - val_precision: 0.9762 - val_recall: 0.8367\n",
      "Epoch 2/20\n",
      "\u001b[1m112/112\u001b[0m \u001b[32m━━━━━━━━━━━━━━━━━━━━\u001b[0m\u001b[37m\u001b[0m \u001b[1m0s\u001b[0m 1ms/step - accuracy: 0.9894 - loss: 0.0324 - precision: 0.9412 - recall: 0.9869 - val_accuracy: 0.9159 - val_loss: 0.2201 - val_precision: 0.5706 - val_recall: 0.9490\n",
      "Epoch 3/20\n",
      "\u001b[1m112/112\u001b[0m \u001b[32m━━━━━━━━━━━━━━━━━━━━\u001b[0m\u001b[37m\u001b[0m \u001b[1m0s\u001b[0m 1ms/step - accuracy: 0.9882 - loss: 0.0338 - precision: 0.9194 - recall: 0.9906 - val_accuracy: 0.9563 - val_loss: 0.1537 - val_precision: 0.7398 - val_recall: 0.9286\n",
      "Epoch 4/20\n",
      "\u001b[1m112/112\u001b[0m \u001b[32m━━━━━━━━━━━━━━━━━━━━\u001b[0m\u001b[37m\u001b[0m \u001b[1m0s\u001b[0m 1ms/step - accuracy: 0.9876 - loss: 0.0322 - precision: 0.9278 - recall: 0.9884 - val_accuracy: 0.9675 - val_loss: 0.0878 - val_precision: 0.8416 - val_recall: 0.8673\n",
      "Epoch 5/20\n",
      "\u001b[1m112/112\u001b[0m \u001b[32m━━━━━━━━━━━━━━━━━━━━\u001b[0m\u001b[37m\u001b[0m \u001b[1m0s\u001b[0m 1ms/step - accuracy: 0.9908 - loss: 0.0268 - precision: 0.9479 - recall: 0.9911 - val_accuracy: 0.9787 - val_loss: 0.1049 - val_precision: 0.9877 - val_recall: 0.8163\n",
      "Epoch 6/20\n",
      "\u001b[1m112/112\u001b[0m \u001b[32m━━━━━━━━━━━━━━━━━━━━\u001b[0m\u001b[37m\u001b[0m \u001b[1m0s\u001b[0m 1ms/step - accuracy: 0.9959 - loss: 0.0150 - precision: 0.9744 - recall: 0.9983 - val_accuracy: 0.9675 - val_loss: 0.1021 - val_precision: 0.8350 - val_recall: 0.8776\n",
      "Epoch 7/20\n",
      "\u001b[1m112/112\u001b[0m \u001b[32m━━━━━━━━━━━━━━━━━━━━\u001b[0m\u001b[37m\u001b[0m \u001b[1m0s\u001b[0m 1ms/step - accuracy: 0.9759 - loss: 0.0688 - precision: 0.8711 - recall: 0.9698 - val_accuracy: 0.9664 - val_loss: 0.1058 - val_precision: 0.8091 - val_recall: 0.9082\n",
      "Epoch 8/20\n",
      "\u001b[1m112/112\u001b[0m \u001b[32m━━━━━━━━━━━━━━━━━━━━\u001b[0m\u001b[37m\u001b[0m \u001b[1m0s\u001b[0m 2ms/step - accuracy: 0.9881 - loss: 0.0337 - precision: 0.9266 - recall: 0.9938 - val_accuracy: 0.6446 - val_loss: 1.1921 - val_precision: 0.2310 - val_recall: 0.9592\n",
      "Epoch 9/20\n",
      "\u001b[1m112/112\u001b[0m \u001b[32m━━━━━━━━━━━━━━━━━━━━\u001b[0m\u001b[37m\u001b[0m \u001b[1m0s\u001b[0m 1ms/step - accuracy: 0.9443 - loss: 0.1512 - precision: 0.7409 - recall: 0.9381 - val_accuracy: 0.9697 - val_loss: 0.1262 - val_precision: 1.0000 - val_recall: 0.7245\n",
      "Epoch 10/20\n",
      "\u001b[1m112/112\u001b[0m \u001b[32m━━━━━━━━━━━━━━━━━━━━\u001b[0m\u001b[37m\u001b[0m \u001b[1m0s\u001b[0m 1ms/step - accuracy: 0.9852 - loss: 0.0889 - precision: 0.9246 - recall: 0.9552 - val_accuracy: 0.9776 - val_loss: 0.0838 - val_precision: 0.9432 - val_recall: 0.8469\n",
      "Epoch 11/20\n",
      "\u001b[1m112/112\u001b[0m \u001b[32m━━━━━━━━━━━━━━━━━━━━\u001b[0m\u001b[37m\u001b[0m \u001b[1m0s\u001b[0m 1ms/step - accuracy: 0.9936 - loss: 0.0202 - precision: 0.9627 - recall: 0.9937 - val_accuracy: 0.9798 - val_loss: 0.0942 - val_precision: 0.9762 - val_recall: 0.8367\n",
      "Epoch 12/20\n",
      "\u001b[1m112/112\u001b[0m \u001b[32m━━━━━━━━━━━━━━━━━━━━\u001b[0m\u001b[37m\u001b[0m \u001b[1m0s\u001b[0m 2ms/step - accuracy: 0.9828 - loss: 0.0560 - precision: 0.9173 - recall: 0.9726 - val_accuracy: 0.9697 - val_loss: 0.0982 - val_precision: 0.8447 - val_recall: 0.8878\n",
      "Epoch 13/20\n",
      "\u001b[1m112/112\u001b[0m \u001b[32m━━━━━━━━━━━━━━━━━━━━\u001b[0m\u001b[37m\u001b[0m \u001b[1m0s\u001b[0m 1ms/step - accuracy: 0.9899 - loss: 0.0320 - precision: 0.9423 - recall: 0.9863 - val_accuracy: 0.9686 - val_loss: 0.1117 - val_precision: 0.8302 - val_recall: 0.8980\n",
      "Epoch 14/20\n",
      "\u001b[1m112/112\u001b[0m \u001b[32m━━━━━━━━━━━━━━━━━━━━\u001b[0m\u001b[37m\u001b[0m \u001b[1m0s\u001b[0m 1ms/step - accuracy: 0.9933 - loss: 0.0232 - precision: 0.9647 - recall: 0.9898 - val_accuracy: 0.7646 - val_loss: 0.7190 - val_precision: 0.3133 - val_recall: 0.9592\n",
      "Epoch 15/20\n",
      "\u001b[1m112/112\u001b[0m \u001b[32m━━━━━━━━━━━━━━━━━━━━\u001b[0m\u001b[37m\u001b[0m \u001b[1m0s\u001b[0m 1ms/step - accuracy: 0.9550 - loss: 0.1039 - precision: 0.7776 - recall: 0.9627 - val_accuracy: 0.9709 - val_loss: 0.1048 - val_precision: 0.8529 - val_recall: 0.8878\n",
      "Epoch 16/20\n",
      "\u001b[1m112/112\u001b[0m \u001b[32m━━━━━━━━━━━━━━━━━━━━\u001b[0m\u001b[37m\u001b[0m \u001b[1m0s\u001b[0m 2ms/step - accuracy: 0.9944 - loss: 0.0172 - precision: 0.9730 - recall: 0.9897 - val_accuracy: 0.9765 - val_loss: 0.1171 - val_precision: 0.9326 - val_recall: 0.8469\n",
      "Epoch 17/20\n",
      "\u001b[1m112/112\u001b[0m \u001b[32m━━━━━━━━━━━━━━━━━━━━\u001b[0m\u001b[37m\u001b[0m \u001b[1m0s\u001b[0m 1ms/step - accuracy: 0.9861 - loss: 0.0386 - precision: 0.9142 - recall: 0.9843 - val_accuracy: 0.9832 - val_loss: 0.1153 - val_precision: 1.0000 - val_recall: 0.8469\n",
      "Epoch 18/20\n",
      "\u001b[1m112/112\u001b[0m \u001b[32m━━━━━━━━━━━━━━━━━━━━\u001b[0m\u001b[37m\u001b[0m \u001b[1m0s\u001b[0m 1ms/step - accuracy: 0.9922 - loss: 0.0154 - precision: 0.9469 - recall: 0.9983 - val_accuracy: 0.9709 - val_loss: 0.2237 - val_precision: 1.0000 - val_recall: 0.7347\n",
      "Epoch 19/20\n",
      "\u001b[1m112/112\u001b[0m \u001b[32m━━━━━━━━━━━━━━━━━━━━\u001b[0m\u001b[37m\u001b[0m \u001b[1m0s\u001b[0m 1ms/step - accuracy: 0.9583 - loss: 0.1473 - precision: 0.8194 - recall: 0.9648 - val_accuracy: 0.9686 - val_loss: 0.1020 - val_precision: 0.8431 - val_recall: 0.8776\n",
      "Epoch 20/20\n",
      "\u001b[1m112/112\u001b[0m \u001b[32m━━━━━━━━━━━━━━━━━━━━\u001b[0m\u001b[37m\u001b[0m \u001b[1m0s\u001b[0m 1ms/step - accuracy: 0.9959 - loss: 0.0143 - precision: 0.9742 - recall: 0.9971 - val_accuracy: 0.9675 - val_loss: 0.1082 - val_precision: 0.8286 - val_recall: 0.8878\n"
     ]
    }
   ],
   "source": [
    "history = model_embed.fit(\n",
    "    train_batch, epochs=20, validation_data=val_batch, class_weight=class_weights\n",
    ")"
   ]
  },
  {
   "cell_type": "code",
   "execution_count": 180,
   "metadata": {},
   "outputs": [],
   "source": [
    "model_embed.save(\"./models/model_wordembed.keras\")"
   ]
  },
  {
   "cell_type": "code",
   "execution_count": 181,
   "metadata": {},
   "outputs": [
    {
     "name": "stdout",
     "output_type": "stream",
     "text": [
      "\u001b[1m35/35\u001b[0m \u001b[32m━━━━━━━━━━━━━━━━━━━━\u001b[0m\u001b[37m\u001b[0m \u001b[1m1s\u001b[0m 20ms/step\n"
     ]
    },
    {
     "data": {
      "image/png": "[encoded data removed]",
      "text/plain": [
       "<Figure size 640x480 with 2 Axes>"
      ]
     },
     "metadata": {},
     "output_type": "display_data"
    }
   ],
   "source": [
    "# Evaluate the Model\n",
    "y_pred = (model_embed.predict(x_test) > 0.5).astype(\"int\")\n",
    "\n",
    "cm = confusion_matrix(y_test, y_pred)\n",
    "disp = ConfusionMatrixDisplay(confusion_matrix=cm, display_labels=[\"Ham\", \"Spam\"])\n",
    "disp.plot(cmap=plt.cm.Blues)\n",
    "plt.title(\"Confusion Matrix\")\n",
    "plt.show()"
   ]
  },
  {
   "cell_type": "code",
   "execution_count": 189,
   "metadata": {},
   "outputs": [
    {
     "name": "stdout",
     "output_type": "stream",
     "text": [
      "              precision    recall  f1-score   support\n",
      "\n",
      "           0       0.99      0.99      0.99       965\n",
      "           1       0.93      0.91      0.92       150\n",
      "\n",
      "    accuracy                           0.98      1115\n",
      "   macro avg       0.96      0.95      0.95      1115\n",
      "weighted avg       0.98      0.98      0.98      1115\n",
      "\n"
     ]
    }
   ],
   "source": [
    "# Classification Report\n",
    "print(classification_report(y_test, y_pred))"
   ]
  },
  {
   "cell_type": "code",
   "execution_count": 190,
   "metadata": {},
   "outputs": [
    {
     "data": {
      "image/png": "[encoded data removed]",
      "text/plain": [
       "<Figure size 1000x600 with 1 Axes>"
      ]
     },
     "metadata": {},
     "output_type": "display_data"
    }
   ],
   "source": [
    "# Plot Training History\n",
    "plt.figure(figsize=(10, 6))\n",
    "plt.plot(history.history['accuracy'], label='Train Accuracy')\n",
    "plt.plot(history.history['val_accuracy'], label='Validation Accuracy')\n",
    "plt.xlabel('Epochs')\n",
    "plt.ylabel('Accuracy')\n",
    "plt.legend()\n",
    "plt.title('Training vs Validation Accuracy')\n",
    "plt.show()"
   ]
  },
  {
   "cell_type": "markdown",
   "metadata": {},
   "source": [
    "### Test with your own SMS !"
   ]
  },
  {
   "cell_type": "code",
   "execution_count": 212,
   "metadata": {},
   "outputs": [],
   "source": [
    "example_sms = {\n",
    "    \"spam1\": \"Congratulations! You've won a $1,000 Walmart gift card. Go to http://bit.ly/123456 to claim now.\",\n",
    "    \"ham1\": \"Hey, what time are we meeting tomorrow?\",\n",
    "    \"spam2\": \"Get a free iPhone by clicking on the link below!\",\n",
    "    \"ham2\": \"Don't forget to bring your umbrella tomorrow.\",\n",
    "    \"spam3\": \"URGENT! You have won a 1 week FREE membership. Call 09061701461 now!\",\n",
    "    \"ham3\": \"Can you send me the notes from today's meeting?\"\n",
    "}"
   ]
  },
  {
   "cell_type": "code",
   "execution_count": 216,
   "metadata": {},
   "outputs": [],
   "source": [
    "def predict_sms(sms_text, model, tokenizer, maxlen=100):\n",
    "    \"\"\"Predict if an SMS is spam or not\"\"\"\n",
    "    # Preprocess the SMS\n",
    "    sms_cleaned = clean_text(sms_text)\n",
    "\n",
    "    # Tokenize and pad the SMS\n",
    "    sms_sequence = tokenizer.texts_to_sequences([sms_cleaned])\n",
    "    sms_padded = pad_sequences(\n",
    "        sms_sequence, maxlen=maxlen, padding=\"post\", truncating=\"post\"\n",
    "    )\n",
    "\n",
    "    # Predict using the model\n",
    "    prediction = model.predict(sms_padded)\n",
    "    label = \"Spam\" if prediction[0] > 0.5 else \"Non-Spam\"\n",
    "\n",
    "    return label, prediction[0][0] * 100"
   ]
  },
  {
   "cell_type": "code",
   "execution_count": 218,
   "metadata": {},
   "outputs": [
    {
     "name": "stdout",
     "output_type": "stream",
     "text": [
      "\u001b[1m1/1\u001b[0m \u001b[32m━━━━━━━━━━━━━━━━━━━━\u001b[0m\u001b[37m\u001b[0m \u001b[1m0s\u001b[0m 44ms/step\n",
      "Example: spam1\n",
      "SMS: Congratulations! You've won a $1,000 Walmart gift card. Go to http://bit.ly/123456 to claim now.\n",
      "Predicted Label: Spam\n",
      "Probability of spam: 62.05%\n",
      "\n",
      "\u001b[1m1/1\u001b[0m \u001b[32m━━━━━━━━━━━━━━━━━━━━\u001b[0m\u001b[37m\u001b[0m \u001b[1m0s\u001b[0m 22ms/step\n",
      "Example: ham1\n",
      "SMS: Hey, what time are we meeting tomorrow?\n",
      "Predicted Label: Non-Spam\n",
      "Probability of spam: 0.07%\n",
      "\n",
      "\u001b[1m1/1\u001b[0m \u001b[32m━━━━━━━━━━━━━━━━━━━━\u001b[0m\u001b[37m\u001b[0m \u001b[1m0s\u001b[0m 22ms/step\n",
      "Example: spam2\n",
      "SMS: Get a free iPhone by clicking on the link below!\n",
      "Predicted Label: Spam\n",
      "Probability of spam: 78.63%\n",
      "\n",
      "\u001b[1m1/1\u001b[0m \u001b[32m━━━━━━━━━━━━━━━━━━━━\u001b[0m\u001b[37m\u001b[0m \u001b[1m0s\u001b[0m 23ms/step\n",
      "Example: ham2\n",
      "SMS: Don't forget to bring your umbrella tomorrow.\n",
      "Predicted Label: Non-Spam\n",
      "Probability of spam: 1.91%\n",
      "\n",
      "\u001b[1m1/1\u001b[0m \u001b[32m━━━━━━━━━━━━━━━━━━━━\u001b[0m\u001b[37m\u001b[0m \u001b[1m0s\u001b[0m 22ms/step\n",
      "Example: spam3\n",
      "SMS: URGENT! You have won a 1 week FREE membership. Call 09061701461 now!\n",
      "Predicted Label: Spam\n",
      "Probability of spam: 98.38%\n",
      "\n",
      "\u001b[1m1/1\u001b[0m \u001b[32m━━━━━━━━━━━━━━━━━━━━\u001b[0m\u001b[37m\u001b[0m \u001b[1m0s\u001b[0m 22ms/step\n",
      "Example: ham3\n",
      "SMS: Can you send me the notes from today's meeting?\n",
      "Predicted Label: Non-Spam\n",
      "Probability of spam: 0.42%\n",
      "\n"
     ]
    }
   ],
   "source": [
    "MODEL = model_embed\n",
    "\n",
    "for key, sms in example_sms.items():\n",
    "    label, confidence = predict_sms(sms, MODEL, tokenizer)\n",
    "    print(f\"Example: {key}\\nSMS: {sms}\\nPredicted Label: {label}\\nProbability of spam: {confidence:.2f}%\\n\")"
   ]
  },
  {
   "cell_type": "markdown",
   "metadata": {},
   "source": [
    "# WIP Transfer Learning"
   ]
  },
  {
   "cell_type": "markdown",
   "metadata": {},
   "source": [
    "### Transfer Learning"
   ]
  },
  {
   "cell_type": "code",
   "execution_count": 225,
   "metadata": {},
   "outputs": [],
   "source": [
    "X = data['message'].values\n",
    "y = data['label'].values\n",
    "\n",
    "X_train, X_test, y_train, y_test = train_test_split(X, y, test_size=0.2, random_state=42)"
   ]
  },
  {
   "cell_type": "code",
   "execution_count": 226,
   "metadata": {},
   "outputs": [
    {
     "name": "stderr",
     "output_type": "stream",
     "text": [
      "All PyTorch model weights were used when initializing TFBertForSequenceClassification.\n",
      "\n",
      "Some weights or buffers of the TF 2.0 model TFBertForSequenceClassification were not initialized from the PyTorch model and are newly initialized: ['classifier.weight', 'classifier.bias']\n",
      "You should probably TRAIN this model on a down-stream task to be able to use it for predictions and inference.\n"
     ]
    }
   ],
   "source": [
    "# Load pre-trained BERT tokenizer and model\n",
    "bert_tokenizer = BertTokenizer.from_pretrained('bert-base-uncased')\n",
    "bert_model = TFBertForSequenceClassification.from_pretrained('bert-base-uncased', num_labels=2)"
   ]
  },
  {
   "cell_type": "code",
   "execution_count": null,
   "metadata": {},
   "outputs": [
    {
     "name": "stderr",
     "output_type": "stream",
     "text": [
      "All PyTorch model weights were used when initializing TFBertForSequenceClassification.\n",
      "\n",
      "Some weights or buffers of the TF 2.0 model TFBertForSequenceClassification were not initialized from the PyTorch model and are newly initialized: ['classifier.weight', 'classifier.bias']\n",
      "You should probably TRAIN this model on a down-stream task to be able to use it for predictions and inference.\n"
     ]
    },
    {
     "ename": "AttributeError",
     "evalue": "'Variable' object has no attribute '_distribute_strategy'",
     "output_type": "error",
     "traceback": [
      "\u001b[0;31m---------------------------------------------------------------------------\u001b[0m",
      "\u001b[0;31mAttributeError\u001b[0m                            Traceback (most recent call last)",
      "Cell \u001b[0;32mIn[228], line 37\u001b[0m\n\u001b[1;32m     34\u001b[0m test_dataset \u001b[38;5;241m=\u001b[39m tf\u001b[38;5;241m.\u001b[39mdata\u001b[38;5;241m.\u001b[39mDataset\u001b[38;5;241m.\u001b[39mfrom_tensor_slices((\u001b[38;5;28mdict\u001b[39m(test_encodings), test_labels))\u001b[38;5;241m.\u001b[39mbatch(BATCH_SIZE)\n\u001b[1;32m     36\u001b[0m \u001b[38;5;66;03m# Compile the BERT model\u001b[39;00m\n\u001b[0;32m---> 37\u001b[0m \u001b[43mbert_model\u001b[49m\u001b[38;5;241;43m.\u001b[39;49m\u001b[43mcompile\u001b[49m\u001b[43m(\u001b[49m\n\u001b[1;32m     38\u001b[0m \u001b[43m    \u001b[49m\u001b[43moptimizer\u001b[49m\u001b[38;5;241;43m=\u001b[39;49m\u001b[43mAdam\u001b[49m\u001b[43m(\u001b[49m\u001b[43mlearning_rate\u001b[49m\u001b[38;5;241;43m=\u001b[39;49m\u001b[38;5;241;43m2e-5\u001b[39;49m\u001b[43m)\u001b[49m\u001b[43m,\u001b[49m\n\u001b[1;32m     39\u001b[0m \u001b[43m    \u001b[49m\u001b[43mloss\u001b[49m\u001b[38;5;241;43m=\u001b[39;49m\u001b[43mSparseCategoricalCrossentropy\u001b[49m\u001b[43m(\u001b[49m\u001b[43mfrom_logits\u001b[49m\u001b[38;5;241;43m=\u001b[39;49m\u001b[38;5;28;43;01mTrue\u001b[39;49;00m\u001b[43m)\u001b[49m\u001b[43m,\u001b[49m\n\u001b[1;32m     40\u001b[0m \u001b[43m    \u001b[49m\u001b[43mmetrics\u001b[49m\u001b[38;5;241;43m=\u001b[39;49m\u001b[43m[\u001b[49m\u001b[43mSparseCategoricalAccuracy\u001b[49m\u001b[43m(\u001b[49m\u001b[38;5;124;43m'\u001b[39;49m\u001b[38;5;124;43maccuracy\u001b[39;49m\u001b[38;5;124;43m'\u001b[39;49m\u001b[43m)\u001b[49m\u001b[43m]\u001b[49m\n\u001b[1;32m     41\u001b[0m \u001b[43m)\u001b[49m\n\u001b[1;32m     43\u001b[0m \u001b[38;5;66;03m# Train the BERT model\u001b[39;00m\n\u001b[1;32m     44\u001b[0m bert_history \u001b[38;5;241m=\u001b[39m bert_model\u001b[38;5;241m.\u001b[39mfit(\n\u001b[1;32m     45\u001b[0m     train_dataset,\n\u001b[1;32m     46\u001b[0m     epochs\u001b[38;5;241m=\u001b[39m\u001b[38;5;241m3\u001b[39m,\n\u001b[1;32m     47\u001b[0m     validation_data\u001b[38;5;241m=\u001b[39mval_dataset,\n\u001b[1;32m     48\u001b[0m     class_weight\u001b[38;5;241m=\u001b[39mclass_weights\n\u001b[1;32m     49\u001b[0m )\n",
      "File \u001b[0;32m~/miniconda3/envs/tf_env/lib/python3.10/site-packages/transformers/modeling_tf_utils.py:1563\u001b[0m, in \u001b[0;36mTFPreTrainedModel.compile\u001b[0;34m(self, optimizer, loss, metrics, loss_weights, weighted_metrics, run_eagerly, steps_per_execution, **kwargs)\u001b[0m\n\u001b[1;32m   1561\u001b[0m \u001b[38;5;66;03m# This argument got renamed, we need to support both versions\u001b[39;00m\n\u001b[1;32m   1562\u001b[0m \u001b[38;5;28;01mif\u001b[39;00m \u001b[38;5;124m\"\u001b[39m\u001b[38;5;124msteps_per_execution\u001b[39m\u001b[38;5;124m\"\u001b[39m \u001b[38;5;129;01min\u001b[39;00m parent_args:\n\u001b[0;32m-> 1563\u001b[0m     \u001b[38;5;28;43msuper\u001b[39;49m\u001b[43m(\u001b[49m\u001b[43m)\u001b[49m\u001b[38;5;241;43m.\u001b[39;49m\u001b[43mcompile\u001b[49m\u001b[43m(\u001b[49m\n\u001b[1;32m   1564\u001b[0m \u001b[43m        \u001b[49m\u001b[43moptimizer\u001b[49m\u001b[38;5;241;43m=\u001b[39;49m\u001b[43moptimizer\u001b[49m\u001b[43m,\u001b[49m\n\u001b[1;32m   1565\u001b[0m \u001b[43m        \u001b[49m\u001b[43mloss\u001b[49m\u001b[38;5;241;43m=\u001b[39;49m\u001b[43mloss\u001b[49m\u001b[43m,\u001b[49m\n\u001b[1;32m   1566\u001b[0m \u001b[43m        \u001b[49m\u001b[43mmetrics\u001b[49m\u001b[38;5;241;43m=\u001b[39;49m\u001b[43mmetrics\u001b[49m\u001b[43m,\u001b[49m\n\u001b[1;32m   1567\u001b[0m \u001b[43m        \u001b[49m\u001b[43mloss_weights\u001b[49m\u001b[38;5;241;43m=\u001b[39;49m\u001b[43mloss_weights\u001b[49m\u001b[43m,\u001b[49m\n\u001b[1;32m   1568\u001b[0m \u001b[43m        \u001b[49m\u001b[43mweighted_metrics\u001b[49m\u001b[38;5;241;43m=\u001b[39;49m\u001b[43mweighted_metrics\u001b[49m\u001b[43m,\u001b[49m\n\u001b[1;32m   1569\u001b[0m \u001b[43m        \u001b[49m\u001b[43mrun_eagerly\u001b[49m\u001b[38;5;241;43m=\u001b[39;49m\u001b[43mrun_eagerly\u001b[49m\u001b[43m,\u001b[49m\n\u001b[1;32m   1570\u001b[0m \u001b[43m        \u001b[49m\u001b[43msteps_per_execution\u001b[49m\u001b[38;5;241;43m=\u001b[39;49m\u001b[43msteps_per_execution\u001b[49m\u001b[43m,\u001b[49m\n\u001b[1;32m   1571\u001b[0m \u001b[43m        \u001b[49m\u001b[38;5;241;43m*\u001b[39;49m\u001b[38;5;241;43m*\u001b[39;49m\u001b[43mkwargs\u001b[49m\u001b[43m,\u001b[49m\n\u001b[1;32m   1572\u001b[0m \u001b[43m    \u001b[49m\u001b[43m)\u001b[49m\n\u001b[1;32m   1573\u001b[0m \u001b[38;5;28;01melse\u001b[39;00m:\n\u001b[1;32m   1574\u001b[0m     \u001b[38;5;28msuper\u001b[39m()\u001b[38;5;241m.\u001b[39mcompile(\n\u001b[1;32m   1575\u001b[0m         optimizer\u001b[38;5;241m=\u001b[39moptimizer,\n\u001b[1;32m   1576\u001b[0m         loss\u001b[38;5;241m=\u001b[39mloss,\n\u001b[0;32m   (...)\u001b[0m\n\u001b[1;32m   1582\u001b[0m         \u001b[38;5;241m*\u001b[39m\u001b[38;5;241m*\u001b[39mkwargs,\n\u001b[1;32m   1583\u001b[0m     )\n",
      "File \u001b[0;32m~/miniconda3/envs/tf_env/lib/python3.10/site-packages/tf_keras/src/utils/traceback_utils.py:70\u001b[0m, in \u001b[0;36mfilter_traceback.<locals>.error_handler\u001b[0;34m(*args, **kwargs)\u001b[0m\n\u001b[1;32m     67\u001b[0m     filtered_tb \u001b[38;5;241m=\u001b[39m _process_traceback_frames(e\u001b[38;5;241m.\u001b[39m__traceback__)\n\u001b[1;32m     68\u001b[0m     \u001b[38;5;66;03m# To get the full stack trace, call:\u001b[39;00m\n\u001b[1;32m     69\u001b[0m     \u001b[38;5;66;03m# `tf.debugging.disable_traceback_filtering()`\u001b[39;00m\n\u001b[0;32m---> 70\u001b[0m     \u001b[38;5;28;01mraise\u001b[39;00m e\u001b[38;5;241m.\u001b[39mwith_traceback(filtered_tb) \u001b[38;5;28;01mfrom\u001b[39;00m \u001b[38;5;28;01mNone\u001b[39;00m\n\u001b[1;32m     71\u001b[0m \u001b[38;5;28;01mfinally\u001b[39;00m:\n\u001b[1;32m     72\u001b[0m     \u001b[38;5;28;01mdel\u001b[39;00m filtered_tb\n",
      "File \u001b[0;32m~/miniconda3/envs/tf_env/lib/python3.10/site-packages/tensorflow/python/distribute/distribute_lib.py:4021\u001b[0m, in \u001b[0;36m_DefaultDistributionExtended.variable_created_in_scope\u001b[0;34m(self, v)\u001b[0m\n\u001b[1;32m   4020\u001b[0m \u001b[38;5;28;01mdef\u001b[39;00m \u001b[38;5;21mvariable_created_in_scope\u001b[39m(\u001b[38;5;28mself\u001b[39m, v):\n\u001b[0;32m-> 4021\u001b[0m   \u001b[38;5;28;01mreturn\u001b[39;00m \u001b[43mv\u001b[49m\u001b[38;5;241;43m.\u001b[39;49m\u001b[43m_distribute_strategy\u001b[49m \u001b[38;5;129;01mis\u001b[39;00m \u001b[38;5;28;01mNone\u001b[39;00m\n",
      "\u001b[0;31mAttributeError\u001b[0m: 'Variable' object has no attribute '_distribute_strategy'"
     ]
    }
   ],
   "source": [
    "# Tokenize and encode sequences in the dataset\n",
    "def encode_texts(texts, tokenizer, max_length=128):\n",
    "    return tokenizer(\n",
    "        texts.tolist(),\n",
    "        max_length=max_length,\n",
    "        padding='max_length',\n",
    "        truncation=True,\n",
    "        return_tensors='tf'\n",
    "    )\n",
    "\n",
    "# Encode the training, validation, and test sets\n",
    "train_encodings = encode_texts(data['cleaned_message'].iloc[y_train.index], bert_tokenizer)\n",
    "val_encodings = encode_texts(data['cleaned_message'].iloc[y_val.index], bert_tokenizer)\n",
    "test_encodings = encode_texts(data['cleaned_message'].iloc[y_test.index], bert_tokenizer)\n",
    "\n",
    "# Convert labels to tensors\n",
    "train_labels = tf.convert_to_tensor(y_train.values)\n",
    "val_labels = tf.convert_to_tensor(y_val.values)\n",
    "test_labels = tf.convert_to_tensor(y_test.values)\n",
    "\n",
    "# Create TensorFlow datasets\n",
    "train_dataset = tf.data.Dataset.from_tensor_slices((dict(train_encodings), train_labels)).shuffle(len(x_train)).batch(BATCH_SIZE)\n",
    "val_dataset = tf.data.Dataset.from_tensor_slices((dict(val_encodings), val_labels)).batch(BATCH_SIZE)\n",
    "test_dataset = tf.data.Dataset.from_tensor_slices((dict(test_encodings), test_labels)).batch(BATCH_SIZE)\n",
    "\n",
    "# Compile the BERT model\n",
    "bert_model.compile(optimizer=\"adam\", loss=\"binary_crossentropy\", metrics=metrics)\n",
    "\n",
    "# Train the BERT model\n",
    "bert_history = bert_model.fit(\n",
    "    train_dataset,\n",
    "    epochs=3,\n",
    "    validation_data=val_dataset,\n",
    "    class_weight=class_weights\n",
    ")\n",
    "\n",
    "# Save the fine-tuned BERT model\n",
    "bert_model.save('./models/bert_model')\n",
    "\n",
    "# Evaluate the BERT model\n",
    "bert_loss, bert_accuracy = bert_model.evaluate(test_dataset)\n",
    "print(f'BERT Model Accuracy: {bert_accuracy * 100:.2f}%')\n",
    "\n",
    "# Predict using the BERT model\n",
    "def predict_sms_bert(sms_text, model, tokenizer, max_length=128):\n",
    "    \"\"\"Predict if an SMS is spam or not using BERT\"\"\"\n",
    "    # Preprocess the SMS\n",
    "    sms_cleaned = clean_text(sms_text)\n",
    "\n",
    "    # Tokenize and encode the SMS\n",
    "    sms_encoding = tokenizer(\n",
    "        [sms_cleaned],\n",
    "        max_length=max_length,\n",
    "        padding='max_length',\n",
    "        truncation=True,\n",
    "        return_tensors='tf'\n",
    "    )\n",
    "\n",
    "    # Predict using the model\n",
    "    prediction = model.predict(dict(sms_encoding))\n",
    "    label = \"Spam\" if tf.argmax(prediction.logits, axis=1).numpy()[0] == 1 else \"Non-Spam\"\n",
    "\n",
    "    return label, tf.nn.softmax(prediction.logits, axis=1).numpy()[0][1] * 100\n",
    "\n",
    "# Test the BERT model with example SMS\n",
    "for key, sms in example_sms.items():\n",
    "    label, confidence = predict_sms_bert(sms, bert_model, bert_tokenizer)\n",
    "    print(f\"Example: {key}\\nSMS: {sms}\\nPredicted Label: {label}\\nProbability of spam: {confidence:.2f}%\\n\")"
   ]
  },
  {
   "cell_type": "code",
   "execution_count": null,
   "metadata": {},
   "outputs": [],
   "source": []
  }
 ],
 "metadata": {
  "kernelspec": {
   "display_name": "tf_env",
   "language": "python",
   "name": "python3"
  },
  "language_info": {
   "codemirror_mode": {
    "name": "ipython",
    "version": 3
   },
   "file_extension": ".py",
   "mimetype": "text/x-python",
   "name": "python",
   "nbconvert_exporter": "python",
   "pygments_lexer": "ipython3",
   "version": "3.10.15"
  }
 },
 "nbformat": 4,
 "nbformat_minor": 2
}
