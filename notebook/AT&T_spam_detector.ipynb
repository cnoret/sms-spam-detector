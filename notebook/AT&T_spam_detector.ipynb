{
 "cells": [
  {
   "attachments": {},
   "cell_type": "markdown",
   "metadata": {},
   "source": [
    "<img src=\"https://full-stack-assets.s3.eu-west-3.amazonaws.com/M08-deep-learning/AT%26T_logo_2016.svg\" alt=\"AT&T LOGO\" width=\"50%\" />\n",
    "\n",
    "# SMS Spam Detector\n"
   ]
  },
  {
   "attachments": {},
   "cell_type": "markdown",
   "metadata": {},
   "source": [
    "## Project 🚧\n",
    "\n",
    "One of the main pain point that AT&T users are facing is constant exposure to SPAM messages.\n",
    "\n",
    "AT&T has been able to manually flag spam messages for a time, but they are looking for an automated way of detecting spams to protect their users.\n"
   ]
  },
  {
   "attachments": {},
   "cell_type": "markdown",
   "metadata": {},
   "source": [
    "## Goals 🎯\n",
    "\n",
    "Your goal is to build a spam detector, that can automatically flag spams as they come based solely on the sms' content.\n"
   ]
  },
  {
   "cell_type": "markdown",
   "metadata": {},
   "source": [
    "## Imports\n"
   ]
  },
  {
   "cell_type": "code",
   "execution_count": 1,
   "metadata": {},
   "outputs": [
    {
     "name": "stdout",
     "output_type": "stream",
     "text": [
      "Collecting en-core-web-sm==3.8.0\n",
      "  Downloading https://github.com/explosion/spacy-models/releases/download/en_core_web_sm-3.8.0/en_core_web_sm-3.8.0-py3-none-any.whl (12.8 MB)\n",
      "\u001b[2K     \u001b[38;2;114;156;31m━━━━━━━━━━━━━━━━━━━━━━━━━━━━━━━━━━━━━━━━\u001b[0m \u001b[32m12.8/12.8 MB\u001b[0m \u001b[31m50.7 MB/s\u001b[0m eta \u001b[36m0:00:00\u001b[0mMB/s\u001b[0m eta \u001b[36m0:00:01\u001b[0m\n",
      "\u001b[?25h\u001b[38;5;2m✔ Download and installation successful\u001b[0m\n",
      "You can now load the package via spacy.load('en_core_web_sm')\n"
     ]
    }
   ],
   "source": [
    "# Download and install the English model for spaCy\n",
    "!python -m spacy download en_core_web_sm"
   ]
  },
  {
   "cell_type": "code",
   "execution_count": null,
   "metadata": {},
   "outputs": [
    {
     "name": "stderr",
     "output_type": "stream",
     "text": [
      "2025-03-14 14:32:08.850160: I external/local_xla/xla/tsl/cuda/cudart_stub.cc:32] Could not find cuda drivers on your machine, GPU will not be used.\n",
      "2025-03-14 14:32:08.854976: I external/local_xla/xla/tsl/cuda/cudart_stub.cc:32] Could not find cuda drivers on your machine, GPU will not be used.\n",
      "2025-03-14 14:32:08.865336: E external/local_xla/xla/stream_executor/cuda/cuda_fft.cc:467] Unable to register cuFFT factory: Attempting to register factory for plugin cuFFT when one has already been registered\n",
      "WARNING: All log messages before absl::InitializeLog() is called are written to STDERR\n",
      "E0000 00:00:1741959128.883048   34716 cuda_dnn.cc:8579] Unable to register cuDNN factory: Attempting to register factory for plugin cuDNN when one has already been registered\n",
      "E0000 00:00:1741959128.888172   34716 cuda_blas.cc:1407] Unable to register cuBLAS factory: Attempting to register factory for plugin cuBLAS when one has already been registered\n",
      "W0000 00:00:1741959128.901905   34716 computation_placer.cc:177] computation placer already registered. Please check linkage and avoid linking the same target more than once.\n",
      "W0000 00:00:1741959128.901923   34716 computation_placer.cc:177] computation placer already registered. Please check linkage and avoid linking the same target more than once.\n",
      "W0000 00:00:1741959128.901925   34716 computation_placer.cc:177] computation placer already registered. Please check linkage and avoid linking the same target more than once.\n",
      "W0000 00:00:1741959128.901926   34716 computation_placer.cc:177] computation placer already registered. Please check linkage and avoid linking the same target more than once.\n",
      "2025-03-14 14:32:08.906378: I tensorflow/core/platform/cpu_feature_guard.cc:210] This TensorFlow binary is optimized to use available CPU instructions in performance-critical operations.\n",
      "To enable the following instructions: AVX2 FMA, in other operations, rebuild TensorFlow with the appropriate compiler flags.\n"
     ]
    }
   ],
   "source": [
    "# General libraries\n",
    "import numpy as np\n",
    "import pandas as pd\n",
    "from PIL import Image\n",
    "from collections import Counter\n",
    "\n",
    "# Visualization\n",
    "import plotly.express as px\n",
    "import matplotlib.pyplot as plt\n",
    "\n",
    "# Text processing\n",
    "import re\n",
    "import spacy\n",
    "import en_core_web_sm\n",
    "from wordcloud import WordCloud\n",
    "from spacy.lang.en.stop_words import STOP_WORDS\n",
    "from tensorflow.keras.preprocessing.text import Tokenizer\n",
    "from tensorflow.keras.preprocessing.sequence import pad_sequences\n",
    "\n",
    "# Scikit-learn\n",
    "from sklearn.model_selection import train_test_split\n",
    "from sklearn.metrics import confusion_matrix, ConfusionMatrixDisplay, classification_report\n",
    "\n",
    "# Tensorflow\n",
    "from tensorflow.data import Dataset\n",
    "from tensorflow.keras.models import Sequential\n",
    "from tensorflow.keras.layers import Input, Embedding, Dense, Dropout, GlobalAveragePooling1D\n",
    "from tensorflow.keras.metrics import BinaryAccuracy, Precision, Recall"
   ]
  },
  {
   "cell_type": "markdown",
   "metadata": {},
   "source": [
    "## Data Preparation\n"
   ]
  },
  {
   "cell_type": "code",
   "execution_count": 3,
   "metadata": {},
   "outputs": [],
   "source": [
    "# Loading dataset\n",
    "file_path = \"data/spam.csv\"\n",
    "data = pd.read_csv(file_path, encoding=\"latin-1\")"
   ]
  },
  {
   "cell_type": "code",
   "execution_count": 4,
   "metadata": {},
   "outputs": [
    {
     "name": "stdout",
     "output_type": "stream",
     "text": [
      "Dataset Info:\n",
      "\n",
      "<class 'pandas.core.frame.DataFrame'>\n",
      "RangeIndex: 5572 entries, 0 to 5571\n",
      "Data columns (total 5 columns):\n",
      " #   Column      Non-Null Count  Dtype \n",
      "---  ------      --------------  ----- \n",
      " 0   v1          5572 non-null   object\n",
      " 1   v2          5572 non-null   object\n",
      " 2   Unnamed: 2  50 non-null     object\n",
      " 3   Unnamed: 3  12 non-null     object\n",
      " 4   Unnamed: 4  6 non-null      object\n",
      "dtypes: object(5)\n",
      "memory usage: 217.8+ KB\n",
      "None\n",
      "\n",
      "Missing values:\n",
      "\n",
      "v1               0\n",
      "v2               0\n",
      "Unnamed: 2    5522\n",
      "Unnamed: 3    5560\n",
      "Unnamed: 4    5566\n",
      "dtype: int64\n",
      "\n",
      "First 5 rows:\n",
      "\n"
     ]
    },
    {
     "data": {
      "text/html": [
       "<div>\n",
       "<style scoped>\n",
       "    .dataframe tbody tr th:only-of-type {\n",
       "        vertical-align: middle;\n",
       "    }\n",
       "\n",
       "    .dataframe tbody tr th {\n",
       "        vertical-align: top;\n",
       "    }\n",
       "\n",
       "    .dataframe thead th {\n",
       "        text-align: right;\n",
       "    }\n",
       "</style>\n",
       "<table border=\"1\" class=\"dataframe\">\n",
       "  <thead>\n",
       "    <tr style=\"text-align: right;\">\n",
       "      <th></th>\n",
       "      <th>v1</th>\n",
       "      <th>v2</th>\n",
       "      <th>Unnamed: 2</th>\n",
       "      <th>Unnamed: 3</th>\n",
       "      <th>Unnamed: 4</th>\n",
       "    </tr>\n",
       "  </thead>\n",
       "  <tbody>\n",
       "    <tr>\n",
       "      <th>0</th>\n",
       "      <td>ham</td>\n",
       "      <td>Go until jurong point, crazy.. Available only ...</td>\n",
       "      <td>NaN</td>\n",
       "      <td>NaN</td>\n",
       "      <td>NaN</td>\n",
       "    </tr>\n",
       "    <tr>\n",
       "      <th>1</th>\n",
       "      <td>ham</td>\n",
       "      <td>Ok lar... Joking wif u oni...</td>\n",
       "      <td>NaN</td>\n",
       "      <td>NaN</td>\n",
       "      <td>NaN</td>\n",
       "    </tr>\n",
       "    <tr>\n",
       "      <th>2</th>\n",
       "      <td>spam</td>\n",
       "      <td>Free entry in 2 a wkly comp to win FA Cup fina...</td>\n",
       "      <td>NaN</td>\n",
       "      <td>NaN</td>\n",
       "      <td>NaN</td>\n",
       "    </tr>\n",
       "    <tr>\n",
       "      <th>3</th>\n",
       "      <td>ham</td>\n",
       "      <td>U dun say so early hor... U c already then say...</td>\n",
       "      <td>NaN</td>\n",
       "      <td>NaN</td>\n",
       "      <td>NaN</td>\n",
       "    </tr>\n",
       "    <tr>\n",
       "      <th>4</th>\n",
       "      <td>ham</td>\n",
       "      <td>Nah I don't think he goes to usf, he lives aro...</td>\n",
       "      <td>NaN</td>\n",
       "      <td>NaN</td>\n",
       "      <td>NaN</td>\n",
       "    </tr>\n",
       "  </tbody>\n",
       "</table>\n",
       "</div>"
      ],
      "text/plain": [
       "     v1                                                 v2 Unnamed: 2  \\\n",
       "0   ham  Go until jurong point, crazy.. Available only ...        NaN   \n",
       "1   ham                      Ok lar... Joking wif u oni...        NaN   \n",
       "2  spam  Free entry in 2 a wkly comp to win FA Cup fina...        NaN   \n",
       "3   ham  U dun say so early hor... U c already then say...        NaN   \n",
       "4   ham  Nah I don't think he goes to usf, he lives aro...        NaN   \n",
       "\n",
       "  Unnamed: 3 Unnamed: 4  \n",
       "0        NaN        NaN  \n",
       "1        NaN        NaN  \n",
       "2        NaN        NaN  \n",
       "3        NaN        NaN  \n",
       "4        NaN        NaN  "
      ]
     },
     "execution_count": 4,
     "metadata": {},
     "output_type": "execute_result"
    }
   ],
   "source": [
    "# Initial dataset overview\n",
    "print(\"Dataset Info:\\n\")\n",
    "print(data.info())\n",
    "\n",
    "# Check for missing values\n",
    "print(\"\\nMissing values:\\n\")\n",
    "print(data.isnull().sum())\n",
    "\n",
    "print(\"\\nFirst 5 rows:\\n\")\n",
    "data.head()"
   ]
  },
  {
   "cell_type": "markdown",
   "metadata": {},
   "source": [
    "## Data cleaning\n"
   ]
  },
  {
   "cell_type": "code",
   "execution_count": 5,
   "metadata": {},
   "outputs": [
    {
     "data": {
      "text/html": [
       "<div>\n",
       "<style scoped>\n",
       "    .dataframe tbody tr th:only-of-type {\n",
       "        vertical-align: middle;\n",
       "    }\n",
       "\n",
       "    .dataframe tbody tr th {\n",
       "        vertical-align: top;\n",
       "    }\n",
       "\n",
       "    .dataframe thead th {\n",
       "        text-align: right;\n",
       "    }\n",
       "</style>\n",
       "<table border=\"1\" class=\"dataframe\">\n",
       "  <thead>\n",
       "    <tr style=\"text-align: right;\">\n",
       "      <th></th>\n",
       "      <th>label</th>\n",
       "      <th>message</th>\n",
       "    </tr>\n",
       "  </thead>\n",
       "  <tbody>\n",
       "    <tr>\n",
       "      <th>0</th>\n",
       "      <td>0</td>\n",
       "      <td>Go until jurong point, crazy.. Available only ...</td>\n",
       "    </tr>\n",
       "    <tr>\n",
       "      <th>1</th>\n",
       "      <td>0</td>\n",
       "      <td>Ok lar... Joking wif u oni...</td>\n",
       "    </tr>\n",
       "    <tr>\n",
       "      <th>2</th>\n",
       "      <td>1</td>\n",
       "      <td>Free entry in 2 a wkly comp to win FA Cup fina...</td>\n",
       "    </tr>\n",
       "    <tr>\n",
       "      <th>3</th>\n",
       "      <td>0</td>\n",
       "      <td>U dun say so early hor... U c already then say...</td>\n",
       "    </tr>\n",
       "    <tr>\n",
       "      <th>4</th>\n",
       "      <td>0</td>\n",
       "      <td>Nah I don't think he goes to usf, he lives aro...</td>\n",
       "    </tr>\n",
       "  </tbody>\n",
       "</table>\n",
       "</div>"
      ],
      "text/plain": [
       "   label                                            message\n",
       "0      0  Go until jurong point, crazy.. Available only ...\n",
       "1      0                   Ok lar... Joking wif u oni...   \n",
       "2      1  Free entry in 2 a wkly comp to win FA Cup fina...\n",
       "3      0  U dun say so early hor... U c already then say...\n",
       "4      0  Nah I don't think he goes to usf, he lives aro..."
      ]
     },
     "execution_count": 5,
     "metadata": {},
     "output_type": "execute_result"
    }
   ],
   "source": [
    "# Combine all relevant columns into the message column\n",
    "data['message'] = data[['v2', 'Unnamed: 2', 'Unnamed: 3', 'Unnamed: 4']].fillna('').agg(' '.join, axis=1)\n",
    "\n",
    "# Retain only relevant columns and rename them\n",
    "data = data[['v1', 'message']].rename(columns={'v1': 'label'})\n",
    "\n",
    "# Convert labels to numerical format\n",
    "data['label'] = data['label'].map({'ham': 0, 'spam': 1})\n",
    "data.head()"
   ]
  },
  {
   "cell_type": "code",
   "execution_count": 6,
   "metadata": {},
   "outputs": [
    {
     "name": "stdout",
     "output_type": "stream",
     "text": [
      "\n",
      "Missing values:\n",
      "\n",
      "label      0\n",
      "message    0\n",
      "dtype: int64\n"
     ]
    }
   ],
   "source": [
    "# Check for missing values\n",
    "print(\"\\nMissing values:\\n\")\n",
    "print(data.isnull().sum())"
   ]
  },
  {
   "cell_type": "markdown",
   "metadata": {},
   "source": [
    "## Data Exploration\n"
   ]
  },
  {
   "cell_type": "markdown",
   "metadata": {},
   "source": [
    "### Class Distribution"
   ]
  },
  {
   "cell_type": "code",
   "execution_count": 7,
   "metadata": {},
   "outputs": [
    {
     "name": "stdout",
     "output_type": "stream",
     "text": [
      "\n",
      "Class Distribution:\n",
      "\n",
      "label\n",
      "0    4825\n",
      "1     747\n",
      "Name: count, dtype: int64\n"
     ]
    }
   ],
   "source": [
    "# Class distribution\n",
    "class_distribution = data[\"label\"].value_counts()\n",
    "print(\"\\nClass Distribution:\\n\")\n",
    "print(class_distribution)"
   ]
  },
  {
   "cell_type": "code",
   "execution_count": 8,
   "metadata": {},
   "outputs": [
    {
     "data": {
      "application/vnd.plotly.v1+json": {
       "config": {
        "plotlyServerURL": "https://plot.ly"
       },
       "data": [
        {
         "hovertemplate": "label=%{marker.color}<br>Count=%{y}<extra></extra>",
         "legendgroup": "",
         "marker": {
          "color": {
           "bdata": "AAE=",
           "dtype": "i1"
          },
          "coloraxis": "coloraxis",
          "pattern": {
           "shape": ""
          }
         },
         "name": "",
         "orientation": "v",
         "showlegend": false,
         "textposition": "auto",
         "type": "bar",
         "x": {
          "bdata": "AAE=",
          "dtype": "i1"
         },
         "xaxis": "x",
         "y": {
          "bdata": "2RLrAg==",
          "dtype": "i2"
         },
         "yaxis": "y"
        }
       ],
       "layout": {
        "barmode": "relative",
        "coloraxis": {
         "colorbar": {
          "title": {
           "text": "label"
          }
         },
         "colorscale": [
          [
           0,
           "#0d0887"
          ],
          [
           0.1111111111111111,
           "#46039f"
          ],
          [
           0.2222222222222222,
           "#7201a8"
          ],
          [
           0.3333333333333333,
           "#9c179e"
          ],
          [
           0.4444444444444444,
           "#bd3786"
          ],
          [
           0.5555555555555556,
           "#d8576b"
          ],
          [
           0.6666666666666666,
           "#ed7953"
          ],
          [
           0.7777777777777778,
           "#fb9f3a"
          ],
          [
           0.8888888888888888,
           "#fdca26"
          ],
          [
           1,
           "#f0f921"
          ]
         ]
        },
        "legend": {
         "tracegroupgap": 0
        },
        "template": {
         "data": {
          "bar": [
           {
            "error_x": {
             "color": "#2a3f5f"
            },
            "error_y": {
             "color": "#2a3f5f"
            },
            "marker": {
             "line": {
              "color": "#E5ECF6",
              "width": 0.5
             },
             "pattern": {
              "fillmode": "overlay",
              "size": 10,
              "solidity": 0.2
             }
            },
            "type": "bar"
           }
          ],
          "barpolar": [
           {
            "marker": {
             "line": {
              "color": "#E5ECF6",
              "width": 0.5
             },
             "pattern": {
              "fillmode": "overlay",
              "size": 10,
              "solidity": 0.2
             }
            },
            "type": "barpolar"
           }
          ],
          "carpet": [
           {
            "aaxis": {
             "endlinecolor": "#2a3f5f",
             "gridcolor": "white",
             "linecolor": "white",
             "minorgridcolor": "white",
             "startlinecolor": "#2a3f5f"
            },
            "baxis": {
             "endlinecolor": "#2a3f5f",
             "gridcolor": "white",
             "linecolor": "white",
             "minorgridcolor": "white",
             "startlinecolor": "#2a3f5f"
            },
            "type": "carpet"
           }
          ],
          "choropleth": [
           {
            "colorbar": {
             "outlinewidth": 0,
             "ticks": ""
            },
            "type": "choropleth"
           }
          ],
          "contour": [
           {
            "colorbar": {
             "outlinewidth": 0,
             "ticks": ""
            },
            "colorscale": [
             [
              0,
              "#0d0887"
             ],
             [
              0.1111111111111111,
              "#46039f"
             ],
             [
              0.2222222222222222,
              "#7201a8"
             ],
             [
              0.3333333333333333,
              "#9c179e"
             ],
             [
              0.4444444444444444,
              "#bd3786"
             ],
             [
              0.5555555555555556,
              "#d8576b"
             ],
             [
              0.6666666666666666,
              "#ed7953"
             ],
             [
              0.7777777777777778,
              "#fb9f3a"
             ],
             [
              0.8888888888888888,
              "#fdca26"
             ],
             [
              1,
              "#f0f921"
             ]
            ],
            "type": "contour"
           }
          ],
          "contourcarpet": [
           {
            "colorbar": {
             "outlinewidth": 0,
             "ticks": ""
            },
            "type": "contourcarpet"
           }
          ],
          "heatmap": [
           {
            "colorbar": {
             "outlinewidth": 0,
             "ticks": ""
            },
            "colorscale": [
             [
              0,
              "#0d0887"
             ],
             [
              0.1111111111111111,
              "#46039f"
             ],
             [
              0.2222222222222222,
              "#7201a8"
             ],
             [
              0.3333333333333333,
              "#9c179e"
             ],
             [
              0.4444444444444444,
              "#bd3786"
             ],
             [
              0.5555555555555556,
              "#d8576b"
             ],
             [
              0.6666666666666666,
              "#ed7953"
             ],
             [
              0.7777777777777778,
              "#fb9f3a"
             ],
             [
              0.8888888888888888,
              "#fdca26"
             ],
             [
              1,
              "#f0f921"
             ]
            ],
            "type": "heatmap"
           }
          ],
          "histogram": [
           {
            "marker": {
             "pattern": {
              "fillmode": "overlay",
              "size": 10,
              "solidity": 0.2
             }
            },
            "type": "histogram"
           }
          ],
          "histogram2d": [
           {
            "colorbar": {
             "outlinewidth": 0,
             "ticks": ""
            },
            "colorscale": [
             [
              0,
              "#0d0887"
             ],
             [
              0.1111111111111111,
              "#46039f"
             ],
             [
              0.2222222222222222,
              "#7201a8"
             ],
             [
              0.3333333333333333,
              "#9c179e"
             ],
             [
              0.4444444444444444,
              "#bd3786"
             ],
             [
              0.5555555555555556,
              "#d8576b"
             ],
             [
              0.6666666666666666,
              "#ed7953"
             ],
             [
              0.7777777777777778,
              "#fb9f3a"
             ],
             [
              0.8888888888888888,
              "#fdca26"
             ],
             [
              1,
              "#f0f921"
             ]
            ],
            "type": "histogram2d"
           }
          ],
          "histogram2dcontour": [
           {
            "colorbar": {
             "outlinewidth": 0,
             "ticks": ""
            },
            "colorscale": [
             [
              0,
              "#0d0887"
             ],
             [
              0.1111111111111111,
              "#46039f"
             ],
             [
              0.2222222222222222,
              "#7201a8"
             ],
             [
              0.3333333333333333,
              "#9c179e"
             ],
             [
              0.4444444444444444,
              "#bd3786"
             ],
             [
              0.5555555555555556,
              "#d8576b"
             ],
             [
              0.6666666666666666,
              "#ed7953"
             ],
             [
              0.7777777777777778,
              "#fb9f3a"
             ],
             [
              0.8888888888888888,
              "#fdca26"
             ],
             [
              1,
              "#f0f921"
             ]
            ],
            "type": "histogram2dcontour"
           }
          ],
          "mesh3d": [
           {
            "colorbar": {
             "outlinewidth": 0,
             "ticks": ""
            },
            "type": "mesh3d"
           }
          ],
          "parcoords": [
           {
            "line": {
             "colorbar": {
              "outlinewidth": 0,
              "ticks": ""
             }
            },
            "type": "parcoords"
           }
          ],
          "pie": [
           {
            "automargin": true,
            "type": "pie"
           }
          ],
          "scatter": [
           {
            "fillpattern": {
             "fillmode": "overlay",
             "size": 10,
             "solidity": 0.2
            },
            "type": "scatter"
           }
          ],
          "scatter3d": [
           {
            "line": {
             "colorbar": {
              "outlinewidth": 0,
              "ticks": ""
             }
            },
            "marker": {
             "colorbar": {
              "outlinewidth": 0,
              "ticks": ""
             }
            },
            "type": "scatter3d"
           }
          ],
          "scattercarpet": [
           {
            "marker": {
             "colorbar": {
              "outlinewidth": 0,
              "ticks": ""
             }
            },
            "type": "scattercarpet"
           }
          ],
          "scattergeo": [
           {
            "marker": {
             "colorbar": {
              "outlinewidth": 0,
              "ticks": ""
             }
            },
            "type": "scattergeo"
           }
          ],
          "scattergl": [
           {
            "marker": {
             "colorbar": {
              "outlinewidth": 0,
              "ticks": ""
             }
            },
            "type": "scattergl"
           }
          ],
          "scattermap": [
           {
            "marker": {
             "colorbar": {
              "outlinewidth": 0,
              "ticks": ""
             }
            },
            "type": "scattermap"
           }
          ],
          "scattermapbox": [
           {
            "marker": {
             "colorbar": {
              "outlinewidth": 0,
              "ticks": ""
             }
            },
            "type": "scattermapbox"
           }
          ],
          "scatterpolar": [
           {
            "marker": {
             "colorbar": {
              "outlinewidth": 0,
              "ticks": ""
             }
            },
            "type": "scatterpolar"
           }
          ],
          "scatterpolargl": [
           {
            "marker": {
             "colorbar": {
              "outlinewidth": 0,
              "ticks": ""
             }
            },
            "type": "scatterpolargl"
           }
          ],
          "scatterternary": [
           {
            "marker": {
             "colorbar": {
              "outlinewidth": 0,
              "ticks": ""
             }
            },
            "type": "scatterternary"
           }
          ],
          "surface": [
           {
            "colorbar": {
             "outlinewidth": 0,
             "ticks": ""
            },
            "colorscale": [
             [
              0,
              "#0d0887"
             ],
             [
              0.1111111111111111,
              "#46039f"
             ],
             [
              0.2222222222222222,
              "#7201a8"
             ],
             [
              0.3333333333333333,
              "#9c179e"
             ],
             [
              0.4444444444444444,
              "#bd3786"
             ],
             [
              0.5555555555555556,
              "#d8576b"
             ],
             [
              0.6666666666666666,
              "#ed7953"
             ],
             [
              0.7777777777777778,
              "#fb9f3a"
             ],
             [
              0.8888888888888888,
              "#fdca26"
             ],
             [
              1,
              "#f0f921"
             ]
            ],
            "type": "surface"
           }
          ],
          "table": [
           {
            "cells": {
             "fill": {
              "color": "#EBF0F8"
             },
             "line": {
              "color": "white"
             }
            },
            "header": {
             "fill": {
              "color": "#C8D4E3"
             },
             "line": {
              "color": "white"
             }
            },
            "type": "table"
           }
          ]
         },
         "layout": {
          "annotationdefaults": {
           "arrowcolor": "#2a3f5f",
           "arrowhead": 0,
           "arrowwidth": 1
          },
          "autotypenumbers": "strict",
          "coloraxis": {
           "colorbar": {
            "outlinewidth": 0,
            "ticks": ""
           }
          },
          "colorscale": {
           "diverging": [
            [
             0,
             "#8e0152"
            ],
            [
             0.1,
             "#c51b7d"
            ],
            [
             0.2,
             "#de77ae"
            ],
            [
             0.3,
             "#f1b6da"
            ],
            [
             0.4,
             "#fde0ef"
            ],
            [
             0.5,
             "#f7f7f7"
            ],
            [
             0.6,
             "#e6f5d0"
            ],
            [
             0.7,
             "#b8e186"
            ],
            [
             0.8,
             "#7fbc41"
            ],
            [
             0.9,
             "#4d9221"
            ],
            [
             1,
             "#276419"
            ]
           ],
           "sequential": [
            [
             0,
             "#0d0887"
            ],
            [
             0.1111111111111111,
             "#46039f"
            ],
            [
             0.2222222222222222,
             "#7201a8"
            ],
            [
             0.3333333333333333,
             "#9c179e"
            ],
            [
             0.4444444444444444,
             "#bd3786"
            ],
            [
             0.5555555555555556,
             "#d8576b"
            ],
            [
             0.6666666666666666,
             "#ed7953"
            ],
            [
             0.7777777777777778,
             "#fb9f3a"
            ],
            [
             0.8888888888888888,
             "#fdca26"
            ],
            [
             1,
             "#f0f921"
            ]
           ],
           "sequentialminus": [
            [
             0,
             "#0d0887"
            ],
            [
             0.1111111111111111,
             "#46039f"
            ],
            [
             0.2222222222222222,
             "#7201a8"
            ],
            [
             0.3333333333333333,
             "#9c179e"
            ],
            [
             0.4444444444444444,
             "#bd3786"
            ],
            [
             0.5555555555555556,
             "#d8576b"
            ],
            [
             0.6666666666666666,
             "#ed7953"
            ],
            [
             0.7777777777777778,
             "#fb9f3a"
            ],
            [
             0.8888888888888888,
             "#fdca26"
            ],
            [
             1,
             "#f0f921"
            ]
           ]
          },
          "colorway": [
           "#636efa",
           "#EF553B",
           "#00cc96",
           "#ab63fa",
           "#FFA15A",
           "#19d3f3",
           "#FF6692",
           "#B6E880",
           "#FF97FF",
           "#FECB52"
          ],
          "font": {
           "color": "#2a3f5f"
          },
          "geo": {
           "bgcolor": "white",
           "lakecolor": "white",
           "landcolor": "#E5ECF6",
           "showlakes": true,
           "showland": true,
           "subunitcolor": "white"
          },
          "hoverlabel": {
           "align": "left"
          },
          "hovermode": "closest",
          "mapbox": {
           "style": "light"
          },
          "paper_bgcolor": "white",
          "plot_bgcolor": "#E5ECF6",
          "polar": {
           "angularaxis": {
            "gridcolor": "white",
            "linecolor": "white",
            "ticks": ""
           },
           "bgcolor": "#E5ECF6",
           "radialaxis": {
            "gridcolor": "white",
            "linecolor": "white",
            "ticks": ""
           }
          },
          "scene": {
           "xaxis": {
            "backgroundcolor": "#E5ECF6",
            "gridcolor": "white",
            "gridwidth": 2,
            "linecolor": "white",
            "showbackground": true,
            "ticks": "",
            "zerolinecolor": "white"
           },
           "yaxis": {
            "backgroundcolor": "#E5ECF6",
            "gridcolor": "white",
            "gridwidth": 2,
            "linecolor": "white",
            "showbackground": true,
            "ticks": "",
            "zerolinecolor": "white"
           },
           "zaxis": {
            "backgroundcolor": "#E5ECF6",
            "gridcolor": "white",
            "gridwidth": 2,
            "linecolor": "white",
            "showbackground": true,
            "ticks": "",
            "zerolinecolor": "white"
           }
          },
          "shapedefaults": {
           "line": {
            "color": "#2a3f5f"
           }
          },
          "ternary": {
           "aaxis": {
            "gridcolor": "white",
            "linecolor": "white",
            "ticks": ""
           },
           "baxis": {
            "gridcolor": "white",
            "linecolor": "white",
            "ticks": ""
           },
           "bgcolor": "#E5ECF6",
           "caxis": {
            "gridcolor": "white",
            "linecolor": "white",
            "ticks": ""
           }
          },
          "title": {
           "x": 0.05
          },
          "xaxis": {
           "automargin": true,
           "gridcolor": "white",
           "linecolor": "white",
           "ticks": "",
           "title": {
            "standoff": 15
           },
           "zerolinecolor": "white",
           "zerolinewidth": 2
          },
          "yaxis": {
           "automargin": true,
           "gridcolor": "white",
           "linecolor": "white",
           "ticks": "",
           "title": {
            "standoff": 15
           },
           "zerolinecolor": "white",
           "zerolinewidth": 2
          }
         }
        },
        "title": {
         "text": "Class Distribution"
        },
        "xaxis": {
         "anchor": "y",
         "domain": [
          0,
          1
         ],
         "title": {
          "text": "label"
         }
        },
        "yaxis": {
         "anchor": "x",
         "domain": [
          0,
          1
         ],
         "title": {
          "text": "Count"
         }
        }
       }
      }
     },
     "metadata": {},
     "output_type": "display_data"
    }
   ],
   "source": [
    "# Plot the class distribution\n",
    "fig = px.bar(\n",
    "    class_distribution,\n",
    "    x=class_distribution.index,\n",
    "    y=class_distribution.values,\n",
    "    title=\"Class Distribution\",\n",
    "    labels={\"x\": \"Label\", \"y\": \"Count\"},\n",
    "    color=class_distribution.index,\n",
    ")\n",
    "fig.show()"
   ]
  },
  {
   "cell_type": "markdown",
   "metadata": {},
   "source": [
    "### Message Length Distribution"
   ]
  },
  {
   "cell_type": "code",
   "execution_count": 9,
   "metadata": {},
   "outputs": [
    {
     "data": {
      "text/html": [
       "<div>\n",
       "<style scoped>\n",
       "    .dataframe tbody tr th:only-of-type {\n",
       "        vertical-align: middle;\n",
       "    }\n",
       "\n",
       "    .dataframe tbody tr th {\n",
       "        vertical-align: top;\n",
       "    }\n",
       "\n",
       "    .dataframe thead th {\n",
       "        text-align: right;\n",
       "    }\n",
       "</style>\n",
       "<table border=\"1\" class=\"dataframe\">\n",
       "  <thead>\n",
       "    <tr style=\"text-align: right;\">\n",
       "      <th></th>\n",
       "      <th>label</th>\n",
       "      <th>message</th>\n",
       "      <th>message_length</th>\n",
       "    </tr>\n",
       "  </thead>\n",
       "  <tbody>\n",
       "    <tr>\n",
       "      <th>0</th>\n",
       "      <td>0</td>\n",
       "      <td>Go until jurong point, crazy.. Available only ...</td>\n",
       "      <td>114</td>\n",
       "    </tr>\n",
       "    <tr>\n",
       "      <th>1</th>\n",
       "      <td>0</td>\n",
       "      <td>Ok lar... Joking wif u oni...</td>\n",
       "      <td>32</td>\n",
       "    </tr>\n",
       "    <tr>\n",
       "      <th>2</th>\n",
       "      <td>1</td>\n",
       "      <td>Free entry in 2 a wkly comp to win FA Cup fina...</td>\n",
       "      <td>158</td>\n",
       "    </tr>\n",
       "    <tr>\n",
       "      <th>3</th>\n",
       "      <td>0</td>\n",
       "      <td>U dun say so early hor... U c already then say...</td>\n",
       "      <td>52</td>\n",
       "    </tr>\n",
       "    <tr>\n",
       "      <th>4</th>\n",
       "      <td>0</td>\n",
       "      <td>Nah I don't think he goes to usf, he lives aro...</td>\n",
       "      <td>64</td>\n",
       "    </tr>\n",
       "  </tbody>\n",
       "</table>\n",
       "</div>"
      ],
      "text/plain": [
       "   label                                            message  message_length\n",
       "0      0  Go until jurong point, crazy.. Available only ...             114\n",
       "1      0                   Ok lar... Joking wif u oni...                 32\n",
       "2      1  Free entry in 2 a wkly comp to win FA Cup fina...             158\n",
       "3      0  U dun say so early hor... U c already then say...              52\n",
       "4      0  Nah I don't think he goes to usf, he lives aro...              64"
      ]
     },
     "execution_count": 9,
     "metadata": {},
     "output_type": "execute_result"
    }
   ],
   "source": [
    "# Adding message length as a feature\n",
    "data[\"message_length\"] = data[\"message\"].apply(len)\n",
    "data.head()"
   ]
  },
  {
   "cell_type": "code",
   "execution_count": 10,
   "metadata": {},
   "outputs": [
    {
     "name": "stdout",
     "output_type": "stream",
     "text": [
      "\n",
      "Average Message Length:\n",
      "\n",
      "Spam: 142.15 characters\n",
      "Ham: 74.63 characters\n"
     ]
    }
   ],
   "source": [
    "# Analyze message length distribution\n",
    "spam_messages = data[data[\"label\"] == 1]\n",
    "ham_messages = data[data[\"label\"] == 0]\n",
    "\n",
    "# Calculate average message lengths\n",
    "avg_length_spam = spam_messages[\"message_length\"].mean().round(2)\n",
    "avg_length_ham = ham_messages[\"message_length\"].mean().round(2)\n",
    "\n",
    "print(\"\\nAverage Message Length:\\n\")\n",
    "print(f\"Spam: {avg_length_spam} characters\")\n",
    "print(f\"Ham: {avg_length_ham} characters\")"
   ]
  },
  {
   "cell_type": "code",
   "execution_count": 11,
   "metadata": {},
   "outputs": [
    {
     "data": {
      "application/vnd.plotly.v1+json": {
       "config": {
        "plotlyServerURL": "https://plot.ly"
       },
       "data": [
        {
         "bingroup": "x",
         "histnorm": "density",
         "hovertemplate": "label=0<br>Message Length=%{x}<br>density=%{y}<extra></extra>",
         "legendgroup": "0",
         "marker": {
          "color": "#636efa",
          "opacity": 0.5,
          "pattern": {
           "shape": ""
          }
         },
         "name": "0",
         "nbinsx": 50,
         "orientation": "v",
         "showlegend": true,
         "type": "histogram",
         "x": {
          "bdata": "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",
          "dtype": "i2"
         },
         "xaxis": "x",
         "yaxis": "y"
        },
        {
         "bingroup": "x",
         "histnorm": "density",
         "hovertemplate": "label=1<br>Message Length=%{x}<br>density=%{y}<extra></extra>",
         "legendgroup": "1",
         "marker": {
          "color": "#EF553B",
          "opacity": 0.5,
          "pattern": {
           "shape": ""
          }
         },
         "name": "1",
         "nbinsx": 50,
         "orientation": "v",
         "showlegend": true,
         "type": "histogram",
         "x": {
          "bdata": "ngCXAKEAnQCLAJ8AmACfAKIArwB7AKQAnACkAFMAjgChAKIAnACTAKAAnwCBAKUAngCiAH8AlQCbAJ4AoACYAEsAkgCMAKAAlACZAJ0AfACiAIgAngCiAJUAjQCJAKAAgwCiAHIAmQCXAKgAhACgAJgAngChADQAbgCiAKUAjACgAKcAsgCkAKIAlQCjAK0AlwCVAFwAlACjAHIAlQBjAKMASABnAJgAggCRAJcAWQCKAI8AhQCZAJIAiwBkAD4AYQCdAKEAcgCeAKMAKACmAJYAaACYAIcAaQBEAGMApACaAGYAhAChAKMAnQClAJIAmQCIAJ8ApACWAJsAmACeAKUAnACjAJMApACYAIkAnQChAIwAhwCSAIIAoQClAJ4AjwCiAJgAhwCMACwAoACQAJgAmQChAJ8AaABrAIoAnACSAIkAoABdAJwAlgCRAKIASQCfAJwAnwBsAHsAoQB2AI8AngCiAJ4ANACWAJcANQCSAJUAogB+AFQAewCWAEUApgCeAI8AgQCeAGgAmgCdAKIAkgCmAJIAmwBKAJAAkQCiAJ0AVACcAKIApACFAJ0AfQB8AKAAogCZAJ8AlACYAIsAlQCTAJwAhwBKAJYApACfAKMAfgCXAKMAoQBMALEAdQCBAJcAlACNAOMAogCeAJIApQAkAJ0ApwCdAIcAnwCaAKQAoQCdAHgAVwCeAIcAngCcAKYAnwCSAKEAlACRAKMApQCfAE0AiABrAJwAhACSAHsAoQCeAJsAogClAJgApAAhAJ8ApACTAKIAngCiAKQAowCtAIwAnQCkAJYAoQCbAKIApACfAKAAuACjAKAAngCjAH0AJACiADMAugCjAJYApQCaAKEAdQCqAKMAewBVAJgApQChAKEAcACkAJsAoQCbAKEAmwB9AKQAdwCrAJkAoQBnAGgAnwBJAKMAnACJAIYAnACMAJ8AsABwAJ0AlgCFAKgApgCFAIsAoQCcAKEAHACfAKMAeQCKAJ0AqQChAJ4AkAB/AH8AhgAkAKEAowCMAJsAoQCjAHIAoACaADcAmwCPAJ0ApgCOAIwAlwAzAGcAewCWAIoAogBuAJYAfQCJAHIApwBxAJsAnACQAJYAfACPAHMAkgCOAJ8AkwCUAKMAmwBoAHUAogCcAJcAogCgAIsAkQCgALAANQCOAGwAoACJACsAlQCPAFEAmQCjAFQAggCcAKAAiwCgAJwAQwCjAKEApABtAI4AnACcAGgAoACXAI8ApACfAJkAoACbAKUAoABHAIgAiQCUAJgAkgCeAKAAdgCpAKAAmwCfAJ8AmQC2AKIAdQDIAJ8AEACWAGgAcAChAIwAogBZAJ4AnwChAKIAewClAKUAmwCOAHAAbgBjAJoAmgCcAHwAgwCUAFkAoQBpAHUAjQCKAJUAowAVAEIAjABiAJIAogCkAJgATACiAKIAmAAyAJ8AnwCiAJgAkABtAHUAnQCXAIoAqgCHAH0AkACgAJsAlQCjAKQAkwCdAHMAoACTAJgAoQCeAJcAoABLAKAAowCKAGwATQCgAJsAiwCmAKEATQCeAFQAjQClAIkApACUAKYAgQCKAIgAlQCTAJ8ASwCHAFYAjACkAJoAMgBEAIAAoQBMADYApACmAKMAkgCfAJcAdgCiAJsAggChAKIAnwCTAG8AjgCpAJIAngChAIsAmwCjAJ4AhwCcAJIAnQBtAKMAngCTAI4AXACWAIsAoQCcAEgAmwCcAIoAiwCiAGIAjACWAJkAhwCVAIkAuACeAJwAogB/AHsAjACPAJwAowCMAI0AtACsAJ8AnQCVAIgAgQCYAIoAcACiAJQAhwCjAIwAhwChAJgAnAAyAKIAnwAvAKcApQCfAKMAegCRAJ8AmQCaAKcAowCLAJUAogCeAIIAlACTAJ8AngCgAKAAnwBzAG0AoACfAI4AXQCjAC0AbQCmAEkAcwCgAJYAWACfAJIAmACUAKQAoQCXAJwAiQBdAKMAowCWAKQA",
          "dtype": "i2"
         },
         "xaxis": "x",
         "yaxis": "y"
        }
       ],
       "layout": {
        "barmode": "overlay",
        "legend": {
         "title": {
          "text": "label"
         },
         "tracegroupgap": 0
        },
        "template": {
         "data": {
          "bar": [
           {
            "error_x": {
             "color": "#2a3f5f"
            },
            "error_y": {
             "color": "#2a3f5f"
            },
            "marker": {
             "line": {
              "color": "#E5ECF6",
              "width": 0.5
             },
             "pattern": {
              "fillmode": "overlay",
              "size": 10,
              "solidity": 0.2
             }
            },
            "type": "bar"
           }
          ],
          "barpolar": [
           {
            "marker": {
             "line": {
              "color": "#E5ECF6",
              "width": 0.5
             },
             "pattern": {
              "fillmode": "overlay",
              "size": 10,
              "solidity": 0.2
             }
            },
            "type": "barpolar"
           }
          ],
          "carpet": [
           {
            "aaxis": {
             "endlinecolor": "#2a3f5f",
             "gridcolor": "white",
             "linecolor": "white",
             "minorgridcolor": "white",
             "startlinecolor": "#2a3f5f"
            },
            "baxis": {
             "endlinecolor": "#2a3f5f",
             "gridcolor": "white",
             "linecolor": "white",
             "minorgridcolor": "white",
             "startlinecolor": "#2a3f5f"
            },
            "type": "carpet"
           }
          ],
          "choropleth": [
           {
            "colorbar": {
             "outlinewidth": 0,
             "ticks": ""
            },
            "type": "choropleth"
           }
          ],
          "contour": [
           {
            "colorbar": {
             "outlinewidth": 0,
             "ticks": ""
            },
            "colorscale": [
             [
              0,
              "#0d0887"
             ],
             [
              0.1111111111111111,
              "#46039f"
             ],
             [
              0.2222222222222222,
              "#7201a8"
             ],
             [
              0.3333333333333333,
              "#9c179e"
             ],
             [
              0.4444444444444444,
              "#bd3786"
             ],
             [
              0.5555555555555556,
              "#d8576b"
             ],
             [
              0.6666666666666666,
              "#ed7953"
             ],
             [
              0.7777777777777778,
              "#fb9f3a"
             ],
             [
              0.8888888888888888,
              "#fdca26"
             ],
             [
              1,
              "#f0f921"
             ]
            ],
            "type": "contour"
           }
          ],
          "contourcarpet": [
           {
            "colorbar": {
             "outlinewidth": 0,
             "ticks": ""
            },
            "type": "contourcarpet"
           }
          ],
          "heatmap": [
           {
            "colorbar": {
             "outlinewidth": 0,
             "ticks": ""
            },
            "colorscale": [
             [
              0,
              "#0d0887"
             ],
             [
              0.1111111111111111,
              "#46039f"
             ],
             [
              0.2222222222222222,
              "#7201a8"
             ],
             [
              0.3333333333333333,
              "#9c179e"
             ],
             [
              0.4444444444444444,
              "#bd3786"
             ],
             [
              0.5555555555555556,
              "#d8576b"
             ],
             [
              0.6666666666666666,
              "#ed7953"
             ],
             [
              0.7777777777777778,
              "#fb9f3a"
             ],
             [
              0.8888888888888888,
              "#fdca26"
             ],
             [
              1,
              "#f0f921"
             ]
            ],
            "type": "heatmap"
           }
          ],
          "histogram": [
           {
            "marker": {
             "pattern": {
              "fillmode": "overlay",
              "size": 10,
              "solidity": 0.2
             }
            },
            "type": "histogram"
           }
          ],
          "histogram2d": [
           {
            "colorbar": {
             "outlinewidth": 0,
             "ticks": ""
            },
            "colorscale": [
             [
              0,
              "#0d0887"
             ],
             [
              0.1111111111111111,
              "#46039f"
             ],
             [
              0.2222222222222222,
              "#7201a8"
             ],
             [
              0.3333333333333333,
              "#9c179e"
             ],
             [
              0.4444444444444444,
              "#bd3786"
             ],
             [
              0.5555555555555556,
              "#d8576b"
             ],
             [
              0.6666666666666666,
              "#ed7953"
             ],
             [
              0.7777777777777778,
              "#fb9f3a"
             ],
             [
              0.8888888888888888,
              "#fdca26"
             ],
             [
              1,
              "#f0f921"
             ]
            ],
            "type": "histogram2d"
           }
          ],
          "histogram2dcontour": [
           {
            "colorbar": {
             "outlinewidth": 0,
             "ticks": ""
            },
            "colorscale": [
             [
              0,
              "#0d0887"
             ],
             [
              0.1111111111111111,
              "#46039f"
             ],
             [
              0.2222222222222222,
              "#7201a8"
             ],
             [
              0.3333333333333333,
              "#9c179e"
             ],
             [
              0.4444444444444444,
              "#bd3786"
             ],
             [
              0.5555555555555556,
              "#d8576b"
             ],
             [
              0.6666666666666666,
              "#ed7953"
             ],
             [
              0.7777777777777778,
              "#fb9f3a"
             ],
             [
              0.8888888888888888,
              "#fdca26"
             ],
             [
              1,
              "#f0f921"
             ]
            ],
            "type": "histogram2dcontour"
           }
          ],
          "mesh3d": [
           {
            "colorbar": {
             "outlinewidth": 0,
             "ticks": ""
            },
            "type": "mesh3d"
           }
          ],
          "parcoords": [
           {
            "line": {
             "colorbar": {
              "outlinewidth": 0,
              "ticks": ""
             }
            },
            "type": "parcoords"
           }
          ],
          "pie": [
           {
            "automargin": true,
            "type": "pie"
           }
          ],
          "scatter": [
           {
            "fillpattern": {
             "fillmode": "overlay",
             "size": 10,
             "solidity": 0.2
            },
            "type": "scatter"
           }
          ],
          "scatter3d": [
           {
            "line": {
             "colorbar": {
              "outlinewidth": 0,
              "ticks": ""
             }
            },
            "marker": {
             "colorbar": {
              "outlinewidth": 0,
              "ticks": ""
             }
            },
            "type": "scatter3d"
           }
          ],
          "scattercarpet": [
           {
            "marker": {
             "colorbar": {
              "outlinewidth": 0,
              "ticks": ""
             }
            },
            "type": "scattercarpet"
           }
          ],
          "scattergeo": [
           {
            "marker": {
             "colorbar": {
              "outlinewidth": 0,
              "ticks": ""
             }
            },
            "type": "scattergeo"
           }
          ],
          "scattergl": [
           {
            "marker": {
             "colorbar": {
              "outlinewidth": 0,
              "ticks": ""
             }
            },
            "type": "scattergl"
           }
          ],
          "scattermap": [
           {
            "marker": {
             "colorbar": {
              "outlinewidth": 0,
              "ticks": ""
             }
            },
            "type": "scattermap"
           }
          ],
          "scattermapbox": [
           {
            "marker": {
             "colorbar": {
              "outlinewidth": 0,
              "ticks": ""
             }
            },
            "type": "scattermapbox"
           }
          ],
          "scatterpolar": [
           {
            "marker": {
             "colorbar": {
              "outlinewidth": 0,
              "ticks": ""
             }
            },
            "type": "scatterpolar"
           }
          ],
          "scatterpolargl": [
           {
            "marker": {
             "colorbar": {
              "outlinewidth": 0,
              "ticks": ""
             }
            },
            "type": "scatterpolargl"
           }
          ],
          "scatterternary": [
           {
            "marker": {
             "colorbar": {
              "outlinewidth": 0,
              "ticks": ""
             }
            },
            "type": "scatterternary"
           }
          ],
          "surface": [
           {
            "colorbar": {
             "outlinewidth": 0,
             "ticks": ""
            },
            "colorscale": [
             [
              0,
              "#0d0887"
             ],
             [
              0.1111111111111111,
              "#46039f"
             ],
             [
              0.2222222222222222,
              "#7201a8"
             ],
             [
              0.3333333333333333,
              "#9c179e"
             ],
             [
              0.4444444444444444,
              "#bd3786"
             ],
             [
              0.5555555555555556,
              "#d8576b"
             ],
             [
              0.6666666666666666,
              "#ed7953"
             ],
             [
              0.7777777777777778,
              "#fb9f3a"
             ],
             [
              0.8888888888888888,
              "#fdca26"
             ],
             [
              1,
              "#f0f921"
             ]
            ],
            "type": "surface"
           }
          ],
          "table": [
           {
            "cells": {
             "fill": {
              "color": "#EBF0F8"
             },
             "line": {
              "color": "white"
             }
            },
            "header": {
             "fill": {
              "color": "#C8D4E3"
             },
             "line": {
              "color": "white"
             }
            },
            "type": "table"
           }
          ]
         },
         "layout": {
          "annotationdefaults": {
           "arrowcolor": "#2a3f5f",
           "arrowhead": 0,
           "arrowwidth": 1
          },
          "autotypenumbers": "strict",
          "coloraxis": {
           "colorbar": {
            "outlinewidth": 0,
            "ticks": ""
           }
          },
          "colorscale": {
           "diverging": [
            [
             0,
             "#8e0152"
            ],
            [
             0.1,
             "#c51b7d"
            ],
            [
             0.2,
             "#de77ae"
            ],
            [
             0.3,
             "#f1b6da"
            ],
            [
             0.4,
             "#fde0ef"
            ],
            [
             0.5,
             "#f7f7f7"
            ],
            [
             0.6,
             "#e6f5d0"
            ],
            [
             0.7,
             "#b8e186"
            ],
            [
             0.8,
             "#7fbc41"
            ],
            [
             0.9,
             "#4d9221"
            ],
            [
             1,
             "#276419"
            ]
           ],
           "sequential": [
            [
             0,
             "#0d0887"
            ],
            [
             0.1111111111111111,
             "#46039f"
            ],
            [
             0.2222222222222222,
             "#7201a8"
            ],
            [
             0.3333333333333333,
             "#9c179e"
            ],
            [
             0.4444444444444444,
             "#bd3786"
            ],
            [
             0.5555555555555556,
             "#d8576b"
            ],
            [
             0.6666666666666666,
             "#ed7953"
            ],
            [
             0.7777777777777778,
             "#fb9f3a"
            ],
            [
             0.8888888888888888,
             "#fdca26"
            ],
            [
             1,
             "#f0f921"
            ]
           ],
           "sequentialminus": [
            [
             0,
             "#0d0887"
            ],
            [
             0.1111111111111111,
             "#46039f"
            ],
            [
             0.2222222222222222,
             "#7201a8"
            ],
            [
             0.3333333333333333,
             "#9c179e"
            ],
            [
             0.4444444444444444,
             "#bd3786"
            ],
            [
             0.5555555555555556,
             "#d8576b"
            ],
            [
             0.6666666666666666,
             "#ed7953"
            ],
            [
             0.7777777777777778,
             "#fb9f3a"
            ],
            [
             0.8888888888888888,
             "#fdca26"
            ],
            [
             1,
             "#f0f921"
            ]
           ]
          },
          "colorway": [
           "#636efa",
           "#EF553B",
           "#00cc96",
           "#ab63fa",
           "#FFA15A",
           "#19d3f3",
           "#FF6692",
           "#B6E880",
           "#FF97FF",
           "#FECB52"
          ],
          "font": {
           "color": "#2a3f5f"
          },
          "geo": {
           "bgcolor": "white",
           "lakecolor": "white",
           "landcolor": "#E5ECF6",
           "showlakes": true,
           "showland": true,
           "subunitcolor": "white"
          },
          "hoverlabel": {
           "align": "left"
          },
          "hovermode": "closest",
          "mapbox": {
           "style": "light"
          },
          "paper_bgcolor": "white",
          "plot_bgcolor": "#E5ECF6",
          "polar": {
           "angularaxis": {
            "gridcolor": "white",
            "linecolor": "white",
            "ticks": ""
           },
           "bgcolor": "#E5ECF6",
           "radialaxis": {
            "gridcolor": "white",
            "linecolor": "white",
            "ticks": ""
           }
          },
          "scene": {
           "xaxis": {
            "backgroundcolor": "#E5ECF6",
            "gridcolor": "white",
            "gridwidth": 2,
            "linecolor": "white",
            "showbackground": true,
            "ticks": "",
            "zerolinecolor": "white"
           },
           "yaxis": {
            "backgroundcolor": "#E5ECF6",
            "gridcolor": "white",
            "gridwidth": 2,
            "linecolor": "white",
            "showbackground": true,
            "ticks": "",
            "zerolinecolor": "white"
           },
           "zaxis": {
            "backgroundcolor": "#E5ECF6",
            "gridcolor": "white",
            "gridwidth": 2,
            "linecolor": "white",
            "showbackground": true,
            "ticks": "",
            "zerolinecolor": "white"
           }
          },
          "shapedefaults": {
           "line": {
            "color": "#2a3f5f"
           }
          },
          "ternary": {
           "aaxis": {
            "gridcolor": "white",
            "linecolor": "white",
            "ticks": ""
           },
           "baxis": {
            "gridcolor": "white",
            "linecolor": "white",
            "ticks": ""
           },
           "bgcolor": "#E5ECF6",
           "caxis": {
            "gridcolor": "white",
            "linecolor": "white",
            "ticks": ""
           }
          },
          "title": {
           "x": 0.05
          },
          "xaxis": {
           "automargin": true,
           "gridcolor": "white",
           "linecolor": "white",
           "ticks": "",
           "title": {
            "standoff": 15
           },
           "zerolinecolor": "white",
           "zerolinewidth": 2
          },
          "yaxis": {
           "automargin": true,
           "gridcolor": "white",
           "linecolor": "white",
           "ticks": "",
           "title": {
            "standoff": 15
           },
           "zerolinecolor": "white",
           "zerolinewidth": 2
          }
         }
        },
        "title": {
         "text": "Message Length Distribution"
        },
        "xaxis": {
         "anchor": "y",
         "domain": [
          0,
          1
         ],
         "title": {
          "text": "Message Length"
         }
        },
        "yaxis": {
         "anchor": "x",
         "domain": [
          0,
          1
         ],
         "title": {
          "text": "density"
         }
        }
       }
      }
     },
     "metadata": {},
     "output_type": "display_data"
    }
   ],
   "source": [
    "# Plot message length distribution\n",
    "fig = px.histogram(\n",
    "    data,\n",
    "    x=\"message_length\",\n",
    "    color=\"label\",\n",
    "    nbins=50,\n",
    "    title=\"Message Length Distribution\",\n",
    "    labels={\"message_length\": \"Message Length\"},\n",
    "    barmode=\"overlay\",\n",
    "    histnorm=\"density\",\n",
    ")\n",
    "fig.show()"
   ]
  },
  {
   "cell_type": "markdown",
   "metadata": {},
   "source": [
    "## Text cleaning"
   ]
  },
  {
   "cell_type": "code",
   "execution_count": 12,
   "metadata": {},
   "outputs": [],
   "source": [
    "# Loading english core\n",
    "nlp = en_core_web_sm.load()\n",
    "\n",
    "def clean_text(text):\n",
    "    text = text.lower()\n",
    "    text = re.sub(r'[^a-zA-Z\\s]', '', text)\n",
    "    text = re.sub(r'ltgt', '', text)\n",
    "    text = text.replace(\"  \", \" \").lower().strip()\n",
    "    doc = nlp(text)\n",
    "    text = \" \".join([token.lemma_ for token in doc if token.lemma_ not in STOP_WORDS])\n",
    "    return text\n",
    "\n",
    "# Apply text cleaning and remove stopwords with spaCy\n",
    "data['cleaned_message'] = data['message'].apply(clean_text)"
   ]
  },
  {
   "cell_type": "code",
   "execution_count": 13,
   "metadata": {},
   "outputs": [
    {
     "data": {
      "text/html": [
       "<div>\n",
       "<style scoped>\n",
       "    .dataframe tbody tr th:only-of-type {\n",
       "        vertical-align: middle;\n",
       "    }\n",
       "\n",
       "    .dataframe tbody tr th {\n",
       "        vertical-align: top;\n",
       "    }\n",
       "\n",
       "    .dataframe thead th {\n",
       "        text-align: right;\n",
       "    }\n",
       "</style>\n",
       "<table border=\"1\" class=\"dataframe\">\n",
       "  <thead>\n",
       "    <tr style=\"text-align: right;\">\n",
       "      <th></th>\n",
       "      <th>label</th>\n",
       "      <th>message</th>\n",
       "      <th>message_length</th>\n",
       "      <th>cleaned_message</th>\n",
       "    </tr>\n",
       "  </thead>\n",
       "  <tbody>\n",
       "    <tr>\n",
       "      <th>0</th>\n",
       "      <td>0</td>\n",
       "      <td>Go until jurong point, crazy.. Available only ...</td>\n",
       "      <td>114</td>\n",
       "      <td>jurong point crazy available bugis n great wor...</td>\n",
       "    </tr>\n",
       "    <tr>\n",
       "      <th>1</th>\n",
       "      <td>0</td>\n",
       "      <td>Ok lar... Joking wif u oni...</td>\n",
       "      <td>32</td>\n",
       "      <td>ok lar joking wif u oni</td>\n",
       "    </tr>\n",
       "    <tr>\n",
       "      <th>2</th>\n",
       "      <td>1</td>\n",
       "      <td>Free entry in 2 a wkly comp to win FA Cup fina...</td>\n",
       "      <td>158</td>\n",
       "      <td>free entry wkly comp win fa cup final tkts st ...</td>\n",
       "    </tr>\n",
       "    <tr>\n",
       "      <th>3</th>\n",
       "      <td>0</td>\n",
       "      <td>U dun say so early hor... U c already then say...</td>\n",
       "      <td>52</td>\n",
       "      <td>u dun early hor u c</td>\n",
       "    </tr>\n",
       "    <tr>\n",
       "      <th>4</th>\n",
       "      <td>0</td>\n",
       "      <td>Nah I don't think he goes to usf, he lives aro...</td>\n",
       "      <td>64</td>\n",
       "      <td>nah I think usf live</td>\n",
       "    </tr>\n",
       "  </tbody>\n",
       "</table>\n",
       "</div>"
      ],
      "text/plain": [
       "   label                                            message  message_length  \\\n",
       "0      0  Go until jurong point, crazy.. Available only ...             114   \n",
       "1      0                   Ok lar... Joking wif u oni...                 32   \n",
       "2      1  Free entry in 2 a wkly comp to win FA Cup fina...             158   \n",
       "3      0  U dun say so early hor... U c already then say...              52   \n",
       "4      0  Nah I don't think he goes to usf, he lives aro...              64   \n",
       "\n",
       "                                     cleaned_message  \n",
       "0  jurong point crazy available bugis n great wor...  \n",
       "1                            ok lar joking wif u oni  \n",
       "2  free entry wkly comp win fa cup final tkts st ...  \n",
       "3                                u dun early hor u c  \n",
       "4                               nah I think usf live  "
      ]
     },
     "execution_count": 13,
     "metadata": {},
     "output_type": "execute_result"
    }
   ],
   "source": [
    "data.head()"
   ]
  },
  {
   "cell_type": "code",
   "execution_count": 14,
   "metadata": {},
   "outputs": [
    {
     "data": {
      "text/plain": [
       "cleaned_message\n",
       "True    5572\n",
       "Name: count, dtype: int64"
      ]
     },
     "execution_count": 14,
     "metadata": {},
     "output_type": "execute_result"
    }
   ],
   "source": [
    "# Checking for invalid text\n",
    "mask = data.cleaned_message.apply(lambda x: type(x) == str)\n",
    "mask.value_counts()"
   ]
  },
  {
   "cell_type": "markdown",
   "metadata": {},
   "source": [
    "### Analyze word frequency"
   ]
  },
  {
   "cell_type": "code",
   "execution_count": 15,
   "metadata": {},
   "outputs": [],
   "source": [
    "# Split words for spam and ham\n",
    "spam_messages = data[data['label'] == 1]\n",
    "ham_messages = data[data['label'] == 0]\n",
    "spam_words = \" \".join(spam_messages[\"cleaned_message\"]).split()\n",
    "ham_words = \" \".join(ham_messages[\"cleaned_message\"]).split()\n",
    "\n",
    "# Get word frequencies\n",
    "spam_word_freq = Counter(spam_words)\n",
    "ham_word_freq = Counter(ham_words)"
   ]
  },
  {
   "cell_type": "code",
   "execution_count": 16,
   "metadata": {},
   "outputs": [
    {
     "name": "stdout",
     "output_type": "stream",
     "text": [
      "\n",
      "Top 10 Words in Spam Messages:\n",
      "\n",
      "[('free', 219), ('u', 155), ('txt', 151), ('ur', 144), ('text', 138), ('mobile', 136), ('win', 135), ('stop', 118), ('claim', 115), ('reply', 110)]\n",
      "\n",
      "Top 10 Words in Ham Messages:\n",
      "\n",
      "[('I', 3499), ('u', 1003), ('m', 475), ('come', 320), ('s', 312), ('ok', 273), ('know', 258), ('good', 257), ('ur', 246), ('ill', 242)]\n"
     ]
    }
   ],
   "source": [
    "# Top 10 words in spam and ham messages\n",
    "print(\"\\nTop 10 Words in Spam Messages:\\n\")\n",
    "print(spam_word_freq.most_common(10))\n",
    "\n",
    "print(\"\\nTop 10 Words in Ham Messages:\\n\")\n",
    "print(ham_word_freq.most_common(10))"
   ]
  },
  {
   "cell_type": "code",
   "execution_count": 17,
   "metadata": {},
   "outputs": [
    {
     "data": {
      "application/vnd.plotly.v1+json": {
       "config": {
        "plotlyServerURL": "https://plot.ly"
       },
       "data": [
        {
         "hovertemplate": "Word=%{x}<br>Frequency=%{marker.color}<extra></extra>",
         "legendgroup": "",
         "marker": {
          "color": {
           "bdata": "2wCbAJcAkACKAIgAhwB2AHMAbgA=",
           "dtype": "i2"
          },
          "coloraxis": "coloraxis",
          "pattern": {
           "shape": ""
          }
         },
         "name": "",
         "orientation": "v",
         "showlegend": false,
         "textposition": "auto",
         "type": "bar",
         "x": [
          "free",
          "u",
          "txt",
          "ur",
          "text",
          "mobile",
          "win",
          "stop",
          "claim",
          "reply"
         ],
         "xaxis": "x",
         "y": {
          "bdata": "2wCbAJcAkACKAIgAhwB2AHMAbgA=",
          "dtype": "i2"
         },
         "yaxis": "y"
        }
       ],
       "layout": {
        "barmode": "relative",
        "coloraxis": {
         "colorbar": {
          "title": {
           "text": "Frequency"
          }
         },
         "colorscale": [
          [
           0,
           "#0d0887"
          ],
          [
           0.1111111111111111,
           "#46039f"
          ],
          [
           0.2222222222222222,
           "#7201a8"
          ],
          [
           0.3333333333333333,
           "#9c179e"
          ],
          [
           0.4444444444444444,
           "#bd3786"
          ],
          [
           0.5555555555555556,
           "#d8576b"
          ],
          [
           0.6666666666666666,
           "#ed7953"
          ],
          [
           0.7777777777777778,
           "#fb9f3a"
          ],
          [
           0.8888888888888888,
           "#fdca26"
          ],
          [
           1,
           "#f0f921"
          ]
         ]
        },
        "legend": {
         "tracegroupgap": 0
        },
        "template": {
         "data": {
          "bar": [
           {
            "error_x": {
             "color": "#2a3f5f"
            },
            "error_y": {
             "color": "#2a3f5f"
            },
            "marker": {
             "line": {
              "color": "#E5ECF6",
              "width": 0.5
             },
             "pattern": {
              "fillmode": "overlay",
              "size": 10,
              "solidity": 0.2
             }
            },
            "type": "bar"
           }
          ],
          "barpolar": [
           {
            "marker": {
             "line": {
              "color": "#E5ECF6",
              "width": 0.5
             },
             "pattern": {
              "fillmode": "overlay",
              "size": 10,
              "solidity": 0.2
             }
            },
            "type": "barpolar"
           }
          ],
          "carpet": [
           {
            "aaxis": {
             "endlinecolor": "#2a3f5f",
             "gridcolor": "white",
             "linecolor": "white",
             "minorgridcolor": "white",
             "startlinecolor": "#2a3f5f"
            },
            "baxis": {
             "endlinecolor": "#2a3f5f",
             "gridcolor": "white",
             "linecolor": "white",
             "minorgridcolor": "white",
             "startlinecolor": "#2a3f5f"
            },
            "type": "carpet"
           }
          ],
          "choropleth": [
           {
            "colorbar": {
             "outlinewidth": 0,
             "ticks": ""
            },
            "type": "choropleth"
           }
          ],
          "contour": [
           {
            "colorbar": {
             "outlinewidth": 0,
             "ticks": ""
            },
            "colorscale": [
             [
              0,
              "#0d0887"
             ],
             [
              0.1111111111111111,
              "#46039f"
             ],
             [
              0.2222222222222222,
              "#7201a8"
             ],
             [
              0.3333333333333333,
              "#9c179e"
             ],
             [
              0.4444444444444444,
              "#bd3786"
             ],
             [
              0.5555555555555556,
              "#d8576b"
             ],
             [
              0.6666666666666666,
              "#ed7953"
             ],
             [
              0.7777777777777778,
              "#fb9f3a"
             ],
             [
              0.8888888888888888,
              "#fdca26"
             ],
             [
              1,
              "#f0f921"
             ]
            ],
            "type": "contour"
           }
          ],
          "contourcarpet": [
           {
            "colorbar": {
             "outlinewidth": 0,
             "ticks": ""
            },
            "type": "contourcarpet"
           }
          ],
          "heatmap": [
           {
            "colorbar": {
             "outlinewidth": 0,
             "ticks": ""
            },
            "colorscale": [
             [
              0,
              "#0d0887"
             ],
             [
              0.1111111111111111,
              "#46039f"
             ],
             [
              0.2222222222222222,
              "#7201a8"
             ],
             [
              0.3333333333333333,
              "#9c179e"
             ],
             [
              0.4444444444444444,
              "#bd3786"
             ],
             [
              0.5555555555555556,
              "#d8576b"
             ],
             [
              0.6666666666666666,
              "#ed7953"
             ],
             [
              0.7777777777777778,
              "#fb9f3a"
             ],
             [
              0.8888888888888888,
              "#fdca26"
             ],
             [
              1,
              "#f0f921"
             ]
            ],
            "type": "heatmap"
           }
          ],
          "histogram": [
           {
            "marker": {
             "pattern": {
              "fillmode": "overlay",
              "size": 10,
              "solidity": 0.2
             }
            },
            "type": "histogram"
           }
          ],
          "histogram2d": [
           {
            "colorbar": {
             "outlinewidth": 0,
             "ticks": ""
            },
            "colorscale": [
             [
              0,
              "#0d0887"
             ],
             [
              0.1111111111111111,
              "#46039f"
             ],
             [
              0.2222222222222222,
              "#7201a8"
             ],
             [
              0.3333333333333333,
              "#9c179e"
             ],
             [
              0.4444444444444444,
              "#bd3786"
             ],
             [
              0.5555555555555556,
              "#d8576b"
             ],
             [
              0.6666666666666666,
              "#ed7953"
             ],
             [
              0.7777777777777778,
              "#fb9f3a"
             ],
             [
              0.8888888888888888,
              "#fdca26"
             ],
             [
              1,
              "#f0f921"
             ]
            ],
            "type": "histogram2d"
           }
          ],
          "histogram2dcontour": [
           {
            "colorbar": {
             "outlinewidth": 0,
             "ticks": ""
            },
            "colorscale": [
             [
              0,
              "#0d0887"
             ],
             [
              0.1111111111111111,
              "#46039f"
             ],
             [
              0.2222222222222222,
              "#7201a8"
             ],
             [
              0.3333333333333333,
              "#9c179e"
             ],
             [
              0.4444444444444444,
              "#bd3786"
             ],
             [
              0.5555555555555556,
              "#d8576b"
             ],
             [
              0.6666666666666666,
              "#ed7953"
             ],
             [
              0.7777777777777778,
              "#fb9f3a"
             ],
             [
              0.8888888888888888,
              "#fdca26"
             ],
             [
              1,
              "#f0f921"
             ]
            ],
            "type": "histogram2dcontour"
           }
          ],
          "mesh3d": [
           {
            "colorbar": {
             "outlinewidth": 0,
             "ticks": ""
            },
            "type": "mesh3d"
           }
          ],
          "parcoords": [
           {
            "line": {
             "colorbar": {
              "outlinewidth": 0,
              "ticks": ""
             }
            },
            "type": "parcoords"
           }
          ],
          "pie": [
           {
            "automargin": true,
            "type": "pie"
           }
          ],
          "scatter": [
           {
            "fillpattern": {
             "fillmode": "overlay",
             "size": 10,
             "solidity": 0.2
            },
            "type": "scatter"
           }
          ],
          "scatter3d": [
           {
            "line": {
             "colorbar": {
              "outlinewidth": 0,
              "ticks": ""
             }
            },
            "marker": {
             "colorbar": {
              "outlinewidth": 0,
              "ticks": ""
             }
            },
            "type": "scatter3d"
           }
          ],
          "scattercarpet": [
           {
            "marker": {
             "colorbar": {
              "outlinewidth": 0,
              "ticks": ""
             }
            },
            "type": "scattercarpet"
           }
          ],
          "scattergeo": [
           {
            "marker": {
             "colorbar": {
              "outlinewidth": 0,
              "ticks": ""
             }
            },
            "type": "scattergeo"
           }
          ],
          "scattergl": [
           {
            "marker": {
             "colorbar": {
              "outlinewidth": 0,
              "ticks": ""
             }
            },
            "type": "scattergl"
           }
          ],
          "scattermap": [
           {
            "marker": {
             "colorbar": {
              "outlinewidth": 0,
              "ticks": ""
             }
            },
            "type": "scattermap"
           }
          ],
          "scattermapbox": [
           {
            "marker": {
             "colorbar": {
              "outlinewidth": 0,
              "ticks": ""
             }
            },
            "type": "scattermapbox"
           }
          ],
          "scatterpolar": [
           {
            "marker": {
             "colorbar": {
              "outlinewidth": 0,
              "ticks": ""
             }
            },
            "type": "scatterpolar"
           }
          ],
          "scatterpolargl": [
           {
            "marker": {
             "colorbar": {
              "outlinewidth": 0,
              "ticks": ""
             }
            },
            "type": "scatterpolargl"
           }
          ],
          "scatterternary": [
           {
            "marker": {
             "colorbar": {
              "outlinewidth": 0,
              "ticks": ""
             }
            },
            "type": "scatterternary"
           }
          ],
          "surface": [
           {
            "colorbar": {
             "outlinewidth": 0,
             "ticks": ""
            },
            "colorscale": [
             [
              0,
              "#0d0887"
             ],
             [
              0.1111111111111111,
              "#46039f"
             ],
             [
              0.2222222222222222,
              "#7201a8"
             ],
             [
              0.3333333333333333,
              "#9c179e"
             ],
             [
              0.4444444444444444,
              "#bd3786"
             ],
             [
              0.5555555555555556,
              "#d8576b"
             ],
             [
              0.6666666666666666,
              "#ed7953"
             ],
             [
              0.7777777777777778,
              "#fb9f3a"
             ],
             [
              0.8888888888888888,
              "#fdca26"
             ],
             [
              1,
              "#f0f921"
             ]
            ],
            "type": "surface"
           }
          ],
          "table": [
           {
            "cells": {
             "fill": {
              "color": "#EBF0F8"
             },
             "line": {
              "color": "white"
             }
            },
            "header": {
             "fill": {
              "color": "#C8D4E3"
             },
             "line": {
              "color": "white"
             }
            },
            "type": "table"
           }
          ]
         },
         "layout": {
          "annotationdefaults": {
           "arrowcolor": "#2a3f5f",
           "arrowhead": 0,
           "arrowwidth": 1
          },
          "autotypenumbers": "strict",
          "coloraxis": {
           "colorbar": {
            "outlinewidth": 0,
            "ticks": ""
           }
          },
          "colorscale": {
           "diverging": [
            [
             0,
             "#8e0152"
            ],
            [
             0.1,
             "#c51b7d"
            ],
            [
             0.2,
             "#de77ae"
            ],
            [
             0.3,
             "#f1b6da"
            ],
            [
             0.4,
             "#fde0ef"
            ],
            [
             0.5,
             "#f7f7f7"
            ],
            [
             0.6,
             "#e6f5d0"
            ],
            [
             0.7,
             "#b8e186"
            ],
            [
             0.8,
             "#7fbc41"
            ],
            [
             0.9,
             "#4d9221"
            ],
            [
             1,
             "#276419"
            ]
           ],
           "sequential": [
            [
             0,
             "#0d0887"
            ],
            [
             0.1111111111111111,
             "#46039f"
            ],
            [
             0.2222222222222222,
             "#7201a8"
            ],
            [
             0.3333333333333333,
             "#9c179e"
            ],
            [
             0.4444444444444444,
             "#bd3786"
            ],
            [
             0.5555555555555556,
             "#d8576b"
            ],
            [
             0.6666666666666666,
             "#ed7953"
            ],
            [
             0.7777777777777778,
             "#fb9f3a"
            ],
            [
             0.8888888888888888,
             "#fdca26"
            ],
            [
             1,
             "#f0f921"
            ]
           ],
           "sequentialminus": [
            [
             0,
             "#0d0887"
            ],
            [
             0.1111111111111111,
             "#46039f"
            ],
            [
             0.2222222222222222,
             "#7201a8"
            ],
            [
             0.3333333333333333,
             "#9c179e"
            ],
            [
             0.4444444444444444,
             "#bd3786"
            ],
            [
             0.5555555555555556,
             "#d8576b"
            ],
            [
             0.6666666666666666,
             "#ed7953"
            ],
            [
             0.7777777777777778,
             "#fb9f3a"
            ],
            [
             0.8888888888888888,
             "#fdca26"
            ],
            [
             1,
             "#f0f921"
            ]
           ]
          },
          "colorway": [
           "#636efa",
           "#EF553B",
           "#00cc96",
           "#ab63fa",
           "#FFA15A",
           "#19d3f3",
           "#FF6692",
           "#B6E880",
           "#FF97FF",
           "#FECB52"
          ],
          "font": {
           "color": "#2a3f5f"
          },
          "geo": {
           "bgcolor": "white",
           "lakecolor": "white",
           "landcolor": "#E5ECF6",
           "showlakes": true,
           "showland": true,
           "subunitcolor": "white"
          },
          "hoverlabel": {
           "align": "left"
          },
          "hovermode": "closest",
          "mapbox": {
           "style": "light"
          },
          "paper_bgcolor": "white",
          "plot_bgcolor": "#E5ECF6",
          "polar": {
           "angularaxis": {
            "gridcolor": "white",
            "linecolor": "white",
            "ticks": ""
           },
           "bgcolor": "#E5ECF6",
           "radialaxis": {
            "gridcolor": "white",
            "linecolor": "white",
            "ticks": ""
           }
          },
          "scene": {
           "xaxis": {
            "backgroundcolor": "#E5ECF6",
            "gridcolor": "white",
            "gridwidth": 2,
            "linecolor": "white",
            "showbackground": true,
            "ticks": "",
            "zerolinecolor": "white"
           },
           "yaxis": {
            "backgroundcolor": "#E5ECF6",
            "gridcolor": "white",
            "gridwidth": 2,
            "linecolor": "white",
            "showbackground": true,
            "ticks": "",
            "zerolinecolor": "white"
           },
           "zaxis": {
            "backgroundcolor": "#E5ECF6",
            "gridcolor": "white",
            "gridwidth": 2,
            "linecolor": "white",
            "showbackground": true,
            "ticks": "",
            "zerolinecolor": "white"
           }
          },
          "shapedefaults": {
           "line": {
            "color": "#2a3f5f"
           }
          },
          "ternary": {
           "aaxis": {
            "gridcolor": "white",
            "linecolor": "white",
            "ticks": ""
           },
           "baxis": {
            "gridcolor": "white",
            "linecolor": "white",
            "ticks": ""
           },
           "bgcolor": "#E5ECF6",
           "caxis": {
            "gridcolor": "white",
            "linecolor": "white",
            "ticks": ""
           }
          },
          "title": {
           "x": 0.05
          },
          "xaxis": {
           "automargin": true,
           "gridcolor": "white",
           "linecolor": "white",
           "ticks": "",
           "title": {
            "standoff": 15
           },
           "zerolinecolor": "white",
           "zerolinewidth": 2
          },
          "yaxis": {
           "automargin": true,
           "gridcolor": "white",
           "linecolor": "white",
           "ticks": "",
           "title": {
            "standoff": 15
           },
           "zerolinecolor": "white",
           "zerolinewidth": 2
          }
         }
        },
        "title": {
         "text": "Top 10 Words in Spam Messages"
        },
        "xaxis": {
         "anchor": "y",
         "domain": [
          0,
          1
         ],
         "title": {
          "text": "Word"
         }
        },
        "yaxis": {
         "anchor": "x",
         "domain": [
          0,
          1
         ],
         "title": {
          "text": "Frequency"
         }
        }
       }
      }
     },
     "metadata": {},
     "output_type": "display_data"
    },
    {
     "data": {
      "application/vnd.plotly.v1+json": {
       "config": {
        "plotlyServerURL": "https://plot.ly"
       },
       "data": [
        {
         "hovertemplate": "Word=%{x}<br>Frequency=%{marker.color}<extra></extra>",
         "legendgroup": "",
         "marker": {
          "color": {
           "bdata": "qw3rA9sBQAE4AREBAgEBAfYA8gA=",
           "dtype": "i2"
          },
          "coloraxis": "coloraxis",
          "pattern": {
           "shape": ""
          }
         },
         "name": "",
         "orientation": "v",
         "showlegend": false,
         "textposition": "auto",
         "type": "bar",
         "x": [
          "I",
          "u",
          "m",
          "come",
          "s",
          "ok",
          "know",
          "good",
          "ur",
          "ill"
         ],
         "xaxis": "x",
         "y": {
          "bdata": "qw3rA9sBQAE4AREBAgEBAfYA8gA=",
          "dtype": "i2"
         },
         "yaxis": "y"
        }
       ],
       "layout": {
        "barmode": "relative",
        "coloraxis": {
         "colorbar": {
          "title": {
           "text": "Frequency"
          }
         },
         "colorscale": [
          [
           0,
           "#0d0887"
          ],
          [
           0.1111111111111111,
           "#46039f"
          ],
          [
           0.2222222222222222,
           "#7201a8"
          ],
          [
           0.3333333333333333,
           "#9c179e"
          ],
          [
           0.4444444444444444,
           "#bd3786"
          ],
          [
           0.5555555555555556,
           "#d8576b"
          ],
          [
           0.6666666666666666,
           "#ed7953"
          ],
          [
           0.7777777777777778,
           "#fb9f3a"
          ],
          [
           0.8888888888888888,
           "#fdca26"
          ],
          [
           1,
           "#f0f921"
          ]
         ]
        },
        "legend": {
         "tracegroupgap": 0
        },
        "template": {
         "data": {
          "bar": [
           {
            "error_x": {
             "color": "#2a3f5f"
            },
            "error_y": {
             "color": "#2a3f5f"
            },
            "marker": {
             "line": {
              "color": "#E5ECF6",
              "width": 0.5
             },
             "pattern": {
              "fillmode": "overlay",
              "size": 10,
              "solidity": 0.2
             }
            },
            "type": "bar"
           }
          ],
          "barpolar": [
           {
            "marker": {
             "line": {
              "color": "#E5ECF6",
              "width": 0.5
             },
             "pattern": {
              "fillmode": "overlay",
              "size": 10,
              "solidity": 0.2
             }
            },
            "type": "barpolar"
           }
          ],
          "carpet": [
           {
            "aaxis": {
             "endlinecolor": "#2a3f5f",
             "gridcolor": "white",
             "linecolor": "white",
             "minorgridcolor": "white",
             "startlinecolor": "#2a3f5f"
            },
            "baxis": {
             "endlinecolor": "#2a3f5f",
             "gridcolor": "white",
             "linecolor": "white",
             "minorgridcolor": "white",
             "startlinecolor": "#2a3f5f"
            },
            "type": "carpet"
           }
          ],
          "choropleth": [
           {
            "colorbar": {
             "outlinewidth": 0,
             "ticks": ""
            },
            "type": "choropleth"
           }
          ],
          "contour": [
           {
            "colorbar": {
             "outlinewidth": 0,
             "ticks": ""
            },
            "colorscale": [
             [
              0,
              "#0d0887"
             ],
             [
              0.1111111111111111,
              "#46039f"
             ],
             [
              0.2222222222222222,
              "#7201a8"
             ],
             [
              0.3333333333333333,
              "#9c179e"
             ],
             [
              0.4444444444444444,
              "#bd3786"
             ],
             [
              0.5555555555555556,
              "#d8576b"
             ],
             [
              0.6666666666666666,
              "#ed7953"
             ],
             [
              0.7777777777777778,
              "#fb9f3a"
             ],
             [
              0.8888888888888888,
              "#fdca26"
             ],
             [
              1,
              "#f0f921"
             ]
            ],
            "type": "contour"
           }
          ],
          "contourcarpet": [
           {
            "colorbar": {
             "outlinewidth": 0,
             "ticks": ""
            },
            "type": "contourcarpet"
           }
          ],
          "heatmap": [
           {
            "colorbar": {
             "outlinewidth": 0,
             "ticks": ""
            },
            "colorscale": [
             [
              0,
              "#0d0887"
             ],
             [
              0.1111111111111111,
              "#46039f"
             ],
             [
              0.2222222222222222,
              "#7201a8"
             ],
             [
              0.3333333333333333,
              "#9c179e"
             ],
             [
              0.4444444444444444,
              "#bd3786"
             ],
             [
              0.5555555555555556,
              "#d8576b"
             ],
             [
              0.6666666666666666,
              "#ed7953"
             ],
             [
              0.7777777777777778,
              "#fb9f3a"
             ],
             [
              0.8888888888888888,
              "#fdca26"
             ],
             [
              1,
              "#f0f921"
             ]
            ],
            "type": "heatmap"
           }
          ],
          "histogram": [
           {
            "marker": {
             "pattern": {
              "fillmode": "overlay",
              "size": 10,
              "solidity": 0.2
             }
            },
            "type": "histogram"
           }
          ],
          "histogram2d": [
           {
            "colorbar": {
             "outlinewidth": 0,
             "ticks": ""
            },
            "colorscale": [
             [
              0,
              "#0d0887"
             ],
             [
              0.1111111111111111,
              "#46039f"
             ],
             [
              0.2222222222222222,
              "#7201a8"
             ],
             [
              0.3333333333333333,
              "#9c179e"
             ],
             [
              0.4444444444444444,
              "#bd3786"
             ],
             [
              0.5555555555555556,
              "#d8576b"
             ],
             [
              0.6666666666666666,
              "#ed7953"
             ],
             [
              0.7777777777777778,
              "#fb9f3a"
             ],
             [
              0.8888888888888888,
              "#fdca26"
             ],
             [
              1,
              "#f0f921"
             ]
            ],
            "type": "histogram2d"
           }
          ],
          "histogram2dcontour": [
           {
            "colorbar": {
             "outlinewidth": 0,
             "ticks": ""
            },
            "colorscale": [
             [
              0,
              "#0d0887"
             ],
             [
              0.1111111111111111,
              "#46039f"
             ],
             [
              0.2222222222222222,
              "#7201a8"
             ],
             [
              0.3333333333333333,
              "#9c179e"
             ],
             [
              0.4444444444444444,
              "#bd3786"
             ],
             [
              0.5555555555555556,
              "#d8576b"
             ],
             [
              0.6666666666666666,
              "#ed7953"
             ],
             [
              0.7777777777777778,
              "#fb9f3a"
             ],
             [
              0.8888888888888888,
              "#fdca26"
             ],
             [
              1,
              "#f0f921"
             ]
            ],
            "type": "histogram2dcontour"
           }
          ],
          "mesh3d": [
           {
            "colorbar": {
             "outlinewidth": 0,
             "ticks": ""
            },
            "type": "mesh3d"
           }
          ],
          "parcoords": [
           {
            "line": {
             "colorbar": {
              "outlinewidth": 0,
              "ticks": ""
             }
            },
            "type": "parcoords"
           }
          ],
          "pie": [
           {
            "automargin": true,
            "type": "pie"
           }
          ],
          "scatter": [
           {
            "fillpattern": {
             "fillmode": "overlay",
             "size": 10,
             "solidity": 0.2
            },
            "type": "scatter"
           }
          ],
          "scatter3d": [
           {
            "line": {
             "colorbar": {
              "outlinewidth": 0,
              "ticks": ""
             }
            },
            "marker": {
             "colorbar": {
              "outlinewidth": 0,
              "ticks": ""
             }
            },
            "type": "scatter3d"
           }
          ],
          "scattercarpet": [
           {
            "marker": {
             "colorbar": {
              "outlinewidth": 0,
              "ticks": ""
             }
            },
            "type": "scattercarpet"
           }
          ],
          "scattergeo": [
           {
            "marker": {
             "colorbar": {
              "outlinewidth": 0,
              "ticks": ""
             }
            },
            "type": "scattergeo"
           }
          ],
          "scattergl": [
           {
            "marker": {
             "colorbar": {
              "outlinewidth": 0,
              "ticks": ""
             }
            },
            "type": "scattergl"
           }
          ],
          "scattermap": [
           {
            "marker": {
             "colorbar": {
              "outlinewidth": 0,
              "ticks": ""
             }
            },
            "type": "scattermap"
           }
          ],
          "scattermapbox": [
           {
            "marker": {
             "colorbar": {
              "outlinewidth": 0,
              "ticks": ""
             }
            },
            "type": "scattermapbox"
           }
          ],
          "scatterpolar": [
           {
            "marker": {
             "colorbar": {
              "outlinewidth": 0,
              "ticks": ""
             }
            },
            "type": "scatterpolar"
           }
          ],
          "scatterpolargl": [
           {
            "marker": {
             "colorbar": {
              "outlinewidth": 0,
              "ticks": ""
             }
            },
            "type": "scatterpolargl"
           }
          ],
          "scatterternary": [
           {
            "marker": {
             "colorbar": {
              "outlinewidth": 0,
              "ticks": ""
             }
            },
            "type": "scatterternary"
           }
          ],
          "surface": [
           {
            "colorbar": {
             "outlinewidth": 0,
             "ticks": ""
            },
            "colorscale": [
             [
              0,
              "#0d0887"
             ],
             [
              0.1111111111111111,
              "#46039f"
             ],
             [
              0.2222222222222222,
              "#7201a8"
             ],
             [
              0.3333333333333333,
              "#9c179e"
             ],
             [
              0.4444444444444444,
              "#bd3786"
             ],
             [
              0.5555555555555556,
              "#d8576b"
             ],
             [
              0.6666666666666666,
              "#ed7953"
             ],
             [
              0.7777777777777778,
              "#fb9f3a"
             ],
             [
              0.8888888888888888,
              "#fdca26"
             ],
             [
              1,
              "#f0f921"
             ]
            ],
            "type": "surface"
           }
          ],
          "table": [
           {
            "cells": {
             "fill": {
              "color": "#EBF0F8"
             },
             "line": {
              "color": "white"
             }
            },
            "header": {
             "fill": {
              "color": "#C8D4E3"
             },
             "line": {
              "color": "white"
             }
            },
            "type": "table"
           }
          ]
         },
         "layout": {
          "annotationdefaults": {
           "arrowcolor": "#2a3f5f",
           "arrowhead": 0,
           "arrowwidth": 1
          },
          "autotypenumbers": "strict",
          "coloraxis": {
           "colorbar": {
            "outlinewidth": 0,
            "ticks": ""
           }
          },
          "colorscale": {
           "diverging": [
            [
             0,
             "#8e0152"
            ],
            [
             0.1,
             "#c51b7d"
            ],
            [
             0.2,
             "#de77ae"
            ],
            [
             0.3,
             "#f1b6da"
            ],
            [
             0.4,
             "#fde0ef"
            ],
            [
             0.5,
             "#f7f7f7"
            ],
            [
             0.6,
             "#e6f5d0"
            ],
            [
             0.7,
             "#b8e186"
            ],
            [
             0.8,
             "#7fbc41"
            ],
            [
             0.9,
             "#4d9221"
            ],
            [
             1,
             "#276419"
            ]
           ],
           "sequential": [
            [
             0,
             "#0d0887"
            ],
            [
             0.1111111111111111,
             "#46039f"
            ],
            [
             0.2222222222222222,
             "#7201a8"
            ],
            [
             0.3333333333333333,
             "#9c179e"
            ],
            [
             0.4444444444444444,
             "#bd3786"
            ],
            [
             0.5555555555555556,
             "#d8576b"
            ],
            [
             0.6666666666666666,
             "#ed7953"
            ],
            [
             0.7777777777777778,
             "#fb9f3a"
            ],
            [
             0.8888888888888888,
             "#fdca26"
            ],
            [
             1,
             "#f0f921"
            ]
           ],
           "sequentialminus": [
            [
             0,
             "#0d0887"
            ],
            [
             0.1111111111111111,
             "#46039f"
            ],
            [
             0.2222222222222222,
             "#7201a8"
            ],
            [
             0.3333333333333333,
             "#9c179e"
            ],
            [
             0.4444444444444444,
             "#bd3786"
            ],
            [
             0.5555555555555556,
             "#d8576b"
            ],
            [
             0.6666666666666666,
             "#ed7953"
            ],
            [
             0.7777777777777778,
             "#fb9f3a"
            ],
            [
             0.8888888888888888,
             "#fdca26"
            ],
            [
             1,
             "#f0f921"
            ]
           ]
          },
          "colorway": [
           "#636efa",
           "#EF553B",
           "#00cc96",
           "#ab63fa",
           "#FFA15A",
           "#19d3f3",
           "#FF6692",
           "#B6E880",
           "#FF97FF",
           "#FECB52"
          ],
          "font": {
           "color": "#2a3f5f"
          },
          "geo": {
           "bgcolor": "white",
           "lakecolor": "white",
           "landcolor": "#E5ECF6",
           "showlakes": true,
           "showland": true,
           "subunitcolor": "white"
          },
          "hoverlabel": {
           "align": "left"
          },
          "hovermode": "closest",
          "mapbox": {
           "style": "light"
          },
          "paper_bgcolor": "white",
          "plot_bgcolor": "#E5ECF6",
          "polar": {
           "angularaxis": {
            "gridcolor": "white",
            "linecolor": "white",
            "ticks": ""
           },
           "bgcolor": "#E5ECF6",
           "radialaxis": {
            "gridcolor": "white",
            "linecolor": "white",
            "ticks": ""
           }
          },
          "scene": {
           "xaxis": {
            "backgroundcolor": "#E5ECF6",
            "gridcolor": "white",
            "gridwidth": 2,
            "linecolor": "white",
            "showbackground": true,
            "ticks": "",
            "zerolinecolor": "white"
           },
           "yaxis": {
            "backgroundcolor": "#E5ECF6",
            "gridcolor": "white",
            "gridwidth": 2,
            "linecolor": "white",
            "showbackground": true,
            "ticks": "",
            "zerolinecolor": "white"
           },
           "zaxis": {
            "backgroundcolor": "#E5ECF6",
            "gridcolor": "white",
            "gridwidth": 2,
            "linecolor": "white",
            "showbackground": true,
            "ticks": "",
            "zerolinecolor": "white"
           }
          },
          "shapedefaults": {
           "line": {
            "color": "#2a3f5f"
           }
          },
          "ternary": {
           "aaxis": {
            "gridcolor": "white",
            "linecolor": "white",
            "ticks": ""
           },
           "baxis": {
            "gridcolor": "white",
            "linecolor": "white",
            "ticks": ""
           },
           "bgcolor": "#E5ECF6",
           "caxis": {
            "gridcolor": "white",
            "linecolor": "white",
            "ticks": ""
           }
          },
          "title": {
           "x": 0.05
          },
          "xaxis": {
           "automargin": true,
           "gridcolor": "white",
           "linecolor": "white",
           "ticks": "",
           "title": {
            "standoff": 15
           },
           "zerolinecolor": "white",
           "zerolinewidth": 2
          },
          "yaxis": {
           "automargin": true,
           "gridcolor": "white",
           "linecolor": "white",
           "ticks": "",
           "title": {
            "standoff": 15
           },
           "zerolinecolor": "white",
           "zerolinewidth": 2
          }
         }
        },
        "title": {
         "text": "Top 10 Words in Ham Messages"
        },
        "xaxis": {
         "anchor": "y",
         "domain": [
          0,
          1
         ],
         "title": {
          "text": "Word"
         }
        },
        "yaxis": {
         "anchor": "x",
         "domain": [
          0,
          1
         ],
         "title": {
          "text": "Frequency"
         }
        }
       }
      }
     },
     "metadata": {},
     "output_type": "display_data"
    }
   ],
   "source": [
    "# Plotting top 10 words for spam and ham\n",
    "spam_top_words = pd.DataFrame(\n",
    "    spam_word_freq.most_common(10), columns=[\"Word\", \"Frequency\"]\n",
    ")\n",
    "ham_top_words = pd.DataFrame(\n",
    "    ham_word_freq.most_common(10), columns=[\"Word\", \"Frequency\"]\n",
    ")\n",
    "\n",
    "fig = px.bar(\n",
    "    spam_top_words,\n",
    "    x=\"Word\",\n",
    "    y=\"Frequency\",\n",
    "    title=\"Top 10 Words in Spam Messages\",\n",
    "    labels={\"Word\": \"Word\", \"Frequency\": \"Frequency\"},\n",
    "    color=\"Frequency\",\n",
    ")\n",
    "fig.show()\n",
    "\n",
    "fig = px.bar(\n",
    "    ham_top_words,\n",
    "    x=\"Word\",\n",
    "    y=\"Frequency\",\n",
    "    title=\"Top 10 Words in Ham Messages\",\n",
    "    labels={\"Word\": \"Word\", \"Frequency\": \"Frequency\"},\n",
    "    color=\"Frequency\",\n",
    ")\n",
    "fig.show()"
   ]
  },
  {
   "cell_type": "code",
   "execution_count": 18,
   "metadata": {},
   "outputs": [
    {
     "data": {
      "image/png": "[encoded data removed]",
      "text/plain": [
       "<Figure size 1600x800 with 1 Axes>"
      ]
     },
     "metadata": {},
     "output_type": "display_data"
    },
    {
     "data": {
      "image/png": "[encoded data removed]",
      "text/plain": [
       "<Figure size 1600x800 with 1 Axes>"
      ]
     },
     "metadata": {},
     "output_type": "display_data"
    }
   ],
   "source": [
    "# Loading a custom mask for the WordCloud\n",
    "mask = np.array(Image.open(\"img/cloudmask.png\"))\n",
    "\n",
    "# Define the WordCloud for spam messages\n",
    "spam_wordcloud = WordCloud(\n",
    "    width=800,\n",
    "    height=400,\n",
    "    colormap=\"Reds\",\n",
    "    background_color=\"white\",\n",
    "    mask=mask,\n",
    ").generate(\" \".join(spam_words))\n",
    "\n",
    "# Define the WordCloud for ham messages\n",
    "ham_wordcloud = WordCloud(\n",
    "    width=800,\n",
    "    height=400,\n",
    "    colormap=\"Blues\",\n",
    "    background_color=\"white\",\n",
    "    mask=mask,\n",
    ").generate(\" \".join(ham_words))\n",
    "\n",
    "# Plotting the spam WordCloud\n",
    "plt.figure(figsize=(16, 8))\n",
    "plt.imshow(spam_wordcloud, interpolation=\"bilinear\")\n",
    "plt.title(\"Key Words in Spam Messages\", fontsize=18)\n",
    "plt.axis(\"off\")\n",
    "plt.show()\n",
    "\n",
    "# Plotting the ham WordCloud\n",
    "plt.figure(figsize=(16, 8))\n",
    "plt.imshow(ham_wordcloud, interpolation=\"bilinear\")\n",
    "plt.title(\"Key Words in Non-Spam Messages\", fontsize=18)\n",
    "plt.axis(\"off\")\n",
    "plt.show()"
   ]
  },
  {
   "cell_type": "markdown",
   "metadata": {},
   "source": [
    "## Text Tokenization"
   ]
  },
  {
   "cell_type": "code",
   "execution_count": 19,
   "metadata": {},
   "outputs": [],
   "source": [
    "num_words = 1000\n",
    "\n",
    "# Initialize the Tokenizer\n",
    "tokenizer = Tokenizer(num_words=num_words, oov_token=\"<OOV>\")\n",
    "tokenizer.fit_on_texts(data[\"cleaned_message\"])\n",
    "\n",
    "# Convert text to sequences\n",
    "sequences = tokenizer.texts_to_sequences(data[\"cleaned_message\"])\n",
    "\n",
    "# Pad sequences\n",
    "padded_sequences = pad_sequences(sequences, padding=\"post\")\n",
    "\n",
    "# Add tokenized sequences to the DataFrame\n",
    "data[\"tokenized_message\"] = sequences"
   ]
  },
  {
   "cell_type": "code",
   "execution_count": 20,
   "metadata": {},
   "outputs": [
    {
     "name": "stdout",
     "output_type": "stream",
     "text": [
      "\n",
      "Most Common Words and Their Frequencies:\n",
      "\n",
      "i: 3598\n",
      "u: 1158\n",
      "m: 511\n",
      "ur: 390\n",
      "s: 340\n",
      "come: 326\n",
      "know: 284\n",
      "ok: 278\n",
      "free: 278\n",
      "good: 278\n",
      "send: 268\n",
      "day: 256\n",
      "like: 254\n",
      "want: 245\n",
      "ill: 243\n",
      "time: 234\n",
      "love: 231\n",
      "text: 215\n",
      "tell: 208\n",
      "think: 200\n"
     ]
    },
    {
     "data": {
      "application/vnd.plotly.v1+json": {
       "config": {
        "plotlyServerURL": "https://plot.ly"
       },
       "data": [
        {
         "hovertemplate": "Word=%{x}<br>Frequency=%{y}<extra></extra>",
         "legendgroup": "",
         "marker": {
          "color": "#636efa",
          "pattern": {
           "shape": ""
          }
         },
         "name": "",
         "orientation": "v",
         "showlegend": false,
         "textposition": "auto",
         "type": "bar",
         "x": [
          "i",
          "u",
          "m",
          "ur",
          "s",
          "come",
          "know",
          "ok",
          "free",
          "good",
          "send",
          "day",
          "like",
          "want",
          "ill",
          "time",
          "love",
          "text",
          "tell",
          "think",
          "need",
          "d",
          "txt",
          "stop",
          "home",
          "reply",
          "lor",
          "r",
          "sorry",
          "win",
          "mobile",
          "today",
          "n",
          "phone",
          "new",
          "week",
          "hi",
          "work",
          "later",
          "da",
          "ask",
          "miss",
          "night",
          "hope",
          "try",
          "claim",
          "meet",
          "thing",
          "great",
          "oh"
         ],
         "xaxis": "x",
         "y": {
          "bdata": "Dg6GBP8BhgFUAUYBHAEWARYBFgEMAQAB/gD1APMA6gDnANcA0ADIALsApQCkAKMAogCgAKAAnACcAJgAlwCUAJMAjgCLAIcAhwCGAIYAhACEAIEAeAB2AHQAcwByAHIAcQBxAA==",
          "dtype": "i2"
         },
         "yaxis": "y"
        }
       ],
       "layout": {
        "barmode": "relative",
        "legend": {
         "tracegroupgap": 0
        },
        "template": {
         "data": {
          "bar": [
           {
            "error_x": {
             "color": "#2a3f5f"
            },
            "error_y": {
             "color": "#2a3f5f"
            },
            "marker": {
             "line": {
              "color": "#E5ECF6",
              "width": 0.5
             },
             "pattern": {
              "fillmode": "overlay",
              "size": 10,
              "solidity": 0.2
             }
            },
            "type": "bar"
           }
          ],
          "barpolar": [
           {
            "marker": {
             "line": {
              "color": "#E5ECF6",
              "width": 0.5
             },
             "pattern": {
              "fillmode": "overlay",
              "size": 10,
              "solidity": 0.2
             }
            },
            "type": "barpolar"
           }
          ],
          "carpet": [
           {
            "aaxis": {
             "endlinecolor": "#2a3f5f",
             "gridcolor": "white",
             "linecolor": "white",
             "minorgridcolor": "white",
             "startlinecolor": "#2a3f5f"
            },
            "baxis": {
             "endlinecolor": "#2a3f5f",
             "gridcolor": "white",
             "linecolor": "white",
             "minorgridcolor": "white",
             "startlinecolor": "#2a3f5f"
            },
            "type": "carpet"
           }
          ],
          "choropleth": [
           {
            "colorbar": {
             "outlinewidth": 0,
             "ticks": ""
            },
            "type": "choropleth"
           }
          ],
          "contour": [
           {
            "colorbar": {
             "outlinewidth": 0,
             "ticks": ""
            },
            "colorscale": [
             [
              0,
              "#0d0887"
             ],
             [
              0.1111111111111111,
              "#46039f"
             ],
             [
              0.2222222222222222,
              "#7201a8"
             ],
             [
              0.3333333333333333,
              "#9c179e"
             ],
             [
              0.4444444444444444,
              "#bd3786"
             ],
             [
              0.5555555555555556,
              "#d8576b"
             ],
             [
              0.6666666666666666,
              "#ed7953"
             ],
             [
              0.7777777777777778,
              "#fb9f3a"
             ],
             [
              0.8888888888888888,
              "#fdca26"
             ],
             [
              1,
              "#f0f921"
             ]
            ],
            "type": "contour"
           }
          ],
          "contourcarpet": [
           {
            "colorbar": {
             "outlinewidth": 0,
             "ticks": ""
            },
            "type": "contourcarpet"
           }
          ],
          "heatmap": [
           {
            "colorbar": {
             "outlinewidth": 0,
             "ticks": ""
            },
            "colorscale": [
             [
              0,
              "#0d0887"
             ],
             [
              0.1111111111111111,
              "#46039f"
             ],
             [
              0.2222222222222222,
              "#7201a8"
             ],
             [
              0.3333333333333333,
              "#9c179e"
             ],
             [
              0.4444444444444444,
              "#bd3786"
             ],
             [
              0.5555555555555556,
              "#d8576b"
             ],
             [
              0.6666666666666666,
              "#ed7953"
             ],
             [
              0.7777777777777778,
              "#fb9f3a"
             ],
             [
              0.8888888888888888,
              "#fdca26"
             ],
             [
              1,
              "#f0f921"
             ]
            ],
            "type": "heatmap"
           }
          ],
          "histogram": [
           {
            "marker": {
             "pattern": {
              "fillmode": "overlay",
              "size": 10,
              "solidity": 0.2
             }
            },
            "type": "histogram"
           }
          ],
          "histogram2d": [
           {
            "colorbar": {
             "outlinewidth": 0,
             "ticks": ""
            },
            "colorscale": [
             [
              0,
              "#0d0887"
             ],
             [
              0.1111111111111111,
              "#46039f"
             ],
             [
              0.2222222222222222,
              "#7201a8"
             ],
             [
              0.3333333333333333,
              "#9c179e"
             ],
             [
              0.4444444444444444,
              "#bd3786"
             ],
             [
              0.5555555555555556,
              "#d8576b"
             ],
             [
              0.6666666666666666,
              "#ed7953"
             ],
             [
              0.7777777777777778,
              "#fb9f3a"
             ],
             [
              0.8888888888888888,
              "#fdca26"
             ],
             [
              1,
              "#f0f921"
             ]
            ],
            "type": "histogram2d"
           }
          ],
          "histogram2dcontour": [
           {
            "colorbar": {
             "outlinewidth": 0,
             "ticks": ""
            },
            "colorscale": [
             [
              0,
              "#0d0887"
             ],
             [
              0.1111111111111111,
              "#46039f"
             ],
             [
              0.2222222222222222,
              "#7201a8"
             ],
             [
              0.3333333333333333,
              "#9c179e"
             ],
             [
              0.4444444444444444,
              "#bd3786"
             ],
             [
              0.5555555555555556,
              "#d8576b"
             ],
             [
              0.6666666666666666,
              "#ed7953"
             ],
             [
              0.7777777777777778,
              "#fb9f3a"
             ],
             [
              0.8888888888888888,
              "#fdca26"
             ],
             [
              1,
              "#f0f921"
             ]
            ],
            "type": "histogram2dcontour"
           }
          ],
          "mesh3d": [
           {
            "colorbar": {
             "outlinewidth": 0,
             "ticks": ""
            },
            "type": "mesh3d"
           }
          ],
          "parcoords": [
           {
            "line": {
             "colorbar": {
              "outlinewidth": 0,
              "ticks": ""
             }
            },
            "type": "parcoords"
           }
          ],
          "pie": [
           {
            "automargin": true,
            "type": "pie"
           }
          ],
          "scatter": [
           {
            "fillpattern": {
             "fillmode": "overlay",
             "size": 10,
             "solidity": 0.2
            },
            "type": "scatter"
           }
          ],
          "scatter3d": [
           {
            "line": {
             "colorbar": {
              "outlinewidth": 0,
              "ticks": ""
             }
            },
            "marker": {
             "colorbar": {
              "outlinewidth": 0,
              "ticks": ""
             }
            },
            "type": "scatter3d"
           }
          ],
          "scattercarpet": [
           {
            "marker": {
             "colorbar": {
              "outlinewidth": 0,
              "ticks": ""
             }
            },
            "type": "scattercarpet"
           }
          ],
          "scattergeo": [
           {
            "marker": {
             "colorbar": {
              "outlinewidth": 0,
              "ticks": ""
             }
            },
            "type": "scattergeo"
           }
          ],
          "scattergl": [
           {
            "marker": {
             "colorbar": {
              "outlinewidth": 0,
              "ticks": ""
             }
            },
            "type": "scattergl"
           }
          ],
          "scattermap": [
           {
            "marker": {
             "colorbar": {
              "outlinewidth": 0,
              "ticks": ""
             }
            },
            "type": "scattermap"
           }
          ],
          "scattermapbox": [
           {
            "marker": {
             "colorbar": {
              "outlinewidth": 0,
              "ticks": ""
             }
            },
            "type": "scattermapbox"
           }
          ],
          "scatterpolar": [
           {
            "marker": {
             "colorbar": {
              "outlinewidth": 0,
              "ticks": ""
             }
            },
            "type": "scatterpolar"
           }
          ],
          "scatterpolargl": [
           {
            "marker": {
             "colorbar": {
              "outlinewidth": 0,
              "ticks": ""
             }
            },
            "type": "scatterpolargl"
           }
          ],
          "scatterternary": [
           {
            "marker": {
             "colorbar": {
              "outlinewidth": 0,
              "ticks": ""
             }
            },
            "type": "scatterternary"
           }
          ],
          "surface": [
           {
            "colorbar": {
             "outlinewidth": 0,
             "ticks": ""
            },
            "colorscale": [
             [
              0,
              "#0d0887"
             ],
             [
              0.1111111111111111,
              "#46039f"
             ],
             [
              0.2222222222222222,
              "#7201a8"
             ],
             [
              0.3333333333333333,
              "#9c179e"
             ],
             [
              0.4444444444444444,
              "#bd3786"
             ],
             [
              0.5555555555555556,
              "#d8576b"
             ],
             [
              0.6666666666666666,
              "#ed7953"
             ],
             [
              0.7777777777777778,
              "#fb9f3a"
             ],
             [
              0.8888888888888888,
              "#fdca26"
             ],
             [
              1,
              "#f0f921"
             ]
            ],
            "type": "surface"
           }
          ],
          "table": [
           {
            "cells": {
             "fill": {
              "color": "#EBF0F8"
             },
             "line": {
              "color": "white"
             }
            },
            "header": {
             "fill": {
              "color": "#C8D4E3"
             },
             "line": {
              "color": "white"
             }
            },
            "type": "table"
           }
          ]
         },
         "layout": {
          "annotationdefaults": {
           "arrowcolor": "#2a3f5f",
           "arrowhead": 0,
           "arrowwidth": 1
          },
          "autotypenumbers": "strict",
          "coloraxis": {
           "colorbar": {
            "outlinewidth": 0,
            "ticks": ""
           }
          },
          "colorscale": {
           "diverging": [
            [
             0,
             "#8e0152"
            ],
            [
             0.1,
             "#c51b7d"
            ],
            [
             0.2,
             "#de77ae"
            ],
            [
             0.3,
             "#f1b6da"
            ],
            [
             0.4,
             "#fde0ef"
            ],
            [
             0.5,
             "#f7f7f7"
            ],
            [
             0.6,
             "#e6f5d0"
            ],
            [
             0.7,
             "#b8e186"
            ],
            [
             0.8,
             "#7fbc41"
            ],
            [
             0.9,
             "#4d9221"
            ],
            [
             1,
             "#276419"
            ]
           ],
           "sequential": [
            [
             0,
             "#0d0887"
            ],
            [
             0.1111111111111111,
             "#46039f"
            ],
            [
             0.2222222222222222,
             "#7201a8"
            ],
            [
             0.3333333333333333,
             "#9c179e"
            ],
            [
             0.4444444444444444,
             "#bd3786"
            ],
            [
             0.5555555555555556,
             "#d8576b"
            ],
            [
             0.6666666666666666,
             "#ed7953"
            ],
            [
             0.7777777777777778,
             "#fb9f3a"
            ],
            [
             0.8888888888888888,
             "#fdca26"
            ],
            [
             1,
             "#f0f921"
            ]
           ],
           "sequentialminus": [
            [
             0,
             "#0d0887"
            ],
            [
             0.1111111111111111,
             "#46039f"
            ],
            [
             0.2222222222222222,
             "#7201a8"
            ],
            [
             0.3333333333333333,
             "#9c179e"
            ],
            [
             0.4444444444444444,
             "#bd3786"
            ],
            [
             0.5555555555555556,
             "#d8576b"
            ],
            [
             0.6666666666666666,
             "#ed7953"
            ],
            [
             0.7777777777777778,
             "#fb9f3a"
            ],
            [
             0.8888888888888888,
             "#fdca26"
            ],
            [
             1,
             "#f0f921"
            ]
           ]
          },
          "colorway": [
           "#636efa",
           "#EF553B",
           "#00cc96",
           "#ab63fa",
           "#FFA15A",
           "#19d3f3",
           "#FF6692",
           "#B6E880",
           "#FF97FF",
           "#FECB52"
          ],
          "font": {
           "color": "#2a3f5f"
          },
          "geo": {
           "bgcolor": "white",
           "lakecolor": "white",
           "landcolor": "#E5ECF6",
           "showlakes": true,
           "showland": true,
           "subunitcolor": "white"
          },
          "hoverlabel": {
           "align": "left"
          },
          "hovermode": "closest",
          "mapbox": {
           "style": "light"
          },
          "paper_bgcolor": "white",
          "plot_bgcolor": "#E5ECF6",
          "polar": {
           "angularaxis": {
            "gridcolor": "white",
            "linecolor": "white",
            "ticks": ""
           },
           "bgcolor": "#E5ECF6",
           "radialaxis": {
            "gridcolor": "white",
            "linecolor": "white",
            "ticks": ""
           }
          },
          "scene": {
           "xaxis": {
            "backgroundcolor": "#E5ECF6",
            "gridcolor": "white",
            "gridwidth": 2,
            "linecolor": "white",
            "showbackground": true,
            "ticks": "",
            "zerolinecolor": "white"
           },
           "yaxis": {
            "backgroundcolor": "#E5ECF6",
            "gridcolor": "white",
            "gridwidth": 2,
            "linecolor": "white",
            "showbackground": true,
            "ticks": "",
            "zerolinecolor": "white"
           },
           "zaxis": {
            "backgroundcolor": "#E5ECF6",
            "gridcolor": "white",
            "gridwidth": 2,
            "linecolor": "white",
            "showbackground": true,
            "ticks": "",
            "zerolinecolor": "white"
           }
          },
          "shapedefaults": {
           "line": {
            "color": "#2a3f5f"
           }
          },
          "ternary": {
           "aaxis": {
            "gridcolor": "white",
            "linecolor": "white",
            "ticks": ""
           },
           "baxis": {
            "gridcolor": "white",
            "linecolor": "white",
            "ticks": ""
           },
           "bgcolor": "#E5ECF6",
           "caxis": {
            "gridcolor": "white",
            "linecolor": "white",
            "ticks": ""
           }
          },
          "title": {
           "x": 0.05
          },
          "xaxis": {
           "automargin": true,
           "gridcolor": "white",
           "linecolor": "white",
           "ticks": "",
           "title": {
            "standoff": 15
           },
           "zerolinecolor": "white",
           "zerolinewidth": 2
          },
          "yaxis": {
           "automargin": true,
           "gridcolor": "white",
           "linecolor": "white",
           "ticks": "",
           "title": {
            "standoff": 15
           },
           "zerolinecolor": "white",
           "zerolinewidth": 2
          }
         }
        },
        "title": {
         "text": "Top 50 Word Frequencies"
        },
        "xaxis": {
         "anchor": "y",
         "domain": [
          0,
          1
         ],
         "title": {
          "text": "Word"
         }
        },
        "yaxis": {
         "anchor": "x",
         "domain": [
          0,
          1
         ],
         "title": {
          "text": "Frequency"
         }
        }
       }
      }
     },
     "metadata": {},
     "output_type": "display_data"
    }
   ],
   "source": [
    "# Check word frequencies to determine NUM_WORDS\n",
    "word_counts = tokenizer.word_counts\n",
    "sorted_word_counts = sorted(word_counts.items(), key=lambda x: x[1], reverse=True)\n",
    "\n",
    "# Display the most common words and their frequencies\n",
    "print(\"\\nMost Common Words and Their Frequencies:\\n\")\n",
    "for word, count in sorted_word_counts[:20]:\n",
    "    print(f\"{word}: {count}\")\n",
    "\n",
    "# Plot word frequencies for the top 50 words\n",
    "top_words = pd.DataFrame(sorted_word_counts[:50], columns=['Word', 'Frequency'])\n",
    "fig = px.bar(top_words, x='Word', y='Frequency', title='Top 50 Word Frequencies', labels={'Word': 'Word', 'Frequency': 'Frequency'})\n",
    "fig.show()\n"
   ]
  },
  {
   "cell_type": "code",
   "execution_count": 21,
   "metadata": {},
   "outputs": [
    {
     "name": "stdout",
     "output_type": "stream",
     "text": [
      "Original Message: jurong point crazy available bugis n great world la e buffet cine amore wat\n",
      "Tokenized Message: [1, 226, 432, 450, 911, 34, 50, 202, 743, 77, 1, 912, 1, 56]\n",
      "Padded Sequence: [  1 226 432 450 911  34  50 202 743  77   1 912   1  56   0   0   0   0\n",
      "   0   0   0   0   0   0   0   0   0   0   0   0   0   0   0   0   0   0\n",
      "   0   0   0   0   0   0   0   0   0   0   0   0   0   0   0   0   0   0\n",
      "   0   0   0   0   0   0   0   0   0   0   0   0   0   0   0   0   0]\n"
     ]
    }
   ],
   "source": [
    "# Inspecting a sample of a tokenized message\n",
    "print(\"Original Message:\", data['cleaned_message'][0])\n",
    "print(\"Tokenized Message:\", data['tokenized_message'][0])\n",
    "print(\"Padded Sequence:\", padded_sequences[0])"
   ]
  },
  {
   "cell_type": "code",
   "execution_count": 22,
   "metadata": {},
   "outputs": [
    {
     "data": {
      "text/html": [
       "<div>\n",
       "<style scoped>\n",
       "    .dataframe tbody tr th:only-of-type {\n",
       "        vertical-align: middle;\n",
       "    }\n",
       "\n",
       "    .dataframe tbody tr th {\n",
       "        vertical-align: top;\n",
       "    }\n",
       "\n",
       "    .dataframe thead th {\n",
       "        text-align: right;\n",
       "    }\n",
       "</style>\n",
       "<table border=\"1\" class=\"dataframe\">\n",
       "  <thead>\n",
       "    <tr style=\"text-align: right;\">\n",
       "      <th></th>\n",
       "      <th>label</th>\n",
       "      <th>message</th>\n",
       "      <th>message_length</th>\n",
       "      <th>cleaned_message</th>\n",
       "      <th>tokenized_message</th>\n",
       "    </tr>\n",
       "  </thead>\n",
       "  <tbody>\n",
       "    <tr>\n",
       "      <th>0</th>\n",
       "      <td>0</td>\n",
       "      <td>Go until jurong point, crazy.. Available only ...</td>\n",
       "      <td>114</td>\n",
       "      <td>jurong point crazy available bugis n great wor...</td>\n",
       "      <td>[1, 226, 432, 450, 911, 34, 50, 202, 743, 77, ...</td>\n",
       "    </tr>\n",
       "    <tr>\n",
       "      <th>1</th>\n",
       "      <td>0</td>\n",
       "      <td>Ok lar... Joking wif u oni...</td>\n",
       "      <td>32</td>\n",
       "      <td>ok lar joking wif u oni</td>\n",
       "      <td>[9, 191, 1, 285, 3, 1]</td>\n",
       "    </tr>\n",
       "    <tr>\n",
       "      <th>2</th>\n",
       "      <td>1</td>\n",
       "      <td>Free entry in 2 a wkly comp to win FA Cup fina...</td>\n",
       "      <td>158</td>\n",
       "      <td>free entry wkly comp win fa cup final tkts st ...</td>\n",
       "      <td>[10, 295, 513, 636, 31, 1, 744, 413, 1, 125, 1...</td>\n",
       "    </tr>\n",
       "    <tr>\n",
       "      <th>3</th>\n",
       "      <td>0</td>\n",
       "      <td>U dun say so early hor... U c already then say...</td>\n",
       "      <td>52</td>\n",
       "      <td>u dun early hor u c</td>\n",
       "      <td>[3, 124, 150, 1, 3, 82]</td>\n",
       "    </tr>\n",
       "    <tr>\n",
       "      <th>4</th>\n",
       "      <td>0</td>\n",
       "      <td>Nah I don't think he goes to usf, he lives aro...</td>\n",
       "      <td>64</td>\n",
       "      <td>nah I think usf live</td>\n",
       "      <td>[685, 2, 21, 637, 131]</td>\n",
       "    </tr>\n",
       "  </tbody>\n",
       "</table>\n",
       "</div>"
      ],
      "text/plain": [
       "   label                                            message  message_length  \\\n",
       "0      0  Go until jurong point, crazy.. Available only ...             114   \n",
       "1      0                   Ok lar... Joking wif u oni...                 32   \n",
       "2      1  Free entry in 2 a wkly comp to win FA Cup fina...             158   \n",
       "3      0  U dun say so early hor... U c already then say...              52   \n",
       "4      0  Nah I don't think he goes to usf, he lives aro...              64   \n",
       "\n",
       "                                     cleaned_message  \\\n",
       "0  jurong point crazy available bugis n great wor...   \n",
       "1                            ok lar joking wif u oni   \n",
       "2  free entry wkly comp win fa cup final tkts st ...   \n",
       "3                                u dun early hor u c   \n",
       "4                               nah I think usf live   \n",
       "\n",
       "                                   tokenized_message  \n",
       "0  [1, 226, 432, 450, 911, 34, 50, 202, 743, 77, ...  \n",
       "1                             [9, 191, 1, 285, 3, 1]  \n",
       "2  [10, 295, 513, 636, 31, 1, 744, 413, 1, 125, 1...  \n",
       "3                            [3, 124, 150, 1, 3, 82]  \n",
       "4                             [685, 2, 21, 637, 131]  "
      ]
     },
     "execution_count": 22,
     "metadata": {},
     "output_type": "execute_result"
    }
   ],
   "source": [
    "data.head()"
   ]
  },
  {
   "cell_type": "markdown",
   "metadata": {},
   "source": [
    "## Preprocessing"
   ]
  },
  {
   "cell_type": "code",
   "execution_count": 23,
   "metadata": {},
   "outputs": [
    {
     "name": "stdout",
     "output_type": "stream",
     "text": [
      "Dataset size: 5572\n",
      "Train set size: 3565\n",
      "Validation set size: 892\n",
      "Test set size: 1115\n"
     ]
    }
   ],
   "source": [
    "# Train-test split\n",
    "X = padded_sequences\n",
    "y = data[\"label\"]\n",
    "\n",
    "x_temp, x_test, y_temp, y_test = train_test_split(X, y, test_size=0.2, random_state=42)\n",
    "x_train, x_val, y_train, y_val = train_test_split(\n",
    "    x_temp, y_temp, test_size=0.2, random_state=42\n",
    ")\n",
    "\n",
    "print(f\"Dataset size: {len(y_temp) + len(x_test)}\")\n",
    "print(f\"Train set size: {len(x_train)}\")\n",
    "print(f\"Validation set size: {len(x_val)}\")\n",
    "print(f\"Test set size: {len(x_test)}\")"
   ]
  },
  {
   "cell_type": "code",
   "execution_count": 24,
   "metadata": {},
   "outputs": [
    {
     "name": "stderr",
     "output_type": "stream",
     "text": [
      "E0000 00:00:1741959210.581941   34716 cuda_executor.cc:1228] INTERNAL: CUDA Runtime error: Failed call to cudaGetRuntimeVersion: Error loading CUDA libraries. GPU will not be used.: Error loading CUDA libraries. GPU will not be used.\n",
      "W0000 00:00:1741959210.582763   34716 gpu_device.cc:2341] Cannot dlopen some GPU libraries. Please make sure the missing libraries mentioned above are installed properly if you would like to use GPU. Follow the guide at https://www.tensorflow.org/install/gpu for how to download and setup the required libraries for your platform.\n",
      "Skipping registering GPU devices...\n"
     ]
    }
   ],
   "source": [
    "BATCH_SIZE = 32\n",
    "\n",
    "# Create TensorFlow Batches\n",
    "train = Dataset.from_tensor_slices((x_train, y_train))\n",
    "val = Dataset.from_tensor_slices((x_val, y_val))\n",
    "\n",
    "train_batch = train.shuffle(len(x_train)).batch(BATCH_SIZE)\n",
    "val_batch = val.shuffle(len(x_val)).batch(BATCH_SIZE)"
   ]
  },
  {
   "cell_type": "code",
   "execution_count": 25,
   "metadata": {},
   "outputs": [
    {
     "name": "stdout",
     "output_type": "stream",
     "text": [
      "tf.Tensor(\n",
      "[[ 42   3 447 ...   0   0   0]\n",
      " [  1   1   0 ...   0   0   0]\n",
      " [184   1 572 ...   0   0   0]\n",
      " ...\n",
      " [  1 933  34 ...   0   0   0]\n",
      " [  1   2  18 ...   0   0   0]\n",
      " [  2  21   2 ...   0   0   0]], shape=(32, 71), dtype=int32) tf.Tensor([0 0 0 1 0 0 0 0 1 0 0 0 1 0 0 1 0 0 0 0 0 0 0 0 0 0 1 0 1 0 0 0], shape=(32,), dtype=int64)\n"
     ]
    },
    {
     "name": "stderr",
     "output_type": "stream",
     "text": [
      "2025-03-14 14:33:34.641676: I tensorflow/core/framework/local_rendezvous.cc:407] Local rendezvous is aborting with status: OUT_OF_RANGE: End of sequence\n"
     ]
    }
   ],
   "source": [
    "# Visualize a sample batch\n",
    "for text, label in train_batch.take(1):\n",
    "    print(text, label)"
   ]
  },
  {
   "cell_type": "markdown",
   "metadata": {},
   "source": [
    "## Deep Learning model training"
   ]
  },
  {
   "cell_type": "markdown",
   "metadata": {},
   "source": [
    "### Word Embedding"
   ]
  },
  {
   "cell_type": "code",
   "execution_count": 26,
   "metadata": {},
   "outputs": [],
   "source": [
    "vocab_size = tokenizer.num_words\n",
    "embedding_dim = 128\n",
    "\n",
    "model_embed = Sequential(\n",
    "    [\n",
    "        Input(shape=(text.shape[1],)),\n",
    "        Embedding(vocab_size + 2, embedding_dim, name=\"embedding\"),\n",
    "        GlobalAveragePooling1D(),\n",
    "        Dense(128, activation=\"relu\"),\n",
    "        Dense(64, activation=\"relu\"),\n",
    "        Dense(1, activation=\"sigmoid\"),\n",
    "    ]\n",
    ")"
   ]
  },
  {
   "cell_type": "code",
   "execution_count": 27,
   "metadata": {},
   "outputs": [
    {
     "data": {
      "text/html": [
       "<pre style=\"white-space:pre;overflow-x:auto;line-height:normal;font-family:Menlo,'DejaVu Sans Mono',consolas,'Courier New',monospace\"><span style=\"font-weight: bold\">Model: \"sequential\"</span>\n",
       "</pre>\n"
      ],
      "text/plain": [
       "\u001b[1mModel: \"sequential\"\u001b[0m\n"
      ]
     },
     "metadata": {},
     "output_type": "display_data"
    },
    {
     "data": {
      "text/html": [
       "<pre style=\"white-space:pre;overflow-x:auto;line-height:normal;font-family:Menlo,'DejaVu Sans Mono',consolas,'Courier New',monospace\">┏━━━━━━━━━━━━━━━━━━━━━━━━━━━━━━━━━┳━━━━━━━━━━━━━━━━━━━━━━━━┳━━━━━━━━━━━━━━━┓\n",
       "┃<span style=\"font-weight: bold\"> Layer (type)                    </span>┃<span style=\"font-weight: bold\"> Output Shape           </span>┃<span style=\"font-weight: bold\">       Param # </span>┃\n",
       "┡━━━━━━━━━━━━━━━━━━━━━━━━━━━━━━━━━╇━━━━━━━━━━━━━━━━━━━━━━━━╇━━━━━━━━━━━━━━━┩\n",
       "│ embedding (<span style=\"color: #0087ff; text-decoration-color: #0087ff\">Embedding</span>)           │ (<span style=\"color: #00d7ff; text-decoration-color: #00d7ff\">None</span>, <span style=\"color: #00af00; text-decoration-color: #00af00\">71</span>, <span style=\"color: #00af00; text-decoration-color: #00af00\">128</span>)        │       <span style=\"color: #00af00; text-decoration-color: #00af00\">128,256</span> │\n",
       "├─────────────────────────────────┼────────────────────────┼───────────────┤\n",
       "│ global_average_pooling1d        │ (<span style=\"color: #00d7ff; text-decoration-color: #00d7ff\">None</span>, <span style=\"color: #00af00; text-decoration-color: #00af00\">128</span>)            │             <span style=\"color: #00af00; text-decoration-color: #00af00\">0</span> │\n",
       "│ (<span style=\"color: #0087ff; text-decoration-color: #0087ff\">GlobalAveragePooling1D</span>)        │                        │               │\n",
       "├─────────────────────────────────┼────────────────────────┼───────────────┤\n",
       "│ dense (<span style=\"color: #0087ff; text-decoration-color: #0087ff\">Dense</span>)                   │ (<span style=\"color: #00d7ff; text-decoration-color: #00d7ff\">None</span>, <span style=\"color: #00af00; text-decoration-color: #00af00\">128</span>)            │        <span style=\"color: #00af00; text-decoration-color: #00af00\">16,512</span> │\n",
       "├─────────────────────────────────┼────────────────────────┼───────────────┤\n",
       "│ dense_1 (<span style=\"color: #0087ff; text-decoration-color: #0087ff\">Dense</span>)                 │ (<span style=\"color: #00d7ff; text-decoration-color: #00d7ff\">None</span>, <span style=\"color: #00af00; text-decoration-color: #00af00\">64</span>)             │         <span style=\"color: #00af00; text-decoration-color: #00af00\">8,256</span> │\n",
       "├─────────────────────────────────┼────────────────────────┼───────────────┤\n",
       "│ dense_2 (<span style=\"color: #0087ff; text-decoration-color: #0087ff\">Dense</span>)                 │ (<span style=\"color: #00d7ff; text-decoration-color: #00d7ff\">None</span>, <span style=\"color: #00af00; text-decoration-color: #00af00\">1</span>)              │            <span style=\"color: #00af00; text-decoration-color: #00af00\">65</span> │\n",
       "└─────────────────────────────────┴────────────────────────┴───────────────┘\n",
       "</pre>\n"
      ],
      "text/plain": [
       "┏━━━━━━━━━━━━━━━━━━━━━━━━━━━━━━━━━┳━━━━━━━━━━━━━━━━━━━━━━━━┳━━━━━━━━━━━━━━━┓\n",
       "┃\u001b[1m \u001b[0m\u001b[1mLayer (type)                   \u001b[0m\u001b[1m \u001b[0m┃\u001b[1m \u001b[0m\u001b[1mOutput Shape          \u001b[0m\u001b[1m \u001b[0m┃\u001b[1m \u001b[0m\u001b[1m      Param #\u001b[0m\u001b[1m \u001b[0m┃\n",
       "┡━━━━━━━━━━━━━━━━━━━━━━━━━━━━━━━━━╇━━━━━━━━━━━━━━━━━━━━━━━━╇━━━━━━━━━━━━━━━┩\n",
       "│ embedding (\u001b[38;5;33mEmbedding\u001b[0m)           │ (\u001b[38;5;45mNone\u001b[0m, \u001b[38;5;34m71\u001b[0m, \u001b[38;5;34m128\u001b[0m)        │       \u001b[38;5;34m128,256\u001b[0m │\n",
       "├─────────────────────────────────┼────────────────────────┼───────────────┤\n",
       "│ global_average_pooling1d        │ (\u001b[38;5;45mNone\u001b[0m, \u001b[38;5;34m128\u001b[0m)            │             \u001b[38;5;34m0\u001b[0m │\n",
       "│ (\u001b[38;5;33mGlobalAveragePooling1D\u001b[0m)        │                        │               │\n",
       "├─────────────────────────────────┼────────────────────────┼───────────────┤\n",
       "│ dense (\u001b[38;5;33mDense\u001b[0m)                   │ (\u001b[38;5;45mNone\u001b[0m, \u001b[38;5;34m128\u001b[0m)            │        \u001b[38;5;34m16,512\u001b[0m │\n",
       "├─────────────────────────────────┼────────────────────────┼───────────────┤\n",
       "│ dense_1 (\u001b[38;5;33mDense\u001b[0m)                 │ (\u001b[38;5;45mNone\u001b[0m, \u001b[38;5;34m64\u001b[0m)             │         \u001b[38;5;34m8,256\u001b[0m │\n",
       "├─────────────────────────────────┼────────────────────────┼───────────────┤\n",
       "│ dense_2 (\u001b[38;5;33mDense\u001b[0m)                 │ (\u001b[38;5;45mNone\u001b[0m, \u001b[38;5;34m1\u001b[0m)              │            \u001b[38;5;34m65\u001b[0m │\n",
       "└─────────────────────────────────┴────────────────────────┴───────────────┘\n"
      ]
     },
     "metadata": {},
     "output_type": "display_data"
    },
    {
     "data": {
      "text/html": [
       "<pre style=\"white-space:pre;overflow-x:auto;line-height:normal;font-family:Menlo,'DejaVu Sans Mono',consolas,'Courier New',monospace\"><span style=\"font-weight: bold\"> Total params: </span><span style=\"color: #00af00; text-decoration-color: #00af00\">153,089</span> (598.00 KB)\n",
       "</pre>\n"
      ],
      "text/plain": [
       "\u001b[1m Total params: \u001b[0m\u001b[38;5;34m153,089\u001b[0m (598.00 KB)\n"
      ]
     },
     "metadata": {},
     "output_type": "display_data"
    },
    {
     "data": {
      "text/html": [
       "<pre style=\"white-space:pre;overflow-x:auto;line-height:normal;font-family:Menlo,'DejaVu Sans Mono',consolas,'Courier New',monospace\"><span style=\"font-weight: bold\"> Trainable params: </span><span style=\"color: #00af00; text-decoration-color: #00af00\">153,089</span> (598.00 KB)\n",
       "</pre>\n"
      ],
      "text/plain": [
       "\u001b[1m Trainable params: \u001b[0m\u001b[38;5;34m153,089\u001b[0m (598.00 KB)\n"
      ]
     },
     "metadata": {},
     "output_type": "display_data"
    },
    {
     "data": {
      "text/html": [
       "<pre style=\"white-space:pre;overflow-x:auto;line-height:normal;font-family:Menlo,'DejaVu Sans Mono',consolas,'Courier New',monospace\"><span style=\"font-weight: bold\"> Non-trainable params: </span><span style=\"color: #00af00; text-decoration-color: #00af00\">0</span> (0.00 B)\n",
       "</pre>\n"
      ],
      "text/plain": [
       "\u001b[1m Non-trainable params: \u001b[0m\u001b[38;5;34m0\u001b[0m (0.00 B)\n"
      ]
     },
     "metadata": {},
     "output_type": "display_data"
    }
   ],
   "source": [
    "model_embed.summary()"
   ]
  },
  {
   "cell_type": "code",
   "execution_count": 28,
   "metadata": {},
   "outputs": [],
   "source": [
    "metrics = [\n",
    "    BinaryAccuracy(name=\"accuracy\"),\n",
    "    Precision(name=\"precision\"),\n",
    "    Recall(name=\"recall\"),\n",
    "]\n",
    "\n",
    "model_embed.compile(optimizer=\"adam\", loss=\"binary_crossentropy\", metrics=metrics)"
   ]
  },
  {
   "cell_type": "code",
   "execution_count": 29,
   "metadata": {},
   "outputs": [
    {
     "data": {
      "text/plain": [
       "label\n",
       "0    4825\n",
       "1     747\n",
       "Name: count, dtype: int64"
      ]
     },
     "execution_count": 29,
     "metadata": {},
     "output_type": "execute_result"
    }
   ],
   "source": [
    "class_counts = data[\"label\"].value_counts()\n",
    "class_counts"
   ]
  },
  {
   "cell_type": "code",
   "execution_count": 30,
   "metadata": {},
   "outputs": [
    {
     "data": {
      "text/plain": [
       "{0: 0.5774093264248704, 1: 3.72958500669344}"
      ]
     },
     "execution_count": 30,
     "metadata": {},
     "output_type": "execute_result"
    }
   ],
   "source": [
    "total_samples = len(data)\n",
    "num_classes = 2\n",
    "\n",
    "class_weights = {}\n",
    "for clss, count in class_counts.items():\n",
    "    weight = (1 / count) * total_samples / num_classes\n",
    "    class_weights[clss] = weight\n",
    "\n",
    "class_weights"
   ]
  },
  {
   "cell_type": "code",
   "execution_count": 31,
   "metadata": {},
   "outputs": [
    {
     "name": "stdout",
     "output_type": "stream",
     "text": [
      "Epoch 1/20\n"
     ]
    },
    {
     "name": "stdout",
     "output_type": "stream",
     "text": [
      "\u001b[1m112/112\u001b[0m \u001b[32m━━━━━━━━━━━━━━━━━━━━\u001b[0m\u001b[37m\u001b[0m \u001b[1m1s\u001b[0m 5ms/step - accuracy: 0.7140 - loss: 0.6908 - precision: 0.1645 - recall: 0.3098 - val_accuracy: 0.8991 - val_loss: 0.3118 - val_precision: 0.5690 - val_recall: 0.3367\n",
      "Epoch 2/20\n",
      "\u001b[1m112/112\u001b[0m \u001b[32m━━━━━━━━━━━━━━━━━━━━\u001b[0m\u001b[37m\u001b[0m \u001b[1m0s\u001b[0m 3ms/step - accuracy: 0.8527 - loss: 0.4266 - precision: 0.4928 - recall: 0.7817 - val_accuracy: 0.9496 - val_loss: 0.1575 - val_precision: 0.7624 - val_recall: 0.7857\n",
      "Epoch 3/20\n",
      "\u001b[1m112/112\u001b[0m \u001b[32m━━━━━━━━━━━━━━━━━━━━\u001b[0m\u001b[37m\u001b[0m \u001b[1m0s\u001b[0m 3ms/step - accuracy: 0.8869 - loss: 0.3126 - precision: 0.5827 - recall: 0.8540 - val_accuracy: 0.9563 - val_loss: 0.1495 - val_precision: 0.7658 - val_recall: 0.8673\n",
      "Epoch 4/20\n",
      "\u001b[1m112/112\u001b[0m \u001b[32m━━━━━━━━━━━━━━━━━━━━\u001b[0m\u001b[37m\u001b[0m \u001b[1m0s\u001b[0m 3ms/step - accuracy: 0.9643 - loss: 0.1407 - precision: 0.8344 - recall: 0.9219 - val_accuracy: 0.9697 - val_loss: 0.0981 - val_precision: 0.9277 - val_recall: 0.7857\n",
      "Epoch 5/20\n",
      "\u001b[1m112/112\u001b[0m \u001b[32m━━━━━━━━━━━━━━━━━━━━\u001b[0m\u001b[37m\u001b[0m \u001b[1m0s\u001b[0m 3ms/step - accuracy: 0.9466 - loss: 0.1744 - precision: 0.7678 - recall: 0.9321 - val_accuracy: 0.9630 - val_loss: 0.1212 - val_precision: 0.9851 - val_recall: 0.6735\n",
      "Epoch 6/20\n",
      "\u001b[1m112/112\u001b[0m \u001b[32m━━━━━━━━━━━━━━━━━━━━\u001b[0m\u001b[37m\u001b[0m \u001b[1m0s\u001b[0m 3ms/step - accuracy: 0.9582 - loss: 0.1395 - precision: 0.8136 - recall: 0.9374 - val_accuracy: 0.9809 - val_loss: 0.0806 - val_precision: 0.9451 - val_recall: 0.8776\n",
      "Epoch 7/20\n",
      "\u001b[1m112/112\u001b[0m \u001b[32m━━━━━━━━━━━━━━━━━━━━\u001b[0m\u001b[37m\u001b[0m \u001b[1m0s\u001b[0m 3ms/step - accuracy: 0.9689 - loss: 0.0964 - precision: 0.8376 - recall: 0.9448 - val_accuracy: 0.9574 - val_loss: 0.1251 - val_precision: 0.7542 - val_recall: 0.9082\n",
      "Epoch 8/20\n",
      "\u001b[1m112/112\u001b[0m \u001b[32m━━━━━━━━━━━━━━━━━━━━\u001b[0m\u001b[37m\u001b[0m \u001b[1m0s\u001b[0m 3ms/step - accuracy: 0.9713 - loss: 0.0946 - precision: 0.8548 - recall: 0.9618 - val_accuracy: 0.9574 - val_loss: 0.1468 - val_precision: 0.7500 - val_recall: 0.9184\n",
      "Epoch 9/20\n",
      "\u001b[1m112/112\u001b[0m \u001b[32m━━━━━━━━━━━━━━━━━━━━\u001b[0m\u001b[37m\u001b[0m \u001b[1m0s\u001b[0m 3ms/step - accuracy: 0.9642 - loss: 0.1016 - precision: 0.8107 - recall: 0.9603 - val_accuracy: 0.8857 - val_loss: 0.2776 - val_precision: 0.4896 - val_recall: 0.9592\n",
      "Epoch 10/20\n",
      "\u001b[1m112/112\u001b[0m \u001b[32m━━━━━━━━━━━━━━━━━━━━\u001b[0m\u001b[37m\u001b[0m \u001b[1m0s\u001b[0m 3ms/step - accuracy: 0.9582 - loss: 0.1181 - precision: 0.7951 - recall: 0.9492 - val_accuracy: 0.9742 - val_loss: 0.0807 - val_precision: 0.8866 - val_recall: 0.8776\n",
      "Epoch 11/20\n",
      "\u001b[1m112/112\u001b[0m \u001b[32m━━━━━━━━━━━━━━━━━━━━\u001b[0m\u001b[37m\u001b[0m \u001b[1m0s\u001b[0m 3ms/step - accuracy: 0.9582 - loss: 0.1439 - precision: 0.8077 - recall: 0.9452 - val_accuracy: 0.9709 - val_loss: 0.0904 - val_precision: 0.8529 - val_recall: 0.8878\n",
      "Epoch 12/20\n",
      "\u001b[1m112/112\u001b[0m \u001b[32m━━━━━━━━━━━━━━━━━━━━\u001b[0m\u001b[37m\u001b[0m \u001b[1m0s\u001b[0m 3ms/step - accuracy: 0.9791 - loss: 0.0654 - precision: 0.8859 - recall: 0.9690 - val_accuracy: 0.9484 - val_loss: 0.1439 - val_precision: 0.6970 - val_recall: 0.9388\n",
      "Epoch 13/20\n",
      "\u001b[1m112/112\u001b[0m \u001b[32m━━━━━━━━━━━━━━━━━━━━\u001b[0m\u001b[37m\u001b[0m \u001b[1m0s\u001b[0m 3ms/step - accuracy: 0.9745 - loss: 0.0886 - precision: 0.8699 - recall: 0.9747 - val_accuracy: 0.9731 - val_loss: 0.0896 - val_precision: 0.9744 - val_recall: 0.7755\n",
      "Epoch 14/20\n",
      "\u001b[1m112/112\u001b[0m \u001b[32m━━━━━━━━━━━━━━━━━━━━\u001b[0m\u001b[37m\u001b[0m \u001b[1m0s\u001b[0m 3ms/step - accuracy: 0.9391 - loss: 0.1932 - precision: 0.7366 - recall: 0.8940 - val_accuracy: 0.9473 - val_loss: 0.1408 - val_precision: 0.6947 - val_recall: 0.9286\n",
      "Epoch 15/20\n",
      "\u001b[1m112/112\u001b[0m \u001b[32m━━━━━━━━━━━━━━━━━━━━\u001b[0m\u001b[37m\u001b[0m \u001b[1m0s\u001b[0m 3ms/step - accuracy: 0.9773 - loss: 0.0610 - precision: 0.8711 - recall: 0.9822 - val_accuracy: 0.9720 - val_loss: 0.0828 - val_precision: 0.8614 - val_recall: 0.8878\n",
      "Epoch 16/20\n",
      "\u001b[1m112/112\u001b[0m \u001b[32m━━━━━━━━━━━━━━━━━━━━\u001b[0m\u001b[37m\u001b[0m \u001b[1m0s\u001b[0m 3ms/step - accuracy: 0.9810 - loss: 0.0527 - precision: 0.8942 - recall: 0.9861 - val_accuracy: 0.9484 - val_loss: 0.1582 - val_precision: 0.6970 - val_recall: 0.9388\n",
      "Epoch 17/20\n",
      "\u001b[1m112/112\u001b[0m \u001b[32m━━━━━━━━━━━━━━━━━━━━\u001b[0m\u001b[37m\u001b[0m \u001b[1m0s\u001b[0m 3ms/step - accuracy: 0.9857 - loss: 0.0441 - precision: 0.9174 - recall: 0.9861 - val_accuracy: 0.9787 - val_loss: 0.0928 - val_precision: 0.9759 - val_recall: 0.8265\n",
      "Epoch 18/20\n",
      "\u001b[1m112/112\u001b[0m \u001b[32m━━━━━━━━━━━━━━━━━━━━\u001b[0m\u001b[37m\u001b[0m \u001b[1m0s\u001b[0m 3ms/step - accuracy: 0.9738 - loss: 0.0632 - precision: 0.8626 - recall: 0.9668 - val_accuracy: 0.9709 - val_loss: 0.0948 - val_precision: 0.9865 - val_recall: 0.7449\n",
      "Epoch 19/20\n",
      "\u001b[1m112/112\u001b[0m \u001b[32m━━━━━━━━━━━━━━━━━━━━\u001b[0m\u001b[37m\u001b[0m \u001b[1m0s\u001b[0m 3ms/step - accuracy: 0.9798 - loss: 0.0681 - precision: 0.8945 - recall: 0.9640 - val_accuracy: 0.9697 - val_loss: 0.0853 - val_precision: 0.8381 - val_recall: 0.8980\n",
      "Epoch 20/20\n",
      "\u001b[1m112/112\u001b[0m \u001b[32m━━━━━━━━━━━━━━━━━━━━\u001b[0m\u001b[37m\u001b[0m \u001b[1m0s\u001b[0m 3ms/step - accuracy: 0.9862 - loss: 0.0470 - precision: 0.9262 - recall: 0.9785 - val_accuracy: 0.9675 - val_loss: 0.0973 - val_precision: 0.8165 - val_recall: 0.9082\n"
     ]
    }
   ],
   "source": [
    "history = model_embed.fit(\n",
    "    train_batch, epochs=20, validation_data=val_batch, class_weight=class_weights\n",
    ")"
   ]
  },
  {
   "cell_type": "code",
   "execution_count": 32,
   "metadata": {},
   "outputs": [],
   "source": [
    "model_embed.save(\"./models/model_wordembed.keras\")"
   ]
  },
  {
   "cell_type": "code",
   "execution_count": 33,
   "metadata": {},
   "outputs": [
    {
     "name": "stdout",
     "output_type": "stream",
     "text": [
      "\u001b[1m35/35\u001b[0m \u001b[32m━━━━━━━━━━━━━━━━━━━━\u001b[0m\u001b[37m\u001b[0m \u001b[1m0s\u001b[0m 2ms/step\n"
     ]
    },
    {
     "data": {
      "image/png": "[encoded data removed]",
      "text/plain": [
       "<Figure size 640x480 with 2 Axes>"
      ]
     },
     "metadata": {},
     "output_type": "display_data"
    }
   ],
   "source": [
    "# Evaluate the Model\n",
    "y_pred = (model_embed.predict(x_test) > 0.5).astype(\"int\")\n",
    "\n",
    "cm = confusion_matrix(y_test, y_pred)\n",
    "disp = ConfusionMatrixDisplay(confusion_matrix=cm, display_labels=[\"Ham\", \"Spam\"])\n",
    "disp.plot(cmap=plt.cm.Blues)\n",
    "plt.title(\"Confusion Matrix\")\n",
    "plt.show()"
   ]
  },
  {
   "cell_type": "code",
   "execution_count": 34,
   "metadata": {},
   "outputs": [
    {
     "name": "stdout",
     "output_type": "stream",
     "text": [
      "              precision    recall  f1-score   support\n",
      "\n",
      "           0       0.99      0.98      0.98       965\n",
      "           1       0.87      0.92      0.89       150\n",
      "\n",
      "    accuracy                           0.97      1115\n",
      "   macro avg       0.93      0.95      0.94      1115\n",
      "weighted avg       0.97      0.97      0.97      1115\n",
      "\n"
     ]
    }
   ],
   "source": [
    "# Classification Report\n",
    "print(classification_report(y_test, y_pred))"
   ]
  },
  {
   "cell_type": "code",
   "execution_count": 35,
   "metadata": {},
   "outputs": [
    {
     "data": {
      "image/png": "[encoded data removed]",
      "text/plain": [
       "<Figure size 1000x600 with 1 Axes>"
      ]
     },
     "metadata": {},
     "output_type": "display_data"
    }
   ],
   "source": [
    "# Plot Training History\n",
    "plt.figure(figsize=(10, 6))\n",
    "plt.plot(history.history['accuracy'], label='Train Accuracy')\n",
    "plt.plot(history.history['val_accuracy'], label='Validation Accuracy')\n",
    "plt.xlabel('Epochs')\n",
    "plt.ylabel('Accuracy')\n",
    "plt.legend()\n",
    "plt.title('Training vs Validation Accuracy')\n",
    "plt.show()"
   ]
  },
  {
   "cell_type": "markdown",
   "metadata": {},
   "source": [
    "### Test with your own SMS !"
   ]
  },
  {
   "cell_type": "code",
   "execution_count": 36,
   "metadata": {},
   "outputs": [],
   "source": [
    "example_sms = {\n",
    "    \"spam1\": \"Congratulations! You've won a $1,000 Walmart gift card. Go to http://bit.ly/123456 to claim now.\",\n",
    "    \"ham1\": \"Hey, what time are we meeting tomorrow?\",\n",
    "    \"spam2\": \"Get a free iPhone by clicking on the link below!\",\n",
    "    \"ham2\": \"Don't forget to bring your umbrella tomorrow.\",\n",
    "    \"spam3\": \"URGENT! You have won a 1 week FREE membership. Call 09061701461 now!\",\n",
    "    \"ham3\": \"Can you send me the notes from today's meeting?\"\n",
    "}"
   ]
  },
  {
   "cell_type": "code",
   "execution_count": 37,
   "metadata": {},
   "outputs": [],
   "source": [
    "def predict_sms(sms_text, model, tokenizer, maxlen=100):\n",
    "    \"\"\"Predict if an SMS is spam or not\"\"\"\n",
    "    # Preprocess the SMS\n",
    "    sms_cleaned = clean_text(sms_text)\n",
    "\n",
    "    # Tokenize and pad the SMS\n",
    "    sms_sequence = tokenizer.texts_to_sequences([sms_cleaned])\n",
    "    sms_padded = pad_sequences(\n",
    "        sms_sequence, maxlen=maxlen, padding=\"post\", truncating=\"post\"\n",
    "    )\n",
    "\n",
    "    # Predict using the model\n",
    "    prediction = model.predict(sms_padded)\n",
    "    label = \"Spam\" if prediction[0] > 0.5 else \"Non-Spam\"\n",
    "\n",
    "    return label, prediction[0][0] * 100"
   ]
  },
  {
   "cell_type": "code",
   "execution_count": 39,
   "metadata": {},
   "outputs": [
    {
     "name": "stdout",
     "output_type": "stream",
     "text": [
      "\u001b[1m1/1\u001b[0m \u001b[32m━━━━━━━━━━━━━━━━━━━━\u001b[0m\u001b[37m\u001b[0m \u001b[1m0s\u001b[0m 24ms/step\n",
      "Example: spam1\n",
      "SMS: Congratulations! You've won a $1,000 Walmart gift card. Go to http://bit.ly/123456 to claim now.\n",
      "Predicted Label: Spam\n",
      "Probability of spam: 70.60%\n",
      "\n",
      "\u001b[1m1/1\u001b[0m \u001b[32m━━━━━━━━━━━━━━━━━━━━\u001b[0m\u001b[37m\u001b[0m \u001b[1m0s\u001b[0m 25ms/step\n",
      "Example: ham1\n",
      "SMS: Hey, what time are we meeting tomorrow?\n",
      "Predicted Label: Non-Spam\n",
      "Probability of spam: 0.94%\n",
      "\n",
      "\u001b[1m1/1\u001b[0m \u001b[32m━━━━━━━━━━━━━━━━━━━━\u001b[0m\u001b[37m\u001b[0m \u001b[1m0s\u001b[0m 22ms/step\n",
      "Example: spam2\n",
      "SMS: Get a free iPhone by clicking on the link below!\n",
      "Predicted Label: Spam\n",
      "Probability of spam: 64.06%\n",
      "\n",
      "\u001b[1m1/1\u001b[0m \u001b[32m━━━━━━━━━━━━━━━━━━━━\u001b[0m\u001b[37m\u001b[0m \u001b[1m0s\u001b[0m 22ms/step\n",
      "Example: ham2\n",
      "SMS: Don't forget to bring your umbrella tomorrow.\n",
      "Predicted Label: Non-Spam\n",
      "Probability of spam: 3.54%\n",
      "\n",
      "\u001b[1m1/1\u001b[0m \u001b[32m━━━━━━━━━━━━━━━━━━━━\u001b[0m\u001b[37m\u001b[0m \u001b[1m0s\u001b[0m 24ms/step\n",
      "Example: spam3\n",
      "SMS: URGENT! You have won a 1 week FREE membership. Call 09061701461 now!\n",
      "Predicted Label: Spam\n",
      "Probability of spam: 97.17%\n",
      "\n",
      "\u001b[1m1/1\u001b[0m \u001b[32m━━━━━━━━━━━━━━━━━━━━\u001b[0m\u001b[37m\u001b[0m \u001b[1m0s\u001b[0m 21ms/step\n",
      "Example: ham3\n",
      "SMS: Can you send me the notes from today's meeting?\n",
      "Predicted Label: Non-Spam\n",
      "Probability of spam: 1.94%\n",
      "\n"
     ]
    }
   ],
   "source": [
    "MODEL = model_embed\n",
    "\n",
    "for key, sms in example_sms.items():\n",
    "    label, confidence = predict_sms(sms, MODEL, tokenizer)\n",
    "    print(f\"Example: {key}\\nSMS: {sms}\\nPredicted Label: {label}\\nProbability of spam: {confidence:.2f}%\\n\")"
   ]
  },
  {
   "cell_type": "code",
   "execution_count": null,
   "metadata": {},
   "outputs": [],
   "source": []
  }
 ],
 "metadata": {
  "kernelspec": {
   "display_name": "tensorflow",
   "language": "python",
   "name": "python3"
  },
  "language_info": {
   "codemirror_mode": {
    "name": "ipython",
    "version": 3
   },
   "file_extension": ".py",
   "mimetype": "text/x-python",
   "name": "python",
   "nbconvert_exporter": "python",
   "pygments_lexer": "ipython3",
   "version": "3.10.16"
  }
 },
 "nbformat": 4,
 "nbformat_minor": 2
}
